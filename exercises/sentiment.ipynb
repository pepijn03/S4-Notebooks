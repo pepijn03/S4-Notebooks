{
 "cells": [
  {
   "attachments": {},
   "cell_type": "markdown",
   "metadata": {},
   "source": [
    "<h1>Sentiment Analysis</h1>\n",
    "\n",
    "This notebook demonstrates how a text tokenizer can be used to turn a corpus of text into a matrix of numeric values that then can be used in regulat machine learning applications. This way a model can be trained to predict labels with a piece of text as input. As can be seen at the end of the notebook, a test string is used as input and the machine gives a probability for each of the possible labels.\n",
    "\n",
    "The dataset used in this notebook originates from [Kaggle](https://www.kaggle.com/datasets/tariqsays/sentiment-dataset-with-1-million-tweets). A 100000 random sample from the English negative, uncertainty and positive observations was taken, so no litigious and no other languages.\n",
    "\n",
    "Bas Michielsen MSc 2023"
   ]
  },
  {
   "cell_type": "code",
   "execution_count": 1,
   "metadata": {},
   "outputs": [],
   "source": [
    "import json\n",
    "\n",
    "import pandas, sklearn\n",
    "pandas.set_option(\"max_colwidth\", 200)\n",
    "pandas.set_option(\"display.float_format\", '{:.2f}'.format)\n",
    "random_state = 42"
   ]
  },
  {
   "attachments": {},
   "cell_type": "markdown",
   "metadata": {},
   "source": [
    "# 📃 Sample the data\n",
    "A random sample of 25 observations is taken from the dataset."
   ]
  },
  {
   "cell_type": "code",
   "execution_count": 2,
   "metadata": {},
   "outputs": [
    {
     "data": {
      "text/plain": "       Unnamed: 0.1  Unnamed: 0  \\\n90310         24221       32859   \n85301        610858      828784   \n6253         372349      505082   \n69730        105056      142623   \n20105        368157      499380   \n38437        531447      721083   \n53363        254051      344640   \n23775        101788      138181   \n93940        603455      818635   \n65201        232654      315582   \n51339        150899      204694   \n17893         18508       25078   \n98617        177525      240709   \n75215        127243      172617   \n71702        631621      856852   \n59925        424877      576302   \n10266         29964       40592   \n99609        129366      175490   \n63973        462642      627604   \n12182        124265      168633   \n79705         98443      133617   \n80219         61330       83208   \n75370        581882      789422   \n44327        253222      343534   \n33621        152096      206289   \n\n                                                                                                                                                                                                          Text  \\\n90310                                                                                                                                                             @Mayamayyyy_ I'm afraid that's not possible.   \n85301                                                                                                 @brettbutlerisok @BREW_MATHs Twins never get far post season.  Maybe their curse for using juiced balls?   \n6253                                                                                                              @AriMelber @TheBeatWithAri Trump lost the election because he couldn’t mustard enough votes.   \n69730                                                                                                                                       no bc i’m excited to see what happens in season 2 of yellowjackets   \n20105                                                                                 @29namimori The people live a moment at a risk of their life. Small mistakes would lost their lives even amount of mayo.   \n38437                                                                                                                                           MLB has the best blackout restrictions https://t.co/R9VVIWMbIu   \n53363  Siloed data, different toolsets, manual handoffs and redundant processes slow down and frustrate design teams. \\n\\nSound like your team? See how you can unleash the art of multi-disciplinary desig...   \n23775                                                                                                            Maybe I should go find a job this summer nalang instead of studying abroad? I need an income.   \n93940                                                                                                                                                           @1StrayWoo DBDKSKS yeah thatd probably be best   \n65201  @KarlvanBeek @sthnjeff Ive had a small business for over 30 years. If your business model is so poor it cant handle a public holiday and you earn less than your staff then your business model is h...   \n51339  What you make of this beautiful photograph of Bridge Street, Belfast, fantastic detail, note the gas lamps, the dress code and the old cars. Love the awnings, they are incredible. https://t.co/IyX...   \n17893  @ThanetCouncil seem hell bent on parking charges yet some places remove charges and footfall for shops increase keeping shops open! @Thanet_Retweet  @IsleThanetNews @VisitThanet but Westwood X par...   \n98617                                                                        @darthpringles @AusCan531 @TradReform not sure why you think unblocking me to make you look even more like a fool was a good idea   \n75215  @OrchardParc @SteveKrak I support Trump and I guarantee I am significantly smarter than you. And probably more educated and make way more money than you. And my first piece of evidence of that is ...   \n71702                        @ryangrim If warren wasn’t a pathological liar this might be believable.  But next you’ll tell me she was a school teach.   Or maybe was she the first woman of color at Harvard?   \n59925                             @ComplexPop Someones looking for attention bc hes actuallly done almost nothing since friends stop airing. Tryna become somewhat relevant again? \\nHes a hollywood forgotten   \n10266  List of @FordFoundation grants in North Carolina from 2006-2019.  Take away: easier to fundraise from Beltway, Bay, or NYC to do work in NC. That might be overstated.  What do you see?#narrativesw...   \n99609                        @HalifaxBank How does this improve the service to your customers? Or the experience of your staff? Particularly those who object to compelled speech. Virtue signalling nonsense.   \n63973                                                                                                                       Once again, MY BEST FRIEND IS HOTTER THAN YOUR BEST FRIEND https://t.co/JaVAuZxZgT   \n12182                                                                                                                                     man with broken english is cute bcs you wanna fix that for him??? NO   \n79705                                                                                          Happy Birthday @akaworldwide If possible,please fix things with the mother of your child .ngiyacela #BHOVAMANIA   \n80219                                                                                                             @greg_travis Ok that was 🤣 but poor kiddos, I hear monkeypox can be pretty bad in children 🥺   \n75370  @TheWolfpack71 Sir trade unions is one part of problem but the oldies on management levels are too cautious to take risks they don't want their service books to getarked with bad memo also they fe...   \n44327                                                                                                   @sparafucile0 @PeterAlexander @nycsouthpaw Too bad this is just a show trial.  Liberals are stalinist.   \n33621                              @atari_st_fan It's amazing how such a complicated games remains 100% playable 33 years later.  No issues with the gameplay, with the GUI, with the controls.  Just perfect.   \n\n      Language        Label  \n90310       en  uncertainty  \n85301       en  uncertainty  \n6253        en     negative  \n69730       en     positive  \n20105       en     negative  \n38437       en     positive  \n53363       en     positive  \n23775       en  uncertainty  \n93940       en  uncertainty  \n65201       en     negative  \n51339       en     positive  \n17893       en  uncertainty  \n98617       en     positive  \n75215       en  uncertainty  \n71702       en  uncertainty  \n59925       en  uncertainty  \n10266       en  uncertainty  \n99609       en     positive  \n63973       en     positive  \n12182       en     negative  \n79705       en  uncertainty  \n80219       en     negative  \n75370       en  uncertainty  \n44327       en     negative  \n33621       en     positive  ",
      "text/html": "<div>\n<style scoped>\n    .dataframe tbody tr th:only-of-type {\n        vertical-align: middle;\n    }\n\n    .dataframe tbody tr th {\n        vertical-align: top;\n    }\n\n    .dataframe thead th {\n        text-align: right;\n    }\n</style>\n<table border=\"1\" class=\"dataframe\">\n  <thead>\n    <tr style=\"text-align: right;\">\n      <th></th>\n      <th>Unnamed: 0.1</th>\n      <th>Unnamed: 0</th>\n      <th>Text</th>\n      <th>Language</th>\n      <th>Label</th>\n    </tr>\n  </thead>\n  <tbody>\n    <tr>\n      <th>90310</th>\n      <td>24221</td>\n      <td>32859</td>\n      <td>@Mayamayyyy_ I'm afraid that's not possible.</td>\n      <td>en</td>\n      <td>uncertainty</td>\n    </tr>\n    <tr>\n      <th>85301</th>\n      <td>610858</td>\n      <td>828784</td>\n      <td>@brettbutlerisok @BREW_MATHs Twins never get far post season.  Maybe their curse for using juiced balls?</td>\n      <td>en</td>\n      <td>uncertainty</td>\n    </tr>\n    <tr>\n      <th>6253</th>\n      <td>372349</td>\n      <td>505082</td>\n      <td>@AriMelber @TheBeatWithAri Trump lost the election because he couldn’t mustard enough votes.</td>\n      <td>en</td>\n      <td>negative</td>\n    </tr>\n    <tr>\n      <th>69730</th>\n      <td>105056</td>\n      <td>142623</td>\n      <td>no bc i’m excited to see what happens in season 2 of yellowjackets</td>\n      <td>en</td>\n      <td>positive</td>\n    </tr>\n    <tr>\n      <th>20105</th>\n      <td>368157</td>\n      <td>499380</td>\n      <td>@29namimori The people live a moment at a risk of their life. Small mistakes would lost their lives even amount of mayo.</td>\n      <td>en</td>\n      <td>negative</td>\n    </tr>\n    <tr>\n      <th>38437</th>\n      <td>531447</td>\n      <td>721083</td>\n      <td>MLB has the best blackout restrictions https://t.co/R9VVIWMbIu</td>\n      <td>en</td>\n      <td>positive</td>\n    </tr>\n    <tr>\n      <th>53363</th>\n      <td>254051</td>\n      <td>344640</td>\n      <td>Siloed data, different toolsets, manual handoffs and redundant processes slow down and frustrate design teams. \\n\\nSound like your team? See how you can unleash the art of multi-disciplinary desig...</td>\n      <td>en</td>\n      <td>positive</td>\n    </tr>\n    <tr>\n      <th>23775</th>\n      <td>101788</td>\n      <td>138181</td>\n      <td>Maybe I should go find a job this summer nalang instead of studying abroad? I need an income.</td>\n      <td>en</td>\n      <td>uncertainty</td>\n    </tr>\n    <tr>\n      <th>93940</th>\n      <td>603455</td>\n      <td>818635</td>\n      <td>@1StrayWoo DBDKSKS yeah thatd probably be best</td>\n      <td>en</td>\n      <td>uncertainty</td>\n    </tr>\n    <tr>\n      <th>65201</th>\n      <td>232654</td>\n      <td>315582</td>\n      <td>@KarlvanBeek @sthnjeff Ive had a small business for over 30 years. If your business model is so poor it cant handle a public holiday and you earn less than your staff then your business model is h...</td>\n      <td>en</td>\n      <td>negative</td>\n    </tr>\n    <tr>\n      <th>51339</th>\n      <td>150899</td>\n      <td>204694</td>\n      <td>What you make of this beautiful photograph of Bridge Street, Belfast, fantastic detail, note the gas lamps, the dress code and the old cars. Love the awnings, they are incredible. https://t.co/IyX...</td>\n      <td>en</td>\n      <td>positive</td>\n    </tr>\n    <tr>\n      <th>17893</th>\n      <td>18508</td>\n      <td>25078</td>\n      <td>@ThanetCouncil seem hell bent on parking charges yet some places remove charges and footfall for shops increase keeping shops open! @Thanet_Retweet  @IsleThanetNews @VisitThanet but Westwood X par...</td>\n      <td>en</td>\n      <td>uncertainty</td>\n    </tr>\n    <tr>\n      <th>98617</th>\n      <td>177525</td>\n      <td>240709</td>\n      <td>@darthpringles @AusCan531 @TradReform not sure why you think unblocking me to make you look even more like a fool was a good idea</td>\n      <td>en</td>\n      <td>positive</td>\n    </tr>\n    <tr>\n      <th>75215</th>\n      <td>127243</td>\n      <td>172617</td>\n      <td>@OrchardParc @SteveKrak I support Trump and I guarantee I am significantly smarter than you. And probably more educated and make way more money than you. And my first piece of evidence of that is ...</td>\n      <td>en</td>\n      <td>uncertainty</td>\n    </tr>\n    <tr>\n      <th>71702</th>\n      <td>631621</td>\n      <td>856852</td>\n      <td>@ryangrim If warren wasn’t a pathological liar this might be believable.  But next you’ll tell me she was a school teach.   Or maybe was she the first woman of color at Harvard?</td>\n      <td>en</td>\n      <td>uncertainty</td>\n    </tr>\n    <tr>\n      <th>59925</th>\n      <td>424877</td>\n      <td>576302</td>\n      <td>@ComplexPop Someones looking for attention bc hes actuallly done almost nothing since friends stop airing. Tryna become somewhat relevant again? \\nHes a hollywood forgotten</td>\n      <td>en</td>\n      <td>uncertainty</td>\n    </tr>\n    <tr>\n      <th>10266</th>\n      <td>29964</td>\n      <td>40592</td>\n      <td>List of @FordFoundation grants in North Carolina from 2006-2019.  Take away: easier to fundraise from Beltway, Bay, or NYC to do work in NC. That might be overstated.  What do you see?#narrativesw...</td>\n      <td>en</td>\n      <td>uncertainty</td>\n    </tr>\n    <tr>\n      <th>99609</th>\n      <td>129366</td>\n      <td>175490</td>\n      <td>@HalifaxBank How does this improve the service to your customers? Or the experience of your staff? Particularly those who object to compelled speech. Virtue signalling nonsense.</td>\n      <td>en</td>\n      <td>positive</td>\n    </tr>\n    <tr>\n      <th>63973</th>\n      <td>462642</td>\n      <td>627604</td>\n      <td>Once again, MY BEST FRIEND IS HOTTER THAN YOUR BEST FRIEND https://t.co/JaVAuZxZgT</td>\n      <td>en</td>\n      <td>positive</td>\n    </tr>\n    <tr>\n      <th>12182</th>\n      <td>124265</td>\n      <td>168633</td>\n      <td>man with broken english is cute bcs you wanna fix that for him??? NO</td>\n      <td>en</td>\n      <td>negative</td>\n    </tr>\n    <tr>\n      <th>79705</th>\n      <td>98443</td>\n      <td>133617</td>\n      <td>Happy Birthday @akaworldwide If possible,please fix things with the mother of your child .ngiyacela #BHOVAMANIA</td>\n      <td>en</td>\n      <td>uncertainty</td>\n    </tr>\n    <tr>\n      <th>80219</th>\n      <td>61330</td>\n      <td>83208</td>\n      <td>@greg_travis Ok that was 🤣 but poor kiddos, I hear monkeypox can be pretty bad in children 🥺</td>\n      <td>en</td>\n      <td>negative</td>\n    </tr>\n    <tr>\n      <th>75370</th>\n      <td>581882</td>\n      <td>789422</td>\n      <td>@TheWolfpack71 Sir trade unions is one part of problem but the oldies on management levels are too cautious to take risks they don't want their service books to getarked with bad memo also they fe...</td>\n      <td>en</td>\n      <td>uncertainty</td>\n    </tr>\n    <tr>\n      <th>44327</th>\n      <td>253222</td>\n      <td>343534</td>\n      <td>@sparafucile0 @PeterAlexander @nycsouthpaw Too bad this is just a show trial.  Liberals are stalinist.</td>\n      <td>en</td>\n      <td>negative</td>\n    </tr>\n    <tr>\n      <th>33621</th>\n      <td>152096</td>\n      <td>206289</td>\n      <td>@atari_st_fan It's amazing how such a complicated games remains 100% playable 33 years later.  No issues with the gameplay, with the GUI, with the controls.  Just perfect.</td>\n      <td>en</td>\n      <td>positive</td>\n    </tr>\n  </tbody>\n</table>\n</div>"
     },
     "execution_count": 2,
     "metadata": {},
     "output_type": "execute_result"
    }
   ],
   "source": [
    "df = pandas.read_csv(\"./data/data.zip\")\n",
    "df.sample(25)"
   ]
  },
  {
   "attachments": {},
   "cell_type": "markdown",
   "metadata": {},
   "source": [
    "# Preprocessing\n",
    "## 🆔 Encoding\n",
    "\n",
    "Here the labels are mapped to integers. Because one value is neutral, the value `0` is used for that, the other values then become positive `+1` and negative `-1`. A new column for target is created."
   ]
  },
  {
   "cell_type": "code",
   "execution_count": 3,
   "metadata": {},
   "outputs": [
    {
     "data": {
      "text/plain": "       Unnamed: 0.1  Unnamed: 0  \\\n25004        572338      776580   \n10765        124922      169535   \n97532        406985      552019   \n71928        423999      575112   \n38776        341005      462661   \n57751        497157      674520   \n76327        689256      935177   \n60043        636738      863756   \n69831        679627      922230   \n46400        306267      415677   \n\n                                                                                                                                                                                                          Text  \\\n25004                                                                                           \"Leadership is about going somewhere ... \\nFull Steam Ahead! - https://t.co/1XtQMuv14N https://t.co/4KgrXVcvkU   \n10765  @fakehockeyteam Calling people out, to their faces, and having high standards is now bad in a world where people endlessly talk shit about each other online.\\n\\nSetting expectations, leading by ex...   \n97532                                                                                                                           @deliot8 @MrMekzy_ This picture is everything... A food photographers dream 🖤🖤   \n71928  Wawa’s #databreach highlights the special risks posed by gas station pumps. Exposed, unattended &amp; expensive to upgrade, pumps are prime targets for payment card thieves. #cybersecurity https:/...   \n38776                                                                                                      I almost forgot what music sounds like... y’all sure it’s been 4 years??? 😔 https://t.co/VyY0a5xwEl   \n57751  A no brainer. Sam has one of the best young basketball minds around &amp; is going to do incredible things at Kirkwood. Let’s get to it! @SamBriscoe3  Once a Pioneer always a Pioneer, eh? https://...   \n76327                                                                                                                                          @Fojim13 Poor jimin \\nNobody want him 😹 https://t.co/auStgb3zh9   \n60043                @GOGUYGO_ Thanks again buddy and I hope you feel fantastic with @rokwhiskey . For me is like an inspiration, like an american dream. \\nAnd many times, the dreams are happen in our life.   \n69831                                                              @StevenTDennis https://t.co/qzIfMuhHFJ is probably breaking the news that Alexandria Ocasio-Cortez is actually Trump's biological daughter.   \n46400                                                                                                                                @troyhill91 @trfcste @Yami5trfc Slightly bigger maybe, much bigger behave   \n\n      Language        Label  Target  \n25004       en  uncertainty       0  \n10765       en     negative      -1  \n97532       en     positive       1  \n71928       en  uncertainty       0  \n38776       en  uncertainty       0  \n57751       en     positive       1  \n76327       en     negative      -1  \n60043       en     positive       1  \n69831       en  uncertainty       0  \n46400       en  uncertainty       0  ",
      "text/html": "<div>\n<style scoped>\n    .dataframe tbody tr th:only-of-type {\n        vertical-align: middle;\n    }\n\n    .dataframe tbody tr th {\n        vertical-align: top;\n    }\n\n    .dataframe thead th {\n        text-align: right;\n    }\n</style>\n<table border=\"1\" class=\"dataframe\">\n  <thead>\n    <tr style=\"text-align: right;\">\n      <th></th>\n      <th>Unnamed: 0.1</th>\n      <th>Unnamed: 0</th>\n      <th>Text</th>\n      <th>Language</th>\n      <th>Label</th>\n      <th>Target</th>\n    </tr>\n  </thead>\n  <tbody>\n    <tr>\n      <th>25004</th>\n      <td>572338</td>\n      <td>776580</td>\n      <td>\"Leadership is about going somewhere ... \\nFull Steam Ahead! - https://t.co/1XtQMuv14N https://t.co/4KgrXVcvkU</td>\n      <td>en</td>\n      <td>uncertainty</td>\n      <td>0</td>\n    </tr>\n    <tr>\n      <th>10765</th>\n      <td>124922</td>\n      <td>169535</td>\n      <td>@fakehockeyteam Calling people out, to their faces, and having high standards is now bad in a world where people endlessly talk shit about each other online.\\n\\nSetting expectations, leading by ex...</td>\n      <td>en</td>\n      <td>negative</td>\n      <td>-1</td>\n    </tr>\n    <tr>\n      <th>97532</th>\n      <td>406985</td>\n      <td>552019</td>\n      <td>@deliot8 @MrMekzy_ This picture is everything... A food photographers dream 🖤🖤</td>\n      <td>en</td>\n      <td>positive</td>\n      <td>1</td>\n    </tr>\n    <tr>\n      <th>71928</th>\n      <td>423999</td>\n      <td>575112</td>\n      <td>Wawa’s #databreach highlights the special risks posed by gas station pumps. Exposed, unattended &amp;amp; expensive to upgrade, pumps are prime targets for payment card thieves. #cybersecurity https:/...</td>\n      <td>en</td>\n      <td>uncertainty</td>\n      <td>0</td>\n    </tr>\n    <tr>\n      <th>38776</th>\n      <td>341005</td>\n      <td>462661</td>\n      <td>I almost forgot what music sounds like... y’all sure it’s been 4 years??? 😔 https://t.co/VyY0a5xwEl</td>\n      <td>en</td>\n      <td>uncertainty</td>\n      <td>0</td>\n    </tr>\n    <tr>\n      <th>57751</th>\n      <td>497157</td>\n      <td>674520</td>\n      <td>A no brainer. Sam has one of the best young basketball minds around &amp;amp; is going to do incredible things at Kirkwood. Let’s get to it! @SamBriscoe3  Once a Pioneer always a Pioneer, eh? https://...</td>\n      <td>en</td>\n      <td>positive</td>\n      <td>1</td>\n    </tr>\n    <tr>\n      <th>76327</th>\n      <td>689256</td>\n      <td>935177</td>\n      <td>@Fojim13 Poor jimin \\nNobody want him 😹 https://t.co/auStgb3zh9</td>\n      <td>en</td>\n      <td>negative</td>\n      <td>-1</td>\n    </tr>\n    <tr>\n      <th>60043</th>\n      <td>636738</td>\n      <td>863756</td>\n      <td>@GOGUYGO_ Thanks again buddy and I hope you feel fantastic with @rokwhiskey . For me is like an inspiration, like an american dream. \\nAnd many times, the dreams are happen in our life.</td>\n      <td>en</td>\n      <td>positive</td>\n      <td>1</td>\n    </tr>\n    <tr>\n      <th>69831</th>\n      <td>679627</td>\n      <td>922230</td>\n      <td>@StevenTDennis https://t.co/qzIfMuhHFJ is probably breaking the news that Alexandria Ocasio-Cortez is actually Trump's biological daughter.</td>\n      <td>en</td>\n      <td>uncertainty</td>\n      <td>0</td>\n    </tr>\n    <tr>\n      <th>46400</th>\n      <td>306267</td>\n      <td>415677</td>\n      <td>@troyhill91 @trfcste @Yami5trfc Slightly bigger maybe, much bigger behave</td>\n      <td>en</td>\n      <td>uncertainty</td>\n      <td>0</td>\n    </tr>\n  </tbody>\n</table>\n</div>"
     },
     "execution_count": 3,
     "metadata": {},
     "output_type": "execute_result"
    }
   ],
   "source": [
    "label_map = {\"negative\": -1, \"uncertainty\": 0, \"positive\": 1}\n",
    "df[\"Target\"] = df[\"Label\"].map(label_map)\n",
    "df.sample(10)"
   ]
  },
  {
   "attachments": {},
   "cell_type": "markdown",
   "metadata": {},
   "source": [
    "In order to decrease training time, here a sample size of 5000 observation is specified. Also, the vectorizer is limited to a maximum of 100 words. Technically it is possible to increase these values at the cost of training time and possibly increasing the outcome quality, however, in this case even dramatic increases seemed to create mere insignificant improvements. The vectorizer then turns the corpus of texts (5000 observations) in numeric representations for the 100 most prominent words excluding the stop words of the English language. For every observation it will give a `0` for any word that is not present in the observation, or a higher value for a word that is. The expected shape of the output is therefore 5000 times 100 values."
   ]
  },
  {
   "cell_type": "code",
   "execution_count": 4,
   "metadata": {},
   "outputs": [
    {
     "data": {
      "text/plain": "(5000, 100)"
     },
     "execution_count": 4,
     "metadata": {},
     "output_type": "execute_result"
    }
   ],
   "source": [
    "sample_size = 5000\n",
    "max_words = 100\n",
    "min_df = .01\n",
    "\n",
    "df = df.sample(sample_size, random_state=random_state)\n",
    "from sklearn.feature_extraction.text import TfidfVectorizer\n",
    "vectorizer = TfidfVectorizer(max_features=max_words, min_df=min_df, stop_words=\"english\")\n",
    "X_vectorized = vectorizer.fit_transform(df[\"Text\"]).toarray()\n",
    "X_vectorized.shape"
   ]
  },
  {
   "attachments": {},
   "cell_type": "markdown",
   "metadata": {},
   "source": [
    "Because the vectorizer removed the original text from the observation it is added again here. This is done so that the same data can be used also for test evaluation purposes by humans."
   ]
  },
  {
   "cell_type": "code",
   "execution_count": 5,
   "metadata": {},
   "outputs": [
    {
     "data": {
      "text/plain": "      0    1    2    3    4    5    6    7    8    9    ...  91   92   93   \\\n0    0.00 0.00 0.00 0.00 0.00 0.28 0.00 0.00 0.00 0.00  ... 0.00 0.00 0.00   \n1    0.00 0.00 0.00 0.00 0.00 0.00 0.00 0.00 0.00 0.00  ... 0.00 0.00 0.00   \n2    0.00 0.00 0.00 0.00 0.00 0.00 0.00 0.00 0.00 0.00  ... 0.00 0.00 0.00   \n3    0.00 0.00 0.00 0.00 0.00 0.00 0.00 0.00 0.00 0.00  ... 0.00 0.00 0.00   \n4    0.00 0.00 0.00 0.00 0.00 0.00 0.00 0.00 0.00 0.00  ... 0.00 0.00 0.00   \n...   ...  ...  ...  ...  ...  ...  ...  ...  ...  ...  ...  ...  ...  ...   \n4995 0.00 0.00 0.00 0.00 0.00 0.00 0.00 0.00 0.00 0.00  ... 0.00 0.00 0.00   \n4996 0.00 0.00 0.00 0.00 0.00 0.00 0.00 0.00 0.00 0.00  ... 0.00 0.00 0.00   \n4997 0.00 0.00 0.00 0.45 0.00 0.00 0.00 0.00 0.00 0.00  ... 0.00 0.00 0.00   \n4998 0.00 0.00 0.00 0.00 0.00 0.00 0.00 0.00 0.00 0.00  ... 0.00 0.00 0.00   \n4999 0.00 0.56 0.00 0.00 0.00 0.00 0.00 0.00 0.00 0.00  ... 0.00 0.00 0.00   \n\n      94   95   96   97   98   99   \\\n0    0.00 0.00 0.00 0.00 0.00 0.00   \n1    0.00 0.00 0.00 0.00 0.00 0.00   \n2    0.00 0.00 0.00 0.00 0.00 0.00   \n3    0.00 0.00 0.00 0.00 0.00 0.00   \n4    0.00 0.00 0.00 0.00 0.00 0.00   \n...   ...  ...  ...  ...  ...  ...   \n4995 0.00 0.00 0.00 0.00 0.00 0.00   \n4996 0.00 0.00 0.00 0.00 0.00 0.00   \n4997 0.00 0.00 0.00 0.00 0.00 0.00   \n4998 0.00 0.00 0.00 0.00 0.00 0.00   \n4999 0.00 0.00 0.00 0.00 0.00 0.00   \n\n                                                                                                                                                                                                          100  \n0     4/ Product Risk is the risk that your founding insight will not be powerful enough for you to achieve product-market fit.\\n\\nThe best market-risk companies have evidence that there will be demand ...  \n1     People are not having Good nutritional food in school and old age centers \\n\\nAgencies take Bottled water and throw in Airport \\n\\nThanks to Rules\\n\\nCooked food is thrown away as Trash each night...  \n2                                                                                                                                               @fletch_biggsss Fletcher u probably still suck dick for Xanax  \n3                                                                                                                                                 @WlTCHOFSCARLET \"Your right. That wouldn't be a good idea.\"  \n4     @elgoonishshive @shadowraptor51 99.999% of all the drama and problems in the Herald's books are the direct result evil acts by evil people for the sake of power, almost nothing (with a very few ve...  \n...                                                                                                                                                                                                       ...  \n4995  @PACinTX @DNC @SpeakerPelosi @SenSchumer @RepAdamSchiff @KamalaHarris @DickDurbin @TeamPelosi @JoeBiden @tedlieu @CNN Which is why the president is probably promoting Johnson and Johnson… Because ...  \n4996  @Zakiyyah6 I almost made the tomb raider uncharted comparison but went with assassins creed and witcher because i am playing witcher 3. Also take out the swinging and spiderman PS4 is basically a ...  \n4997                                                                                    @atinyseongstar I got ateez audience 🥹 I’m so excited to see them, but still a little sad at how fast m&amp;g went 🥲🖤  \n4998  @PennieRoyalTea @StandingforXX @RepanseDe Nope. But keep trying to pigeon-hole me if it helps you. I don't mind replying.\\n\\nHere's a question for you, since I'm answering all yours. What is a tra...  \n4999  @unhealthytruth Prayers are with her. And all who speak up. For what they have done to the human race  is unspeakable. We thank her for her bravery. \\nForgive us if we don't consider this an accid...  \n\n[5000 rows x 101 columns]",
      "text/html": "<div>\n<style scoped>\n    .dataframe tbody tr th:only-of-type {\n        vertical-align: middle;\n    }\n\n    .dataframe tbody tr th {\n        vertical-align: top;\n    }\n\n    .dataframe thead th {\n        text-align: right;\n    }\n</style>\n<table border=\"1\" class=\"dataframe\">\n  <thead>\n    <tr style=\"text-align: right;\">\n      <th></th>\n      <th>0</th>\n      <th>1</th>\n      <th>2</th>\n      <th>3</th>\n      <th>4</th>\n      <th>5</th>\n      <th>6</th>\n      <th>7</th>\n      <th>8</th>\n      <th>9</th>\n      <th>...</th>\n      <th>91</th>\n      <th>92</th>\n      <th>93</th>\n      <th>94</th>\n      <th>95</th>\n      <th>96</th>\n      <th>97</th>\n      <th>98</th>\n      <th>99</th>\n      <th>100</th>\n    </tr>\n  </thead>\n  <tbody>\n    <tr>\n      <th>0</th>\n      <td>0.00</td>\n      <td>0.00</td>\n      <td>0.00</td>\n      <td>0.00</td>\n      <td>0.00</td>\n      <td>0.28</td>\n      <td>0.00</td>\n      <td>0.00</td>\n      <td>0.00</td>\n      <td>0.00</td>\n      <td>...</td>\n      <td>0.00</td>\n      <td>0.00</td>\n      <td>0.00</td>\n      <td>0.00</td>\n      <td>0.00</td>\n      <td>0.00</td>\n      <td>0.00</td>\n      <td>0.00</td>\n      <td>0.00</td>\n      <td>4/ Product Risk is the risk that your founding insight will not be powerful enough for you to achieve product-market fit.\\n\\nThe best market-risk companies have evidence that there will be demand ...</td>\n    </tr>\n    <tr>\n      <th>1</th>\n      <td>0.00</td>\n      <td>0.00</td>\n      <td>0.00</td>\n      <td>0.00</td>\n      <td>0.00</td>\n      <td>0.00</td>\n      <td>0.00</td>\n      <td>0.00</td>\n      <td>0.00</td>\n      <td>0.00</td>\n      <td>...</td>\n      <td>0.00</td>\n      <td>0.00</td>\n      <td>0.00</td>\n      <td>0.00</td>\n      <td>0.00</td>\n      <td>0.00</td>\n      <td>0.00</td>\n      <td>0.00</td>\n      <td>0.00</td>\n      <td>People are not having Good nutritional food in school and old age centers \\n\\nAgencies take Bottled water and throw in Airport \\n\\nThanks to Rules\\n\\nCooked food is thrown away as Trash each night...</td>\n    </tr>\n    <tr>\n      <th>2</th>\n      <td>0.00</td>\n      <td>0.00</td>\n      <td>0.00</td>\n      <td>0.00</td>\n      <td>0.00</td>\n      <td>0.00</td>\n      <td>0.00</td>\n      <td>0.00</td>\n      <td>0.00</td>\n      <td>0.00</td>\n      <td>...</td>\n      <td>0.00</td>\n      <td>0.00</td>\n      <td>0.00</td>\n      <td>0.00</td>\n      <td>0.00</td>\n      <td>0.00</td>\n      <td>0.00</td>\n      <td>0.00</td>\n      <td>0.00</td>\n      <td>@fletch_biggsss Fletcher u probably still suck dick for Xanax</td>\n    </tr>\n    <tr>\n      <th>3</th>\n      <td>0.00</td>\n      <td>0.00</td>\n      <td>0.00</td>\n      <td>0.00</td>\n      <td>0.00</td>\n      <td>0.00</td>\n      <td>0.00</td>\n      <td>0.00</td>\n      <td>0.00</td>\n      <td>0.00</td>\n      <td>...</td>\n      <td>0.00</td>\n      <td>0.00</td>\n      <td>0.00</td>\n      <td>0.00</td>\n      <td>0.00</td>\n      <td>0.00</td>\n      <td>0.00</td>\n      <td>0.00</td>\n      <td>0.00</td>\n      <td>@WlTCHOFSCARLET \"Your right. That wouldn't be a good idea.\"</td>\n    </tr>\n    <tr>\n      <th>4</th>\n      <td>0.00</td>\n      <td>0.00</td>\n      <td>0.00</td>\n      <td>0.00</td>\n      <td>0.00</td>\n      <td>0.00</td>\n      <td>0.00</td>\n      <td>0.00</td>\n      <td>0.00</td>\n      <td>0.00</td>\n      <td>...</td>\n      <td>0.00</td>\n      <td>0.00</td>\n      <td>0.00</td>\n      <td>0.00</td>\n      <td>0.00</td>\n      <td>0.00</td>\n      <td>0.00</td>\n      <td>0.00</td>\n      <td>0.00</td>\n      <td>@elgoonishshive @shadowraptor51 99.999% of all the drama and problems in the Herald's books are the direct result evil acts by evil people for the sake of power, almost nothing (with a very few ve...</td>\n    </tr>\n    <tr>\n      <th>...</th>\n      <td>...</td>\n      <td>...</td>\n      <td>...</td>\n      <td>...</td>\n      <td>...</td>\n      <td>...</td>\n      <td>...</td>\n      <td>...</td>\n      <td>...</td>\n      <td>...</td>\n      <td>...</td>\n      <td>...</td>\n      <td>...</td>\n      <td>...</td>\n      <td>...</td>\n      <td>...</td>\n      <td>...</td>\n      <td>...</td>\n      <td>...</td>\n      <td>...</td>\n      <td>...</td>\n    </tr>\n    <tr>\n      <th>4995</th>\n      <td>0.00</td>\n      <td>0.00</td>\n      <td>0.00</td>\n      <td>0.00</td>\n      <td>0.00</td>\n      <td>0.00</td>\n      <td>0.00</td>\n      <td>0.00</td>\n      <td>0.00</td>\n      <td>0.00</td>\n      <td>...</td>\n      <td>0.00</td>\n      <td>0.00</td>\n      <td>0.00</td>\n      <td>0.00</td>\n      <td>0.00</td>\n      <td>0.00</td>\n      <td>0.00</td>\n      <td>0.00</td>\n      <td>0.00</td>\n      <td>@PACinTX @DNC @SpeakerPelosi @SenSchumer @RepAdamSchiff @KamalaHarris @DickDurbin @TeamPelosi @JoeBiden @tedlieu @CNN Which is why the president is probably promoting Johnson and Johnson… Because ...</td>\n    </tr>\n    <tr>\n      <th>4996</th>\n      <td>0.00</td>\n      <td>0.00</td>\n      <td>0.00</td>\n      <td>0.00</td>\n      <td>0.00</td>\n      <td>0.00</td>\n      <td>0.00</td>\n      <td>0.00</td>\n      <td>0.00</td>\n      <td>0.00</td>\n      <td>...</td>\n      <td>0.00</td>\n      <td>0.00</td>\n      <td>0.00</td>\n      <td>0.00</td>\n      <td>0.00</td>\n      <td>0.00</td>\n      <td>0.00</td>\n      <td>0.00</td>\n      <td>0.00</td>\n      <td>@Zakiyyah6 I almost made the tomb raider uncharted comparison but went with assassins creed and witcher because i am playing witcher 3. Also take out the swinging and spiderman PS4 is basically a ...</td>\n    </tr>\n    <tr>\n      <th>4997</th>\n      <td>0.00</td>\n      <td>0.00</td>\n      <td>0.00</td>\n      <td>0.45</td>\n      <td>0.00</td>\n      <td>0.00</td>\n      <td>0.00</td>\n      <td>0.00</td>\n      <td>0.00</td>\n      <td>0.00</td>\n      <td>...</td>\n      <td>0.00</td>\n      <td>0.00</td>\n      <td>0.00</td>\n      <td>0.00</td>\n      <td>0.00</td>\n      <td>0.00</td>\n      <td>0.00</td>\n      <td>0.00</td>\n      <td>0.00</td>\n      <td>@atinyseongstar I got ateez audience 🥹 I’m so excited to see them, but still a little sad at how fast m&amp;amp;g went 🥲🖤</td>\n    </tr>\n    <tr>\n      <th>4998</th>\n      <td>0.00</td>\n      <td>0.00</td>\n      <td>0.00</td>\n      <td>0.00</td>\n      <td>0.00</td>\n      <td>0.00</td>\n      <td>0.00</td>\n      <td>0.00</td>\n      <td>0.00</td>\n      <td>0.00</td>\n      <td>...</td>\n      <td>0.00</td>\n      <td>0.00</td>\n      <td>0.00</td>\n      <td>0.00</td>\n      <td>0.00</td>\n      <td>0.00</td>\n      <td>0.00</td>\n      <td>0.00</td>\n      <td>0.00</td>\n      <td>@PennieRoyalTea @StandingforXX @RepanseDe Nope. But keep trying to pigeon-hole me if it helps you. I don't mind replying.\\n\\nHere's a question for you, since I'm answering all yours. What is a tra...</td>\n    </tr>\n    <tr>\n      <th>4999</th>\n      <td>0.00</td>\n      <td>0.56</td>\n      <td>0.00</td>\n      <td>0.00</td>\n      <td>0.00</td>\n      <td>0.00</td>\n      <td>0.00</td>\n      <td>0.00</td>\n      <td>0.00</td>\n      <td>0.00</td>\n      <td>...</td>\n      <td>0.00</td>\n      <td>0.00</td>\n      <td>0.00</td>\n      <td>0.00</td>\n      <td>0.00</td>\n      <td>0.00</td>\n      <td>0.00</td>\n      <td>0.00</td>\n      <td>0.00</td>\n      <td>@unhealthytruth Prayers are with her. And all who speak up. For what they have done to the human race  is unspeakable. We thank her for her bravery. \\nForgive us if we don't consider this an accid...</td>\n    </tr>\n  </tbody>\n</table>\n<p>5000 rows × 101 columns</p>\n</div>"
     },
     "execution_count": 5,
     "metadata": {},
     "output_type": "execute_result"
    }
   ],
   "source": [
    "X = pandas.DataFrame(X_vectorized)\n",
    "X[max_words] = df[\"Text\"].values\n",
    "y = df[\"Target\"]\n",
    "X"
   ]
  },
  {
   "attachments": {},
   "cell_type": "markdown",
   "metadata": {},
   "source": [
    "## 🪓 Splitting into train/test\n",
    "\n",
    "Here the dataset is split into a train set and a test set. From the train set the original text will be removed again, as this is not a numeric feature and cannot be used in training."
   ]
  },
  {
   "cell_type": "code",
   "execution_count": 6,
   "metadata": {},
   "outputs": [
    {
     "data": {
      "text/plain": "       0    1    2    3    4    5    6    7    8    9   ...   90   91   92  \\\n4227 0.00 0.00 0.00 0.00 0.00 0.00 0.00 0.00 0.00 0.00  ... 0.00 0.00 0.00   \n4676 0.00 0.00 0.00 0.00 0.00 0.00 0.00 0.00 0.00 0.00  ... 0.00 0.00 0.00   \n800  0.00 0.00 0.00 0.00 0.00 0.00 0.00 0.00 0.00 0.00  ... 0.00 0.00 0.00   \n3671 0.00 0.40 0.00 0.00 0.00 0.00 0.00 0.48 0.00 0.00  ... 0.00 0.00 0.00   \n4193 0.00 0.00 0.00 0.00 0.00 0.00 0.00 0.00 0.00 0.00  ... 0.00 0.00 0.00   \n...   ...  ...  ...  ...  ...  ...  ...  ...  ...  ...  ...  ...  ...  ...   \n4426 0.00 0.00 0.00 0.00 0.00 0.00 0.00 0.00 0.00 0.00  ... 0.00 0.00 0.00   \n466  0.00 0.00 0.00 0.00 0.66 0.00 0.00 0.00 0.00 0.00  ... 0.00 0.00 0.00   \n3092 0.00 0.00 0.00 0.00 0.00 0.00 0.00 0.00 0.00 0.00  ... 0.00 0.00 0.00   \n3772 0.00 0.00 0.00 0.00 0.00 0.00 0.00 0.00 0.00 0.00  ... 0.00 0.70 0.00   \n860  0.00 0.00 0.00 0.00 0.00 0.57 0.00 0.00 0.00 0.00  ... 0.00 0.00 0.00   \n\n       93   94   95   96   97   98   99  \n4227 0.00 0.00 0.00 0.00 0.00 0.00 0.00  \n4676 0.00 0.00 0.00 0.00 0.00 0.00 0.00  \n800  0.00 0.00 0.00 0.00 0.00 0.00 0.00  \n3671 0.00 0.00 0.00 0.00 0.00 0.00 0.00  \n4193 0.00 0.00 0.00 0.00 0.00 0.00 0.00  \n...   ...  ...  ...  ...  ...  ...  ...  \n4426 0.00 0.00 0.00 0.00 0.00 0.00 0.00  \n466  0.00 0.00 0.00 0.00 0.00 0.00 0.00  \n3092 0.00 0.00 0.00 0.00 0.00 0.00 0.00  \n3772 0.00 0.00 0.00 0.00 0.00 0.00 0.00  \n860  0.00 0.00 0.00 0.00 0.00 0.00 0.00  \n\n[4000 rows x 100 columns]",
      "text/html": "<div>\n<style scoped>\n    .dataframe tbody tr th:only-of-type {\n        vertical-align: middle;\n    }\n\n    .dataframe tbody tr th {\n        vertical-align: top;\n    }\n\n    .dataframe thead th {\n        text-align: right;\n    }\n</style>\n<table border=\"1\" class=\"dataframe\">\n  <thead>\n    <tr style=\"text-align: right;\">\n      <th></th>\n      <th>0</th>\n      <th>1</th>\n      <th>2</th>\n      <th>3</th>\n      <th>4</th>\n      <th>5</th>\n      <th>6</th>\n      <th>7</th>\n      <th>8</th>\n      <th>9</th>\n      <th>...</th>\n      <th>90</th>\n      <th>91</th>\n      <th>92</th>\n      <th>93</th>\n      <th>94</th>\n      <th>95</th>\n      <th>96</th>\n      <th>97</th>\n      <th>98</th>\n      <th>99</th>\n    </tr>\n  </thead>\n  <tbody>\n    <tr>\n      <th>4227</th>\n      <td>0.00</td>\n      <td>0.00</td>\n      <td>0.00</td>\n      <td>0.00</td>\n      <td>0.00</td>\n      <td>0.00</td>\n      <td>0.00</td>\n      <td>0.00</td>\n      <td>0.00</td>\n      <td>0.00</td>\n      <td>...</td>\n      <td>0.00</td>\n      <td>0.00</td>\n      <td>0.00</td>\n      <td>0.00</td>\n      <td>0.00</td>\n      <td>0.00</td>\n      <td>0.00</td>\n      <td>0.00</td>\n      <td>0.00</td>\n      <td>0.00</td>\n    </tr>\n    <tr>\n      <th>4676</th>\n      <td>0.00</td>\n      <td>0.00</td>\n      <td>0.00</td>\n      <td>0.00</td>\n      <td>0.00</td>\n      <td>0.00</td>\n      <td>0.00</td>\n      <td>0.00</td>\n      <td>0.00</td>\n      <td>0.00</td>\n      <td>...</td>\n      <td>0.00</td>\n      <td>0.00</td>\n      <td>0.00</td>\n      <td>0.00</td>\n      <td>0.00</td>\n      <td>0.00</td>\n      <td>0.00</td>\n      <td>0.00</td>\n      <td>0.00</td>\n      <td>0.00</td>\n    </tr>\n    <tr>\n      <th>800</th>\n      <td>0.00</td>\n      <td>0.00</td>\n      <td>0.00</td>\n      <td>0.00</td>\n      <td>0.00</td>\n      <td>0.00</td>\n      <td>0.00</td>\n      <td>0.00</td>\n      <td>0.00</td>\n      <td>0.00</td>\n      <td>...</td>\n      <td>0.00</td>\n      <td>0.00</td>\n      <td>0.00</td>\n      <td>0.00</td>\n      <td>0.00</td>\n      <td>0.00</td>\n      <td>0.00</td>\n      <td>0.00</td>\n      <td>0.00</td>\n      <td>0.00</td>\n    </tr>\n    <tr>\n      <th>3671</th>\n      <td>0.00</td>\n      <td>0.40</td>\n      <td>0.00</td>\n      <td>0.00</td>\n      <td>0.00</td>\n      <td>0.00</td>\n      <td>0.00</td>\n      <td>0.48</td>\n      <td>0.00</td>\n      <td>0.00</td>\n      <td>...</td>\n      <td>0.00</td>\n      <td>0.00</td>\n      <td>0.00</td>\n      <td>0.00</td>\n      <td>0.00</td>\n      <td>0.00</td>\n      <td>0.00</td>\n      <td>0.00</td>\n      <td>0.00</td>\n      <td>0.00</td>\n    </tr>\n    <tr>\n      <th>4193</th>\n      <td>0.00</td>\n      <td>0.00</td>\n      <td>0.00</td>\n      <td>0.00</td>\n      <td>0.00</td>\n      <td>0.00</td>\n      <td>0.00</td>\n      <td>0.00</td>\n      <td>0.00</td>\n      <td>0.00</td>\n      <td>...</td>\n      <td>0.00</td>\n      <td>0.00</td>\n      <td>0.00</td>\n      <td>0.00</td>\n      <td>0.00</td>\n      <td>0.00</td>\n      <td>0.00</td>\n      <td>0.00</td>\n      <td>0.00</td>\n      <td>0.00</td>\n    </tr>\n    <tr>\n      <th>...</th>\n      <td>...</td>\n      <td>...</td>\n      <td>...</td>\n      <td>...</td>\n      <td>...</td>\n      <td>...</td>\n      <td>...</td>\n      <td>...</td>\n      <td>...</td>\n      <td>...</td>\n      <td>...</td>\n      <td>...</td>\n      <td>...</td>\n      <td>...</td>\n      <td>...</td>\n      <td>...</td>\n      <td>...</td>\n      <td>...</td>\n      <td>...</td>\n      <td>...</td>\n      <td>...</td>\n    </tr>\n    <tr>\n      <th>4426</th>\n      <td>0.00</td>\n      <td>0.00</td>\n      <td>0.00</td>\n      <td>0.00</td>\n      <td>0.00</td>\n      <td>0.00</td>\n      <td>0.00</td>\n      <td>0.00</td>\n      <td>0.00</td>\n      <td>0.00</td>\n      <td>...</td>\n      <td>0.00</td>\n      <td>0.00</td>\n      <td>0.00</td>\n      <td>0.00</td>\n      <td>0.00</td>\n      <td>0.00</td>\n      <td>0.00</td>\n      <td>0.00</td>\n      <td>0.00</td>\n      <td>0.00</td>\n    </tr>\n    <tr>\n      <th>466</th>\n      <td>0.00</td>\n      <td>0.00</td>\n      <td>0.00</td>\n      <td>0.00</td>\n      <td>0.66</td>\n      <td>0.00</td>\n      <td>0.00</td>\n      <td>0.00</td>\n      <td>0.00</td>\n      <td>0.00</td>\n      <td>...</td>\n      <td>0.00</td>\n      <td>0.00</td>\n      <td>0.00</td>\n      <td>0.00</td>\n      <td>0.00</td>\n      <td>0.00</td>\n      <td>0.00</td>\n      <td>0.00</td>\n      <td>0.00</td>\n      <td>0.00</td>\n    </tr>\n    <tr>\n      <th>3092</th>\n      <td>0.00</td>\n      <td>0.00</td>\n      <td>0.00</td>\n      <td>0.00</td>\n      <td>0.00</td>\n      <td>0.00</td>\n      <td>0.00</td>\n      <td>0.00</td>\n      <td>0.00</td>\n      <td>0.00</td>\n      <td>...</td>\n      <td>0.00</td>\n      <td>0.00</td>\n      <td>0.00</td>\n      <td>0.00</td>\n      <td>0.00</td>\n      <td>0.00</td>\n      <td>0.00</td>\n      <td>0.00</td>\n      <td>0.00</td>\n      <td>0.00</td>\n    </tr>\n    <tr>\n      <th>3772</th>\n      <td>0.00</td>\n      <td>0.00</td>\n      <td>0.00</td>\n      <td>0.00</td>\n      <td>0.00</td>\n      <td>0.00</td>\n      <td>0.00</td>\n      <td>0.00</td>\n      <td>0.00</td>\n      <td>0.00</td>\n      <td>...</td>\n      <td>0.00</td>\n      <td>0.70</td>\n      <td>0.00</td>\n      <td>0.00</td>\n      <td>0.00</td>\n      <td>0.00</td>\n      <td>0.00</td>\n      <td>0.00</td>\n      <td>0.00</td>\n      <td>0.00</td>\n    </tr>\n    <tr>\n      <th>860</th>\n      <td>0.00</td>\n      <td>0.00</td>\n      <td>0.00</td>\n      <td>0.00</td>\n      <td>0.00</td>\n      <td>0.57</td>\n      <td>0.00</td>\n      <td>0.00</td>\n      <td>0.00</td>\n      <td>0.00</td>\n      <td>...</td>\n      <td>0.00</td>\n      <td>0.00</td>\n      <td>0.00</td>\n      <td>0.00</td>\n      <td>0.00</td>\n      <td>0.00</td>\n      <td>0.00</td>\n      <td>0.00</td>\n      <td>0.00</td>\n      <td>0.00</td>\n    </tr>\n  </tbody>\n</table>\n<p>4000 rows × 100 columns</p>\n</div>"
     },
     "execution_count": 6,
     "metadata": {},
     "output_type": "execute_result"
    }
   ],
   "source": [
    "from sklearn.model_selection import train_test_split\n",
    "X_train, X_test, y_train, y_test = train_test_split(X, y, test_size=.2, random_state=random_state)\n",
    "X_train = X_train.drop([max_words], axis=1)\n",
    "X_train"
   ]
  },
  {
   "attachments": {},
   "cell_type": "markdown",
   "metadata": {},
   "source": [
    "# Modelling\n",
    "Given that the target variable is a scale going from negative to positive but uses classes, the sigmoid kernel is likely best suited for this problem. The class_weight hyper parameter ensures that the weight is recalculated for each class."
   ]
  },
  {
   "cell_type": "code",
   "execution_count": 7,
   "metadata": {},
   "outputs": [
    {
     "name": "stdout",
     "output_type": "stream",
     "text": [
      "Accuracy: 0.934\n"
     ]
    }
   ],
   "source": [
    "from sklearn.svm import SVC\n",
    "model = SVC(kernel=\"sigmoid\", probability=True, class_weight=\"balanced\")\n",
    "model.fit(X_train, y_train)\n",
    "X_test_messages = X_test[max_words]\n",
    "X_test = X_test.drop([max_words], axis=1)\n",
    "score = model.score(X_test, y_test)\n",
    "print(\"Accuracy:\", score)"
   ]
  },
  {
   "attachments": {},
   "cell_type": "markdown",
   "metadata": {},
   "source": [
    "# Evaluation\n",
    "Now, for every observation in the test set a prediction is given. Also the truth value, and the original text are included. For brevity reasons only a random sample of 50 is displayed."
   ]
  },
  {
   "cell_type": "code",
   "execution_count": 8,
   "metadata": {},
   "outputs": [
    {
     "data": {
      "text/plain": "     negative  uncertainty  positive        truth  \\\n456      0.82         0.14      0.04     negative   \n921      0.11         0.76      0.12  uncertainty   \n711      0.02         0.26      0.73     positive   \n272      0.00         0.06      0.93     positive   \n251      0.97         0.03      0.00     negative   \n881      0.00         0.00      1.00     positive   \n940      0.00         0.00      1.00     positive   \n969      0.00         1.00      0.00  uncertainty   \n598      0.01         0.23      0.76     positive   \n489      1.00         0.00      0.00     negative   \n418      0.01         0.15      0.84     positive   \n399      0.99         0.01      0.00     negative   \n768      0.90         0.09      0.01     negative   \n818      0.99         0.01      0.00     negative   \n754      0.00         0.01      0.99     positive   \n329      0.00         0.02      0.98     positive   \n162      0.00         0.99      0.01  uncertainty   \n434      0.02         0.31      0.67     positive   \n53       0.00         0.00      1.00     positive   \n816      0.92         0.08      0.01     negative   \n75       0.01         0.99      0.00  uncertainty   \n856      0.01         0.04      0.95     positive   \n475      0.14         0.75      0.11  uncertainty   \n742      0.00         0.00      1.00     positive   \n313      1.00         0.00      0.00     negative   \n696      0.95         0.05      0.00     negative   \n733      0.01         0.11      0.88     positive   \n497      0.01         0.18      0.81     positive   \n149      0.01         0.28      0.71     positive   \n974      1.00         0.00      0.00     negative   \n520      0.01         0.17      0.82     positive   \n771      0.02         0.06      0.92     positive   \n573      0.04         0.00      0.96  uncertainty   \n317      0.00         0.00      1.00     positive   \n732      0.13         0.79      0.09  uncertainty   \n291      1.00         0.00      0.00     negative   \n482      0.01         0.08      0.91     positive   \n378      0.01         0.98      0.01  uncertainty   \n451      0.02         0.27      0.71     positive   \n646      0.99         0.01      0.00     negative   \n6        0.01         0.16      0.83     positive   \n35       0.00         0.00      1.00     positive   \n430      0.00         0.01      0.99     positive   \n194      0.00         0.01      0.98     positive   \n31       0.02         0.23      0.75  uncertainty   \n808      0.00         0.01      0.99     positive   \n83       0.00         1.00      0.00  uncertainty   \n980      0.01         0.11      0.88     positive   \n119      0.39         0.20      0.41     positive   \n263      0.01         0.78      0.21     positive   \n\n                                                                                                                                                                                                        text  \n456                                   @ampleswap thank you for having an airdrop event or giveaway, will always support you and stay calm without any problems.\\n@Syaiful09286777 @syafiqmughni9 @Alkucluki1  \n921                             this dude went from “ we not having anymore kids “ to “ you gotta give me a son “ 😂 ... if it’s in God’s Plans we might can make that happen later... if not, oh well. 🤷🏾‍♀️  \n711                                                                                         See this the reason why we be staring at our man all day after a dream of him cheating 😂 https://t.co/337Q4clM1Y  \n272                                                                                                                                                                 @Queen_NoCrown Love ya best life honey 🥂  \n251  @Sen_JoeManchin Senator Manchin it just demonstrates how flawed the review process is and the lack of accountability for the Supreme Court. It seems to me on its face that they both lied and there...  \n881                                                                                                                                 Senior varsity Bulldogs improve to 2 to 1 record https://t.co/faAhrgFl9W  \n940                                                                                                                                                                 no i’m so excited guys this looks so fun  \n969                                                                                                                                                       @NetflixFR Izombie saison 4 sur Netflix possible ?  \n598              happy cancer season it’s a cancer new moon today listen to Lana del ray  okay? okay okay okay okay okay you live in my dream state relocate my fantasy whoops sorry https://t.co/l1POouHZID  \n489                                                                                                                     @TechCentral There is a broken `Add A Comment` button on the bottom of your articles  \n418                                                                                                         @chrsdcook @DeanPreston I didn’t “interview him.” He was my best friend. https://t.co/0sIu6fyedV  \n399                                                                                                                                            @soumya__mishra Once the trust is broken it's time to move on  \n768  @therecount All I’m hearing is a lot of, “vote harder!” and “donate more!” for the big plan before November, but what is the plan AFTER the November midterms? That’s a fair question, right? What i...  \n818  And the reason that poor student has to go through all this shit is because it's future depends on people behind the examinations literally playing Russian roulette with what questions they'll put...  \n754                                                                                                                                                                                 @rosiejareau my dream fr  \n329  @jessphillips Fantastic news, this will make it easier for all those underage girls to get abortions after being raped by muslim grooming gangs in labour areas....Jess certainly has her priorities...  \n162                                                                               Putin Calls for a New System Guided by the UN Charter… But Is It Possible? https://t.co/WzgNR6uP8f https://t.co/Cb6P62Foy6  \n434                currently reading (more like finally reading): forced bonds by j. bree and ahhh feels so good to be back in this world with these characters 🥺\\n\\n#booktwt #jbree https://t.co/tZJmn6gOUw  \n53                                                                                                             Di Maria to Juventus: How will Di Maria improve us? - Coach’s Corner\\nhttps://t.co/oB4N0FfoV8  \n816  @trussliz @HouseofCommons International Law broken .. world beating Liz ? \\n\\nBrandon Lewis quite proud of it really  \\nSpecific and breaking International law in a limited way .. excellent!! http...  \n75   @realDonaldTrump 42% is not almost everyone. 42% is a minority. But qualifiers seem to give you difficulty on a regular basis.Then again, I shouldn't be critical. You probably have a learning disa...  \n856                                                                                                                                   @noxavix good morning nox! i hope you have a wonderful day as well 💙💙💙  \n475  @jackiebarbosa @msmissyjane I'll say...because of who she is...she also needs to be within a couple hours of home and safety, so going somewhere like CA was not an option. Let's just say this was ...  \n742  Happy Summer!🌞Once again, we maintained our position in the @G2dotcom Leaders Quadrant. The Price2Spy tool has been recognized as a user’s favorite #pricingtool. We appreciate our clients! Thanks ...  \n313                                                                                                                                                                        @iamMacTheDJ You not wrong at all  \n696  I get this.  And it's better than nothing....but it is still flawed.\\n\\nThe answer isn't winning elections.\\n\\nThe answer is making it so it doesn't matter who wins elections. https://t.co/ynrWtiTItF  \n733  @gamingonlinux @matrixdotorg Yikes. Yea I really like the moderation tools in Discord (which have continued to improve over time, like new beta features for profanity and blocked words). Matrix ha...  \n497  We've just dropped our #ISO20022 course, so take advantage now ⚡️\\n\\nOthers have studied this material and think it's wonderful 📚\\n\\nSeriously, it will make #crypto easier 🤓\\n\\nGive it a go!\\n\\nht...  \n149                                                                                                                           Best son ever. I’ve only had him for two days so far💕💕 https://t.co/DNTUL9rKvf  \n974                                                                                                                                      @Justcall_alex this honestly not bad at all, where is the location?  \n520                                                                                                                                                                  I be having the most random dreams ever  \n771  I would like to conclude by saying that I'm really impressed by such software support and hope they do take in user feedback to improve and polish their UI more.\\n@Kushal_roy69 @sethstarktech @ami...  \n573                                                                                                      @_Brandieeee Rebelliousness as well. Okay we gone get somewhere eventually. https://t.co/C2Y0bclR6C  \n317                                                                                                                                                                                   @__Sunyy 😂 😂 😂 Perfect  \n732                                                                                                                                           Almost everyone at work has the flu so I’m leaving for the day  \n291                                                                                                                                                                                      @Simii_ebr Lost boy  \n482                                                                               I hate #taeun It is show. And show is OVER. Hey stupid, it`s time to break the fucking dream. They`ll never be seen again.  \n378                                                                                                           @PJCrowley @Susan_Hennessey @realDonaldTrump Maybe Netanyahu is digging up dirt on the Biden’s  \n451                                                                 You: There are no sports right now\\n\\nMe, after watching Wimbledon all day (Mystics vs. Dream on ESPN2 at 7 ET): https://t.co/kjT7eEsgwj  \n646                                                                                                                                          @adeyanjudeji You're now sounding like a broken drum zukwanuike  \n6                                                                                                      dream himself credited a lot of the growth of the dsmp to tommy and wilbur :) https://t.co/w5hNf0sBdT  \n35                                                                                                                                                                             @flourryswag h slot is easier  \n430                                                  @BMorneault30 Cool that it completed without any such issues.  I would hope that the next one will be played during full daylight with perfect weather.  \n194                                                                                                                                                                             We make the best memories 🫶🏻  \n31   @altait If I'm honest, I'm not sure it would work for me. I write best in my own space or somewhere completely anonymous. I do enjoy conferences but also find it jarring shuttling back and forth b...  \n808                                                                                                                                   @Codebreaker440 @ixcynist @Mikolajj1230 get a tablet its easier to use  \n83                                                                                                                         @SeanUnfiltered @mikesamps Clock management will be worse if that’s even possible  \n980                                        34 years old?! Props to him. Regardless the team, that’s truly incredible to be a head coach in the NBA. Sounds like he’ll have a very long career in the league.  \n119  @LitheraPrime I don’t think it’s hopeless, but I do think that the strategy that I’ve seen some Democrats push of “oh, we’ve already won!” is entirely wrong. Doing nothing won’t work. This alone w...  \n263                                                                Also now that I’m thinking it I think Gigi has been mentioned like thrice since her chapter and that was probably a good 50 pages ago????  ",
      "text/html": "<div>\n<style scoped>\n    .dataframe tbody tr th:only-of-type {\n        vertical-align: middle;\n    }\n\n    .dataframe tbody tr th {\n        vertical-align: top;\n    }\n\n    .dataframe thead th {\n        text-align: right;\n    }\n</style>\n<table border=\"1\" class=\"dataframe\">\n  <thead>\n    <tr style=\"text-align: right;\">\n      <th></th>\n      <th>negative</th>\n      <th>uncertainty</th>\n      <th>positive</th>\n      <th>truth</th>\n      <th>text</th>\n    </tr>\n  </thead>\n  <tbody>\n    <tr>\n      <th>456</th>\n      <td>0.82</td>\n      <td>0.14</td>\n      <td>0.04</td>\n      <td>negative</td>\n      <td>@ampleswap thank you for having an airdrop event or giveaway, will always support you and stay calm without any problems.\\n@Syaiful09286777 @syafiqmughni9 @Alkucluki1</td>\n    </tr>\n    <tr>\n      <th>921</th>\n      <td>0.11</td>\n      <td>0.76</td>\n      <td>0.12</td>\n      <td>uncertainty</td>\n      <td>this dude went from “ we not having anymore kids “ to “ you gotta give me a son “ 😂 ... if it’s in God’s Plans we might can make that happen later... if not, oh well. 🤷🏾‍♀️</td>\n    </tr>\n    <tr>\n      <th>711</th>\n      <td>0.02</td>\n      <td>0.26</td>\n      <td>0.73</td>\n      <td>positive</td>\n      <td>See this the reason why we be staring at our man all day after a dream of him cheating 😂 https://t.co/337Q4clM1Y</td>\n    </tr>\n    <tr>\n      <th>272</th>\n      <td>0.00</td>\n      <td>0.06</td>\n      <td>0.93</td>\n      <td>positive</td>\n      <td>@Queen_NoCrown Love ya best life honey 🥂</td>\n    </tr>\n    <tr>\n      <th>251</th>\n      <td>0.97</td>\n      <td>0.03</td>\n      <td>0.00</td>\n      <td>negative</td>\n      <td>@Sen_JoeManchin Senator Manchin it just demonstrates how flawed the review process is and the lack of accountability for the Supreme Court. It seems to me on its face that they both lied and there...</td>\n    </tr>\n    <tr>\n      <th>881</th>\n      <td>0.00</td>\n      <td>0.00</td>\n      <td>1.00</td>\n      <td>positive</td>\n      <td>Senior varsity Bulldogs improve to 2 to 1 record https://t.co/faAhrgFl9W</td>\n    </tr>\n    <tr>\n      <th>940</th>\n      <td>0.00</td>\n      <td>0.00</td>\n      <td>1.00</td>\n      <td>positive</td>\n      <td>no i’m so excited guys this looks so fun</td>\n    </tr>\n    <tr>\n      <th>969</th>\n      <td>0.00</td>\n      <td>1.00</td>\n      <td>0.00</td>\n      <td>uncertainty</td>\n      <td>@NetflixFR Izombie saison 4 sur Netflix possible ?</td>\n    </tr>\n    <tr>\n      <th>598</th>\n      <td>0.01</td>\n      <td>0.23</td>\n      <td>0.76</td>\n      <td>positive</td>\n      <td>happy cancer season it’s a cancer new moon today listen to Lana del ray  okay? okay okay okay okay okay you live in my dream state relocate my fantasy whoops sorry https://t.co/l1POouHZID</td>\n    </tr>\n    <tr>\n      <th>489</th>\n      <td>1.00</td>\n      <td>0.00</td>\n      <td>0.00</td>\n      <td>negative</td>\n      <td>@TechCentral There is a broken `Add A Comment` button on the bottom of your articles</td>\n    </tr>\n    <tr>\n      <th>418</th>\n      <td>0.01</td>\n      <td>0.15</td>\n      <td>0.84</td>\n      <td>positive</td>\n      <td>@chrsdcook @DeanPreston I didn’t “interview him.” He was my best friend. https://t.co/0sIu6fyedV</td>\n    </tr>\n    <tr>\n      <th>399</th>\n      <td>0.99</td>\n      <td>0.01</td>\n      <td>0.00</td>\n      <td>negative</td>\n      <td>@soumya__mishra Once the trust is broken it's time to move on</td>\n    </tr>\n    <tr>\n      <th>768</th>\n      <td>0.90</td>\n      <td>0.09</td>\n      <td>0.01</td>\n      <td>negative</td>\n      <td>@therecount All I’m hearing is a lot of, “vote harder!” and “donate more!” for the big plan before November, but what is the plan AFTER the November midterms? That’s a fair question, right? What i...</td>\n    </tr>\n    <tr>\n      <th>818</th>\n      <td>0.99</td>\n      <td>0.01</td>\n      <td>0.00</td>\n      <td>negative</td>\n      <td>And the reason that poor student has to go through all this shit is because it's future depends on people behind the examinations literally playing Russian roulette with what questions they'll put...</td>\n    </tr>\n    <tr>\n      <th>754</th>\n      <td>0.00</td>\n      <td>0.01</td>\n      <td>0.99</td>\n      <td>positive</td>\n      <td>@rosiejareau my dream fr</td>\n    </tr>\n    <tr>\n      <th>329</th>\n      <td>0.00</td>\n      <td>0.02</td>\n      <td>0.98</td>\n      <td>positive</td>\n      <td>@jessphillips Fantastic news, this will make it easier for all those underage girls to get abortions after being raped by muslim grooming gangs in labour areas....Jess certainly has her priorities...</td>\n    </tr>\n    <tr>\n      <th>162</th>\n      <td>0.00</td>\n      <td>0.99</td>\n      <td>0.01</td>\n      <td>uncertainty</td>\n      <td>Putin Calls for a New System Guided by the UN Charter… But Is It Possible? https://t.co/WzgNR6uP8f https://t.co/Cb6P62Foy6</td>\n    </tr>\n    <tr>\n      <th>434</th>\n      <td>0.02</td>\n      <td>0.31</td>\n      <td>0.67</td>\n      <td>positive</td>\n      <td>currently reading (more like finally reading): forced bonds by j. bree and ahhh feels so good to be back in this world with these characters 🥺\\n\\n#booktwt #jbree https://t.co/tZJmn6gOUw</td>\n    </tr>\n    <tr>\n      <th>53</th>\n      <td>0.00</td>\n      <td>0.00</td>\n      <td>1.00</td>\n      <td>positive</td>\n      <td>Di Maria to Juventus: How will Di Maria improve us? - Coach’s Corner\\nhttps://t.co/oB4N0FfoV8</td>\n    </tr>\n    <tr>\n      <th>816</th>\n      <td>0.92</td>\n      <td>0.08</td>\n      <td>0.01</td>\n      <td>negative</td>\n      <td>@trussliz @HouseofCommons International Law broken .. world beating Liz ? \\n\\nBrandon Lewis quite proud of it really  \\nSpecific and breaking International law in a limited way .. excellent!! http...</td>\n    </tr>\n    <tr>\n      <th>75</th>\n      <td>0.01</td>\n      <td>0.99</td>\n      <td>0.00</td>\n      <td>uncertainty</td>\n      <td>@realDonaldTrump 42% is not almost everyone. 42% is a minority. But qualifiers seem to give you difficulty on a regular basis.Then again, I shouldn't be critical. You probably have a learning disa...</td>\n    </tr>\n    <tr>\n      <th>856</th>\n      <td>0.01</td>\n      <td>0.04</td>\n      <td>0.95</td>\n      <td>positive</td>\n      <td>@noxavix good morning nox! i hope you have a wonderful day as well 💙💙💙</td>\n    </tr>\n    <tr>\n      <th>475</th>\n      <td>0.14</td>\n      <td>0.75</td>\n      <td>0.11</td>\n      <td>uncertainty</td>\n      <td>@jackiebarbosa @msmissyjane I'll say...because of who she is...she also needs to be within a couple hours of home and safety, so going somewhere like CA was not an option. Let's just say this was ...</td>\n    </tr>\n    <tr>\n      <th>742</th>\n      <td>0.00</td>\n      <td>0.00</td>\n      <td>1.00</td>\n      <td>positive</td>\n      <td>Happy Summer!🌞Once again, we maintained our position in the @G2dotcom Leaders Quadrant. The Price2Spy tool has been recognized as a user’s favorite #pricingtool. We appreciate our clients! Thanks ...</td>\n    </tr>\n    <tr>\n      <th>313</th>\n      <td>1.00</td>\n      <td>0.00</td>\n      <td>0.00</td>\n      <td>negative</td>\n      <td>@iamMacTheDJ You not wrong at all</td>\n    </tr>\n    <tr>\n      <th>696</th>\n      <td>0.95</td>\n      <td>0.05</td>\n      <td>0.00</td>\n      <td>negative</td>\n      <td>I get this.  And it's better than nothing....but it is still flawed.\\n\\nThe answer isn't winning elections.\\n\\nThe answer is making it so it doesn't matter who wins elections. https://t.co/ynrWtiTItF</td>\n    </tr>\n    <tr>\n      <th>733</th>\n      <td>0.01</td>\n      <td>0.11</td>\n      <td>0.88</td>\n      <td>positive</td>\n      <td>@gamingonlinux @matrixdotorg Yikes. Yea I really like the moderation tools in Discord (which have continued to improve over time, like new beta features for profanity and blocked words). Matrix ha...</td>\n    </tr>\n    <tr>\n      <th>497</th>\n      <td>0.01</td>\n      <td>0.18</td>\n      <td>0.81</td>\n      <td>positive</td>\n      <td>We've just dropped our #ISO20022 course, so take advantage now ⚡️\\n\\nOthers have studied this material and think it's wonderful 📚\\n\\nSeriously, it will make #crypto easier 🤓\\n\\nGive it a go!\\n\\nht...</td>\n    </tr>\n    <tr>\n      <th>149</th>\n      <td>0.01</td>\n      <td>0.28</td>\n      <td>0.71</td>\n      <td>positive</td>\n      <td>Best son ever. I’ve only had him for two days so far💕💕 https://t.co/DNTUL9rKvf</td>\n    </tr>\n    <tr>\n      <th>974</th>\n      <td>1.00</td>\n      <td>0.00</td>\n      <td>0.00</td>\n      <td>negative</td>\n      <td>@Justcall_alex this honestly not bad at all, where is the location?</td>\n    </tr>\n    <tr>\n      <th>520</th>\n      <td>0.01</td>\n      <td>0.17</td>\n      <td>0.82</td>\n      <td>positive</td>\n      <td>I be having the most random dreams ever</td>\n    </tr>\n    <tr>\n      <th>771</th>\n      <td>0.02</td>\n      <td>0.06</td>\n      <td>0.92</td>\n      <td>positive</td>\n      <td>I would like to conclude by saying that I'm really impressed by such software support and hope they do take in user feedback to improve and polish their UI more.\\n@Kushal_roy69 @sethstarktech @ami...</td>\n    </tr>\n    <tr>\n      <th>573</th>\n      <td>0.04</td>\n      <td>0.00</td>\n      <td>0.96</td>\n      <td>uncertainty</td>\n      <td>@_Brandieeee Rebelliousness as well. Okay we gone get somewhere eventually. https://t.co/C2Y0bclR6C</td>\n    </tr>\n    <tr>\n      <th>317</th>\n      <td>0.00</td>\n      <td>0.00</td>\n      <td>1.00</td>\n      <td>positive</td>\n      <td>@__Sunyy 😂 😂 😂 Perfect</td>\n    </tr>\n    <tr>\n      <th>732</th>\n      <td>0.13</td>\n      <td>0.79</td>\n      <td>0.09</td>\n      <td>uncertainty</td>\n      <td>Almost everyone at work has the flu so I’m leaving for the day</td>\n    </tr>\n    <tr>\n      <th>291</th>\n      <td>1.00</td>\n      <td>0.00</td>\n      <td>0.00</td>\n      <td>negative</td>\n      <td>@Simii_ebr Lost boy</td>\n    </tr>\n    <tr>\n      <th>482</th>\n      <td>0.01</td>\n      <td>0.08</td>\n      <td>0.91</td>\n      <td>positive</td>\n      <td>I hate #taeun It is show. And show is OVER. Hey stupid, it`s time to break the fucking dream. They`ll never be seen again.</td>\n    </tr>\n    <tr>\n      <th>378</th>\n      <td>0.01</td>\n      <td>0.98</td>\n      <td>0.01</td>\n      <td>uncertainty</td>\n      <td>@PJCrowley @Susan_Hennessey @realDonaldTrump Maybe Netanyahu is digging up dirt on the Biden’s</td>\n    </tr>\n    <tr>\n      <th>451</th>\n      <td>0.02</td>\n      <td>0.27</td>\n      <td>0.71</td>\n      <td>positive</td>\n      <td>You: There are no sports right now\\n\\nMe, after watching Wimbledon all day (Mystics vs. Dream on ESPN2 at 7 ET): https://t.co/kjT7eEsgwj</td>\n    </tr>\n    <tr>\n      <th>646</th>\n      <td>0.99</td>\n      <td>0.01</td>\n      <td>0.00</td>\n      <td>negative</td>\n      <td>@adeyanjudeji You're now sounding like a broken drum zukwanuike</td>\n    </tr>\n    <tr>\n      <th>6</th>\n      <td>0.01</td>\n      <td>0.16</td>\n      <td>0.83</td>\n      <td>positive</td>\n      <td>dream himself credited a lot of the growth of the dsmp to tommy and wilbur :) https://t.co/w5hNf0sBdT</td>\n    </tr>\n    <tr>\n      <th>35</th>\n      <td>0.00</td>\n      <td>0.00</td>\n      <td>1.00</td>\n      <td>positive</td>\n      <td>@flourryswag h slot is easier</td>\n    </tr>\n    <tr>\n      <th>430</th>\n      <td>0.00</td>\n      <td>0.01</td>\n      <td>0.99</td>\n      <td>positive</td>\n      <td>@BMorneault30 Cool that it completed without any such issues.  I would hope that the next one will be played during full daylight with perfect weather.</td>\n    </tr>\n    <tr>\n      <th>194</th>\n      <td>0.00</td>\n      <td>0.01</td>\n      <td>0.98</td>\n      <td>positive</td>\n      <td>We make the best memories 🫶🏻</td>\n    </tr>\n    <tr>\n      <th>31</th>\n      <td>0.02</td>\n      <td>0.23</td>\n      <td>0.75</td>\n      <td>uncertainty</td>\n      <td>@altait If I'm honest, I'm not sure it would work for me. I write best in my own space or somewhere completely anonymous. I do enjoy conferences but also find it jarring shuttling back and forth b...</td>\n    </tr>\n    <tr>\n      <th>808</th>\n      <td>0.00</td>\n      <td>0.01</td>\n      <td>0.99</td>\n      <td>positive</td>\n      <td>@Codebreaker440 @ixcynist @Mikolajj1230 get a tablet its easier to use</td>\n    </tr>\n    <tr>\n      <th>83</th>\n      <td>0.00</td>\n      <td>1.00</td>\n      <td>0.00</td>\n      <td>uncertainty</td>\n      <td>@SeanUnfiltered @mikesamps Clock management will be worse if that’s even possible</td>\n    </tr>\n    <tr>\n      <th>980</th>\n      <td>0.01</td>\n      <td>0.11</td>\n      <td>0.88</td>\n      <td>positive</td>\n      <td>34 years old?! Props to him. Regardless the team, that’s truly incredible to be a head coach in the NBA. Sounds like he’ll have a very long career in the league.</td>\n    </tr>\n    <tr>\n      <th>119</th>\n      <td>0.39</td>\n      <td>0.20</td>\n      <td>0.41</td>\n      <td>positive</td>\n      <td>@LitheraPrime I don’t think it’s hopeless, but I do think that the strategy that I’ve seen some Democrats push of “oh, we’ve already won!” is entirely wrong. Doing nothing won’t work. This alone w...</td>\n    </tr>\n    <tr>\n      <th>263</th>\n      <td>0.01</td>\n      <td>0.78</td>\n      <td>0.21</td>\n      <td>positive</td>\n      <td>Also now that I’m thinking it I think Gigi has been mentioned like thrice since her chapter and that was probably a good 50 pages ago????</td>\n    </tr>\n  </tbody>\n</table>\n</div>"
     },
     "execution_count": 8,
     "metadata": {},
     "output_type": "execute_result"
    }
   ],
   "source": [
    "pred = model.predict_proba(X_test)\n",
    "predictions = pandas.DataFrame(pred, columns=label_map.keys())\n",
    "predictions[\"truth\"] = y_test.map(dict((v,k) for k, v in label_map.items())).values\n",
    "predictions[\"text\"] = X_test_messages.values\n",
    "predictions.sample(50)"
   ]
  },
  {
   "attachments": {},
   "cell_type": "markdown",
   "metadata": {},
   "source": [
    "A classification report gives information about the precision and recall. Also the classification report can be ran on the test set as well as on the train set. If very different outcomes are presented, the model may be overfitted. Here the outcomes are rather similar, so the model is likely fit to generalize in the real world."
   ]
  },
  {
   "cell_type": "code",
   "execution_count": 9,
   "metadata": {},
   "outputs": [
    {
     "name": "stdout",
     "output_type": "stream",
     "text": [
      "Train set\n",
      "              precision    recall  f1-score   support\n",
      "\n",
      "    negative       0.94      0.94      0.94      1451\n",
      " uncertainty       0.87      0.86      0.87      1116\n",
      "    positive       0.93      0.94      0.93      1433\n",
      "\n",
      "    accuracy                           0.92      4000\n",
      "   macro avg       0.91      0.91      0.91      4000\n",
      "weighted avg       0.92      0.92      0.92      4000\n",
      "\n",
      "Test set\n",
      "              precision    recall  f1-score   support\n",
      "\n",
      "    negative       0.97      0.95      0.96       335\n",
      " uncertainty       0.89      0.91      0.90       273\n",
      "    positive       0.94      0.94      0.94       392\n",
      "\n",
      "    accuracy                           0.93      1000\n",
      "   macro avg       0.93      0.93      0.93      1000\n",
      "weighted avg       0.93      0.93      0.93      1000\n",
      "\n"
     ]
    }
   ],
   "source": [
    "from sklearn.metrics import classification_report\n",
    "\n",
    "pred = model.predict(X_train)\n",
    "report = classification_report(y_train, pred, target_names=label_map.keys())\n",
    "print(\"Train set\")\n",
    "print(report)\n",
    "\n",
    "pred = model.predict(X_test)\n",
    "report = classification_report(y_test, pred, target_names=label_map.keys())\n",
    "print(\"Test set\")\n",
    "print(report)"
   ]
  },
  {
   "cell_type": "markdown",
   "metadata": {},
   "source": [
    "# Inference"
   ]
  },
  {
   "cell_type": "code",
   "execution_count": 10,
   "metadata": {},
   "outputs": [
    {
     "data": {
      "text/plain": "   negative  uncertainty  positive\n0      1.00         0.00      0.00",
      "text/html": "<div>\n<style scoped>\n    .dataframe tbody tr th:only-of-type {\n        vertical-align: middle;\n    }\n\n    .dataframe tbody tr th {\n        vertical-align: top;\n    }\n\n    .dataframe thead th {\n        text-align: right;\n    }\n</style>\n<table border=\"1\" class=\"dataframe\">\n  <thead>\n    <tr style=\"text-align: right;\">\n      <th></th>\n      <th>negative</th>\n      <th>uncertainty</th>\n      <th>positive</th>\n    </tr>\n  </thead>\n  <tbody>\n    <tr>\n      <th>0</th>\n      <td>1.00</td>\n      <td>0.00</td>\n      <td>0.00</td>\n    </tr>\n  </tbody>\n</table>\n</div>"
     },
     "execution_count": 10,
     "metadata": {},
     "output_type": "execute_result"
    }
   ],
   "source": [
    "message = \"the broken car is useless\"\n",
    "message_vectorized = vectorizer.transform([message]).toarray()\n",
    "inference = model.predict_proba(message_vectorized)\n",
    "result = pandas.DataFrame(inference, columns=label_map.keys())\n",
    "result"
   ]
  },
  {
   "cell_type": "code",
   "execution_count": 11,
   "metadata": {},
   "outputs": [
    {
     "data": {
      "text/plain": "   negative  uncertainty  positive\n0      0.00         0.00      1.00",
      "text/html": "<div>\n<style scoped>\n    .dataframe tbody tr th:only-of-type {\n        vertical-align: middle;\n    }\n\n    .dataframe tbody tr th {\n        vertical-align: top;\n    }\n\n    .dataframe thead th {\n        text-align: right;\n    }\n</style>\n<table border=\"1\" class=\"dataframe\">\n  <thead>\n    <tr style=\"text-align: right;\">\n      <th></th>\n      <th>negative</th>\n      <th>uncertainty</th>\n      <th>positive</th>\n    </tr>\n  </thead>\n  <tbody>\n    <tr>\n      <th>0</th>\n      <td>0.00</td>\n      <td>0.00</td>\n      <td>1.00</td>\n    </tr>\n  </tbody>\n</table>\n</div>"
     },
     "execution_count": 11,
     "metadata": {},
     "output_type": "execute_result"
    }
   ],
   "source": [
    "message = \"the sun shines and everything is good\"\n",
    "message_vectorized = vectorizer.transform([message]).toarray()\n",
    "inference = model.predict_proba(message_vectorized)\n",
    "result = pandas.DataFrame(inference, columns=label_map.keys())\n",
    "result"
   ]
  },
  {
   "cell_type": "code",
   "execution_count": 12,
   "metadata": {},
   "outputs": [
    {
     "data": {
      "text/plain": "   negative  uncertainty  positive\n0      0.08         0.88      0.04",
      "text/html": "<div>\n<style scoped>\n    .dataframe tbody tr th:only-of-type {\n        vertical-align: middle;\n    }\n\n    .dataframe tbody tr th {\n        vertical-align: top;\n    }\n\n    .dataframe thead th {\n        text-align: right;\n    }\n</style>\n<table border=\"1\" class=\"dataframe\">\n  <thead>\n    <tr style=\"text-align: right;\">\n      <th></th>\n      <th>negative</th>\n      <th>uncertainty</th>\n      <th>positive</th>\n    </tr>\n  </thead>\n  <tbody>\n    <tr>\n      <th>0</th>\n      <td>0.08</td>\n      <td>0.88</td>\n      <td>0.04</td>\n    </tr>\n  </tbody>\n</table>\n</div>"
     },
     "execution_count": 12,
     "metadata": {},
     "output_type": "execute_result"
    }
   ],
   "source": [
    "message = \"anything may happen at any given moment\"\n",
    "message_vectorized = vectorizer.transform([message]).toarray()\n",
    "inference = model.predict_proba(message_vectorized)\n",
    "result = pandas.DataFrame(inference, columns=label_map.keys())\n",
    "result"
   ]
  },
  {
   "cell_type": "markdown",
   "source": [
    "---\n",
    "Nu wil ik proberen om nederlandse teksten te gaan voorspellen. Dit moeten we ook gaan doen voor de proftaak."
   ],
   "metadata": {
    "collapsed": false
   }
  },
  {
   "cell_type": "code",
   "execution_count": 13,
   "outputs": [
    {
     "data": {
      "text/plain": "   negative  uncertainty  positive\n0      0.08         0.88      0.04",
      "text/html": "<div>\n<style scoped>\n    .dataframe tbody tr th:only-of-type {\n        vertical-align: middle;\n    }\n\n    .dataframe tbody tr th {\n        vertical-align: top;\n    }\n\n    .dataframe thead th {\n        text-align: right;\n    }\n</style>\n<table border=\"1\" class=\"dataframe\">\n  <thead>\n    <tr style=\"text-align: right;\">\n      <th></th>\n      <th>negative</th>\n      <th>uncertainty</th>\n      <th>positive</th>\n    </tr>\n  </thead>\n  <tbody>\n    <tr>\n      <th>0</th>\n      <td>0.08</td>\n      <td>0.88</td>\n      <td>0.04</td>\n    </tr>\n  </tbody>\n</table>\n</div>"
     },
     "execution_count": 13,
     "metadata": {},
     "output_type": "execute_result"
    }
   ],
   "source": [
    "message = \"Hallo, ik ben Pepijn\"\n",
    "message_vectorized = vectorizer.transform([message]).toarray()\n",
    "inference = model.predict_proba(message_vectorized)\n",
    "result = pandas.DataFrame(inference, columns=label_map.keys())\n",
    "result"
   ],
   "metadata": {
    "collapsed": false
   }
  },
  {
   "cell_type": "code",
   "execution_count": 14,
   "outputs": [
    {
     "data": {
      "text/plain": "   negative  uncertainty  positive\n0      0.08         0.88      0.04",
      "text/html": "<div>\n<style scoped>\n    .dataframe tbody tr th:only-of-type {\n        vertical-align: middle;\n    }\n\n    .dataframe tbody tr th {\n        vertical-align: top;\n    }\n\n    .dataframe thead th {\n        text-align: right;\n    }\n</style>\n<table border=\"1\" class=\"dataframe\">\n  <thead>\n    <tr style=\"text-align: right;\">\n      <th></th>\n      <th>negative</th>\n      <th>uncertainty</th>\n      <th>positive</th>\n    </tr>\n  </thead>\n  <tbody>\n    <tr>\n      <th>0</th>\n      <td>0.08</td>\n      <td>0.88</td>\n      <td>0.04</td>\n    </tr>\n  </tbody>\n</table>\n</div>"
     },
     "execution_count": 14,
     "metadata": {},
     "output_type": "execute_result"
    }
   ],
   "source": [
    "message = \"Vandaag heb ik heel veel mooie dingen gezien. ik heb het erg naar mijn zin gehad. super leuk.\"\n",
    "message_vectorized = vectorizer.transform([message]).toarray()\n",
    "inference = model.predict_proba(message_vectorized)\n",
    "result = pandas.DataFrame(inference, columns=label_map.keys())\n",
    "result"
   ],
   "metadata": {
    "collapsed": false
   }
  },
  {
   "cell_type": "markdown",
   "source": [
    "Zoals je heirboven ziet kan er met het bestaande model niet goed voorspelt worden. Dit komt omdat de model is getraind op engelse teksten. Nu gaan we een nieuw model trainen op nederlandse teksten. Om hier mee te beginnen moet we de stopwoorden van de  vectorizer aanpassen. Dit doen we door de stopwoorden van het engels te verwijderen en de stopwoorden van het nederlands toe te voegen."
   ],
   "metadata": {
    "collapsed": false
   }
  },
  {
   "cell_type": "code",
   "execution_count": 28,
   "outputs": [],
   "source": [
    "import json # import json package\n",
    "stop_words = json.load(open(\"./data/stop_words_dutch.json\", \"r\")) # load the stop words from the json file\n",
    "vectorizer_nl = TfidfVectorizer(max_features=max_words, min_df=min_df, stop_words=stop_words) # create a new vectorizer with the stop words"
   ],
   "metadata": {
    "collapsed": false
   }
  },
  {
   "cell_type": "markdown",
   "source": [],
   "metadata": {
    "collapsed": false
   }
  },
  {
   "cell_type": "code",
   "execution_count": 30,
   "outputs": [
    {
     "ename": "NotFittedError",
     "evalue": "The TF-IDF vectorizer is not fitted",
     "output_type": "error",
     "traceback": [
      "\u001B[1;31m---------------------------------------------------------------------------\u001B[0m",
      "\u001B[1;31mNotFittedError\u001B[0m                            Traceback (most recent call last)",
      "\u001B[1;32m~\\AppData\\Local\\Temp\\ipykernel_12860\\2564901845.py\u001B[0m in \u001B[0;36m<module>\u001B[1;34m\u001B[0m\n\u001B[0;32m      1\u001B[0m \u001B[0mmessage\u001B[0m \u001B[1;33m=\u001B[0m \u001B[1;34m\"Vandaag heb ik heel veel mooie dingen gezien. ik heb het erg naar mijn zin gehad. super leuk.\"\u001B[0m\u001B[1;33m\u001B[0m\u001B[1;33m\u001B[0m\u001B[0m\n\u001B[1;32m----> 2\u001B[1;33m \u001B[0mmessage_vectorized\u001B[0m \u001B[1;33m=\u001B[0m \u001B[0mvectorizer_nl\u001B[0m\u001B[1;33m.\u001B[0m\u001B[0mtransform\u001B[0m\u001B[1;33m(\u001B[0m\u001B[1;33m[\u001B[0m\u001B[0mmessage\u001B[0m\u001B[1;33m]\u001B[0m\u001B[1;33m)\u001B[0m\u001B[1;33m.\u001B[0m\u001B[0mtoarray\u001B[0m\u001B[1;33m(\u001B[0m\u001B[1;33m)\u001B[0m\u001B[1;33m\u001B[0m\u001B[1;33m\u001B[0m\u001B[0m\n\u001B[0m\u001B[0;32m      3\u001B[0m \u001B[0minference\u001B[0m \u001B[1;33m=\u001B[0m \u001B[0mmodel\u001B[0m\u001B[1;33m.\u001B[0m\u001B[0mpredict_proba\u001B[0m\u001B[1;33m(\u001B[0m\u001B[0mmessage_vectorized\u001B[0m\u001B[1;33m)\u001B[0m\u001B[1;33m\u001B[0m\u001B[1;33m\u001B[0m\u001B[0m\n\u001B[0;32m      4\u001B[0m \u001B[0mresult\u001B[0m \u001B[1;33m=\u001B[0m \u001B[0mpandas\u001B[0m\u001B[1;33m.\u001B[0m\u001B[0mDataFrame\u001B[0m\u001B[1;33m(\u001B[0m\u001B[0minference\u001B[0m\u001B[1;33m,\u001B[0m \u001B[0mcolumns\u001B[0m\u001B[1;33m=\u001B[0m\u001B[0mlabel_map\u001B[0m\u001B[1;33m.\u001B[0m\u001B[0mkeys\u001B[0m\u001B[1;33m(\u001B[0m\u001B[1;33m)\u001B[0m\u001B[1;33m)\u001B[0m\u001B[1;33m\u001B[0m\u001B[1;33m\u001B[0m\u001B[0m\n\u001B[0;32m      5\u001B[0m \u001B[0mresult\u001B[0m\u001B[1;33m\u001B[0m\u001B[1;33m\u001B[0m\u001B[0m\n",
      "\u001B[1;32m~\\anaconda3\\lib\\site-packages\\sklearn\\feature_extraction\\text.py\u001B[0m in \u001B[0;36mtransform\u001B[1;34m(self, raw_documents)\u001B[0m\n\u001B[0;32m   2097\u001B[0m             \u001B[0mTf\u001B[0m\u001B[1;33m-\u001B[0m\u001B[0midf\u001B[0m\u001B[1;33m-\u001B[0m\u001B[0mweighted\u001B[0m \u001B[0mdocument\u001B[0m\u001B[1;33m-\u001B[0m\u001B[0mterm\u001B[0m \u001B[0mmatrix\u001B[0m\u001B[1;33m.\u001B[0m\u001B[1;33m\u001B[0m\u001B[1;33m\u001B[0m\u001B[0m\n\u001B[0;32m   2098\u001B[0m         \"\"\"\n\u001B[1;32m-> 2099\u001B[1;33m         \u001B[0mcheck_is_fitted\u001B[0m\u001B[1;33m(\u001B[0m\u001B[0mself\u001B[0m\u001B[1;33m,\u001B[0m \u001B[0mmsg\u001B[0m\u001B[1;33m=\u001B[0m\u001B[1;34m\"The TF-IDF vectorizer is not fitted\"\u001B[0m\u001B[1;33m)\u001B[0m\u001B[1;33m\u001B[0m\u001B[1;33m\u001B[0m\u001B[0m\n\u001B[0m\u001B[0;32m   2100\u001B[0m \u001B[1;33m\u001B[0m\u001B[0m\n\u001B[0;32m   2101\u001B[0m         \u001B[0mX\u001B[0m \u001B[1;33m=\u001B[0m \u001B[0msuper\u001B[0m\u001B[1;33m(\u001B[0m\u001B[1;33m)\u001B[0m\u001B[1;33m.\u001B[0m\u001B[0mtransform\u001B[0m\u001B[1;33m(\u001B[0m\u001B[0mraw_documents\u001B[0m\u001B[1;33m)\u001B[0m\u001B[1;33m\u001B[0m\u001B[1;33m\u001B[0m\u001B[0m\n",
      "\u001B[1;32m~\\anaconda3\\lib\\site-packages\\sklearn\\utils\\validation.py\u001B[0m in \u001B[0;36mcheck_is_fitted\u001B[1;34m(estimator, attributes, msg, all_or_any)\u001B[0m\n\u001B[0;32m   1220\u001B[0m \u001B[1;33m\u001B[0m\u001B[0m\n\u001B[0;32m   1221\u001B[0m     \u001B[1;32mif\u001B[0m \u001B[1;32mnot\u001B[0m \u001B[0mfitted\u001B[0m\u001B[1;33m:\u001B[0m\u001B[1;33m\u001B[0m\u001B[1;33m\u001B[0m\u001B[0m\n\u001B[1;32m-> 1222\u001B[1;33m         \u001B[1;32mraise\u001B[0m \u001B[0mNotFittedError\u001B[0m\u001B[1;33m(\u001B[0m\u001B[0mmsg\u001B[0m \u001B[1;33m%\u001B[0m \u001B[1;33m{\u001B[0m\u001B[1;34m\"name\"\u001B[0m\u001B[1;33m:\u001B[0m \u001B[0mtype\u001B[0m\u001B[1;33m(\u001B[0m\u001B[0mestimator\u001B[0m\u001B[1;33m)\u001B[0m\u001B[1;33m.\u001B[0m\u001B[0m__name__\u001B[0m\u001B[1;33m}\u001B[0m\u001B[1;33m)\u001B[0m\u001B[1;33m\u001B[0m\u001B[1;33m\u001B[0m\u001B[0m\n\u001B[0m\u001B[0;32m   1223\u001B[0m \u001B[1;33m\u001B[0m\u001B[0m\n\u001B[0;32m   1224\u001B[0m \u001B[1;33m\u001B[0m\u001B[0m\n",
      "\u001B[1;31mNotFittedError\u001B[0m: The TF-IDF vectorizer is not fitted"
     ]
    }
   ],
   "source": [
    "message = \"Vandaag heb ik heel veel mooie dingen gezien. ik heb het erg naar mijn zin gehad. super leuk.\"\n",
    "message_vectorized = vectorizer_nl.transform([message]).toarray()\n",
    "inference = model.predict_proba(message_vectorized)\n",
    "result = pandas.DataFrame(inference, columns=label_map.keys())\n",
    "result"
   ],
   "metadata": {
    "collapsed": false
   }
  },
  {
   "cell_type": "markdown",
   "source": [
    "Als ik dit werkent zou willen krijgen zou ik een gelabelde training set nodig hebben, na wat zoeken op internet heb ik geen dataset gevonden die ik goed genoeg vond om te gebruiken zonder al te veel data cleaning.\n"
   ],
   "metadata": {
    "collapsed": false
   }
  }
 ],
 "metadata": {
  "kernelspec": {
   "display_name": "Python 3",
   "language": "python",
   "name": "python3"
  },
  "language_info": {
   "codemirror_mode": {
    "name": "ipython",
    "version": 3
   },
   "file_extension": ".py",
   "mimetype": "text/x-python",
   "name": "python",
   "nbconvert_exporter": "python",
   "pygments_lexer": "ipython3",
   "version": "3.10.9"
  },
  "orig_nbformat": 4,
  "vscode": {
   "interpreter": {
    "hash": "43ddb32909a53c204e37ff1af9486355a00187ad4c4605503a535aa055c1095c"
   }
  }
 },
 "nbformat": 4,
 "nbformat_minor": 2
}
