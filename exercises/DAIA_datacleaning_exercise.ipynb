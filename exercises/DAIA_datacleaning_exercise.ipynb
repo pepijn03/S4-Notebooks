{
 "cells": [
  {
   "cell_type": "code",
   "execution_count": 4,
   "id": "4f45d24e",
   "metadata": {},
   "outputs": [],
   "source": [
    "import pandas as pd\n",
    "import matplotlib.pyplot as plt\n",
    "import seaborn as sns\n",
    "\n",
    "df = pd.read_csv('./data/GRAIN---Land-grab-deals---Jan-2012.csv', sep=';', decimal=',')\n"
   ]
  },
  {
   "cell_type": "code",
   "execution_count": 5,
   "id": "5823ab19",
   "metadata": {},
   "outputs": [
    {
     "name": "stdout",
     "output_type": "stream",
     "text": [
      "<class 'pandas.core.frame.DataFrame'>\n",
      "RangeIndex: 416 entries, 0 to 415\n",
      "Data columns (total 9 columns):\n",
      " #   Column                Non-Null Count  Dtype \n",
      "---  ------                --------------  ----- \n",
      " 0   Landgrabbed           416 non-null    object\n",
      " 1   Landgrabber           416 non-null    object\n",
      " 2   Base                  416 non-null    object\n",
      " 3   Sector                406 non-null    object\n",
      " 4   Hectares              414 non-null    object\n",
      " 5   Production            382 non-null    object\n",
      " 6   Projected investment  106 non-null    object\n",
      " 7   Status of deal        416 non-null    object\n",
      " 8   Summary               416 non-null    object\n",
      "dtypes: object(9)\n",
      "memory usage: 29.4+ KB\n"
     ]
    }
   ],
   "source": [
    "# quickly check form and dtypes\n",
    "df.info()"
   ]
  },
  {
   "cell_type": "code",
   "execution_count": 6,
   "id": "8a25a3d0",
   "metadata": {},
   "outputs": [
    {
     "data": {
      "text/plain": "Landgrabbed               0\nLandgrabber               0\nBase                      0\nSector                   10\nHectares                  2\nProduction               34\nProjected investment    310\nStatus of deal            0\nSummary                   0\ndtype: int64"
     },
     "execution_count": 6,
     "metadata": {},
     "output_type": "execute_result"
    }
   ],
   "source": [
    "df.isna().sum()"
   ]
  },
  {
   "cell_type": "code",
   "execution_count": 7,
   "id": "c1e3508d",
   "metadata": {},
   "outputs": [
    {
     "data": {
      "text/plain": "  Landgrabbed               Landgrabber      Base  \\\n0     Algeria                  Al Qudra       UAE   \n1      Angola  CAMC Engineering Co. Ltd     China   \n2      Angola                       ENI     Italy   \n3      Angola                  AfriAgro  Portugal   \n4      Angola           Eurico Ferreira  Portugal   \n\n                           Sector Hectares                 Production  \\\n0            Finance, real estate  31000.0  Milk, olive oil, potatoes   \n1                    Construction   1500.0                       Rice   \n2                          Energy  12000.0                   Oil palm   \n3            Finance, real estate   5000.0                   Oil palm   \n4  Energy, telecommunications\\r\\n  30000.0                 Sugar cane   \n\n  Projected investment Status of deal  \\\n0                  NaN           Done   \n1        US$77 million          Done    \n2                  NaN     In process   \n3     US$30-35 million           Done   \n4       US$200 million           Done   \n\n                                             Summary  \n0  Al Qudra Holding is a joint-stock company esta...  \n1  CAMCE is a subsidiary of the China National Ma...  \n2  The project is a joint venture between Sonango...  \n3  AfriAgro is a subsidiary of the Portugal-based...  \n4  In 2008, Portuguese conglomerate Eurico Ferrei...  ",
      "text/html": "<div>\n<style scoped>\n    .dataframe tbody tr th:only-of-type {\n        vertical-align: middle;\n    }\n\n    .dataframe tbody tr th {\n        vertical-align: top;\n    }\n\n    .dataframe thead th {\n        text-align: right;\n    }\n</style>\n<table border=\"1\" class=\"dataframe\">\n  <thead>\n    <tr style=\"text-align: right;\">\n      <th></th>\n      <th>Landgrabbed</th>\n      <th>Landgrabber</th>\n      <th>Base</th>\n      <th>Sector</th>\n      <th>Hectares</th>\n      <th>Production</th>\n      <th>Projected investment</th>\n      <th>Status of deal</th>\n      <th>Summary</th>\n    </tr>\n  </thead>\n  <tbody>\n    <tr>\n      <th>0</th>\n      <td>Algeria</td>\n      <td>Al Qudra</td>\n      <td>UAE</td>\n      <td>Finance, real estate</td>\n      <td>31000.0</td>\n      <td>Milk, olive oil, potatoes</td>\n      <td>NaN</td>\n      <td>Done</td>\n      <td>Al Qudra Holding is a joint-stock company esta...</td>\n    </tr>\n    <tr>\n      <th>1</th>\n      <td>Angola</td>\n      <td>CAMC Engineering Co. Ltd</td>\n      <td>China</td>\n      <td>Construction</td>\n      <td>1500.0</td>\n      <td>Rice</td>\n      <td>US$77 million</td>\n      <td>Done</td>\n      <td>CAMCE is a subsidiary of the China National Ma...</td>\n    </tr>\n    <tr>\n      <th>2</th>\n      <td>Angola</td>\n      <td>ENI</td>\n      <td>Italy</td>\n      <td>Energy</td>\n      <td>12000.0</td>\n      <td>Oil palm</td>\n      <td>NaN</td>\n      <td>In process</td>\n      <td>The project is a joint venture between Sonango...</td>\n    </tr>\n    <tr>\n      <th>3</th>\n      <td>Angola</td>\n      <td>AfriAgro</td>\n      <td>Portugal</td>\n      <td>Finance, real estate</td>\n      <td>5000.0</td>\n      <td>Oil palm</td>\n      <td>US$30-35 million</td>\n      <td>Done</td>\n      <td>AfriAgro is a subsidiary of the Portugal-based...</td>\n    </tr>\n    <tr>\n      <th>4</th>\n      <td>Angola</td>\n      <td>Eurico Ferreira</td>\n      <td>Portugal</td>\n      <td>Energy, telecommunications\\r\\n</td>\n      <td>30000.0</td>\n      <td>Sugar cane</td>\n      <td>US$200 million</td>\n      <td>Done</td>\n      <td>In 2008, Portuguese conglomerate Eurico Ferrei...</td>\n    </tr>\n  </tbody>\n</table>\n</div>"
     },
     "execution_count": 7,
     "metadata": {},
     "output_type": "execute_result"
    }
   ],
   "source": [
    "# and check the first lines of data to have a first glance\n",
    "df.head()"
   ]
  },
  {
   "cell_type": "code",
   "execution_count": 8,
   "id": "5cfa602e",
   "metadata": {},
   "outputs": [
    {
     "data": {
      "text/plain": "       Landgrabbed                        Landgrabber Base        Sector  \\\ncount          416                                416  416           406   \nunique          71                                308   63            27   \ntop     Mozambique  Foras International Investment Co   US  Agribusiness   \nfreq            24                                  6   40           199   \n\n       Hectares Production Projected investment Status of deal  \\\ncount       414        382                  106            416   \nunique      220        182                   89             10   \ntop     10000.0   Oil palm       US$250 million           Done   \nfreq         32         40                    3            324   \n\n                                                  Summary  \ncount                                                 416  \nunique                                                401  \ntop     Germanagrar is a German company based in Hambu...  \nfreq                                                    4  ",
      "text/html": "<div>\n<style scoped>\n    .dataframe tbody tr th:only-of-type {\n        vertical-align: middle;\n    }\n\n    .dataframe tbody tr th {\n        vertical-align: top;\n    }\n\n    .dataframe thead th {\n        text-align: right;\n    }\n</style>\n<table border=\"1\" class=\"dataframe\">\n  <thead>\n    <tr style=\"text-align: right;\">\n      <th></th>\n      <th>Landgrabbed</th>\n      <th>Landgrabber</th>\n      <th>Base</th>\n      <th>Sector</th>\n      <th>Hectares</th>\n      <th>Production</th>\n      <th>Projected investment</th>\n      <th>Status of deal</th>\n      <th>Summary</th>\n    </tr>\n  </thead>\n  <tbody>\n    <tr>\n      <th>count</th>\n      <td>416</td>\n      <td>416</td>\n      <td>416</td>\n      <td>406</td>\n      <td>414</td>\n      <td>382</td>\n      <td>106</td>\n      <td>416</td>\n      <td>416</td>\n    </tr>\n    <tr>\n      <th>unique</th>\n      <td>71</td>\n      <td>308</td>\n      <td>63</td>\n      <td>27</td>\n      <td>220</td>\n      <td>182</td>\n      <td>89</td>\n      <td>10</td>\n      <td>401</td>\n    </tr>\n    <tr>\n      <th>top</th>\n      <td>Mozambique</td>\n      <td>Foras International Investment Co</td>\n      <td>US</td>\n      <td>Agribusiness</td>\n      <td>10000.0</td>\n      <td>Oil palm</td>\n      <td>US$250 million</td>\n      <td>Done</td>\n      <td>Germanagrar is a German company based in Hambu...</td>\n    </tr>\n    <tr>\n      <th>freq</th>\n      <td>24</td>\n      <td>6</td>\n      <td>40</td>\n      <td>199</td>\n      <td>32</td>\n      <td>40</td>\n      <td>3</td>\n      <td>324</td>\n      <td>4</td>\n    </tr>\n  </tbody>\n</table>\n</div>"
     },
     "execution_count": 8,
     "metadata": {},
     "output_type": "execute_result"
    }
   ],
   "source": [
    "# describe() gives a more statistical description. \n",
    "df.describe()"
   ]
  },
  {
   "cell_type": "code",
   "execution_count": 9,
   "id": "7031707a",
   "metadata": {},
   "outputs": [
    {
     "data": {
      "text/plain": "Mozambique    24\nAustralia     22\nBrazil        22\nEthiopia      21\nRussia        19\n              ..\nChina          1\nBurma          1\nBrazil         1\nArgentina      1\nZimbabawe      1\nName: Landgrabbed, Length: 71, dtype: int64"
     },
     "execution_count": 9,
     "metadata": {},
     "output_type": "execute_result"
    }
   ],
   "source": [
    "# we see e.g. that Mozambique is listed in the 'top' row. What does this mean?\n",
    "# Apparently it is the country that has the most occurences in this column\n",
    "df.Landgrabbed.value_counts()"
   ]
  },
  {
   "cell_type": "code",
   "execution_count": 10,
   "id": "3abbbac0",
   "metadata": {},
   "outputs": [
    {
     "data": {
      "text/plain": "0               Finance, real estate\n1                       Construction\n2                             Energy\n3               Finance, real estate\n4     Energy, telecommunications\\r\\n\n5               Agribusiness, energy\n6                       Agribusiness\n7                       Agribusiness\n8                       Agribusiness\n9                            Finance\n10                      Agribusiness\n11                           Finance\n12                           Finance\n13                           Finance\n14                           Finance\n15                        Industrial\n16                      Agribusiness\n17                      Agribusiness\n18                      Agribusiness\n19                        Government\n20                      Agribusiness\n21                      Agribusiness\n22                      Agribusiness\n23                           Finance\n24                           Finance\n25                      Agribusiness\n26                               NaN\n27       Industrial, real estate\\r\\n\n28                      Construction\n29                      Agribusiness\n30                           Finance\n31                           Finance\n32                           Finance\n33                      Agribusiness\n34                      Agribusiness\n35                        Industrial\n36                           Finance\n37                      Agribusiness\n38                           Finance\n39                           Finance\n40                           Finance\n41                           Finance\n42                           Finance\n43                           Finance\n44                               NaN\n45    Agribusiness, construction\\r\\n\n46                           Finance\n47                               NaN\n48                            Energy\n49                      Agribusiness\nName: Sector, dtype: object"
     },
     "execution_count": 10,
     "metadata": {},
     "output_type": "execute_result"
    }
   ],
   "source": [
    "# Look at the Sector column, you can see (sometimes) multiple values, separated by comma's\n",
    "df['Sector'].head(50)"
   ]
  },
  {
   "cell_type": "code",
   "execution_count": 11,
   "id": "3b883ff2",
   "metadata": {},
   "outputs": [
    {
     "data": {
      "text/plain": "              0                        1     2\n0       Finance              real estate  None\n1  Construction                     None  None\n2        Energy                     None  None\n3       Finance              real estate  None\n4        Energy   telecommunications\\r\\n  None\n5  Agribusiness                   energy  None\n6  Agribusiness                     None  None\n7  Agribusiness                     None  None\n8  Agribusiness                     None  None\n9       Finance                     None  None",
      "text/html": "<div>\n<style scoped>\n    .dataframe tbody tr th:only-of-type {\n        vertical-align: middle;\n    }\n\n    .dataframe tbody tr th {\n        vertical-align: top;\n    }\n\n    .dataframe thead th {\n        text-align: right;\n    }\n</style>\n<table border=\"1\" class=\"dataframe\">\n  <thead>\n    <tr style=\"text-align: right;\">\n      <th></th>\n      <th>0</th>\n      <th>1</th>\n      <th>2</th>\n    </tr>\n  </thead>\n  <tbody>\n    <tr>\n      <th>0</th>\n      <td>Finance</td>\n      <td>real estate</td>\n      <td>None</td>\n    </tr>\n    <tr>\n      <th>1</th>\n      <td>Construction</td>\n      <td>None</td>\n      <td>None</td>\n    </tr>\n    <tr>\n      <th>2</th>\n      <td>Energy</td>\n      <td>None</td>\n      <td>None</td>\n    </tr>\n    <tr>\n      <th>3</th>\n      <td>Finance</td>\n      <td>real estate</td>\n      <td>None</td>\n    </tr>\n    <tr>\n      <th>4</th>\n      <td>Energy</td>\n      <td>telecommunications\\r\\n</td>\n      <td>None</td>\n    </tr>\n    <tr>\n      <th>5</th>\n      <td>Agribusiness</td>\n      <td>energy</td>\n      <td>None</td>\n    </tr>\n    <tr>\n      <th>6</th>\n      <td>Agribusiness</td>\n      <td>None</td>\n      <td>None</td>\n    </tr>\n    <tr>\n      <th>7</th>\n      <td>Agribusiness</td>\n      <td>None</td>\n      <td>None</td>\n    </tr>\n    <tr>\n      <th>8</th>\n      <td>Agribusiness</td>\n      <td>None</td>\n      <td>None</td>\n    </tr>\n    <tr>\n      <th>9</th>\n      <td>Finance</td>\n      <td>None</td>\n      <td>None</td>\n    </tr>\n  </tbody>\n</table>\n</div>"
     },
     "execution_count": 11,
     "metadata": {},
     "output_type": "execute_result"
    }
   ],
   "source": [
    "# let's try to split those values (first in a separate data frame)\n",
    "subset = df['Sector'].str.split(',', expand = True)\n",
    "subset.head(10)"
   ]
  },
  {
   "cell_type": "code",
   "execution_count": 12,
   "id": "a70d1efd",
   "metadata": {},
   "outputs": [
    {
     "data": {
      "text/plain": "  Landgrabbed               Landgrabber      Base Hectares  \\\n0     Algeria                  Al Qudra       UAE  31000.0   \n1      Angola  CAMC Engineering Co. Ltd     China   1500.0   \n2      Angola                       ENI     Italy  12000.0   \n3      Angola                  AfriAgro  Portugal   5000.0   \n4      Angola           Eurico Ferreira  Portugal  30000.0   \n\n                  Production Projected investment Status of deal  \\\n0  Milk, olive oil, potatoes                  NaN           Done   \n1                       Rice        US$77 million          Done    \n2                   Oil palm                  NaN     In process   \n3                   Oil palm     US$30-35 million           Done   \n4                 Sugar cane       US$200 million           Done   \n\n                                             Summary       sector1  \\\n0  Al Qudra Holding is a joint-stock company esta...       Finance   \n1  CAMCE is a subsidiary of the China National Ma...  Construction   \n2  The project is a joint venture between Sonango...        Energy   \n3  AfriAgro is a subsidiary of the Portugal-based...       Finance   \n4  In 2008, Portuguese conglomerate Eurico Ferrei...        Energy   \n\n                   sector2 sector3  \n0              real estate    None  \n1                     None    None  \n2                     None    None  \n3              real estate    None  \n4   telecommunications\\r\\n    None  ",
      "text/html": "<div>\n<style scoped>\n    .dataframe tbody tr th:only-of-type {\n        vertical-align: middle;\n    }\n\n    .dataframe tbody tr th {\n        vertical-align: top;\n    }\n\n    .dataframe thead th {\n        text-align: right;\n    }\n</style>\n<table border=\"1\" class=\"dataframe\">\n  <thead>\n    <tr style=\"text-align: right;\">\n      <th></th>\n      <th>Landgrabbed</th>\n      <th>Landgrabber</th>\n      <th>Base</th>\n      <th>Hectares</th>\n      <th>Production</th>\n      <th>Projected investment</th>\n      <th>Status of deal</th>\n      <th>Summary</th>\n      <th>sector1</th>\n      <th>sector2</th>\n      <th>sector3</th>\n    </tr>\n  </thead>\n  <tbody>\n    <tr>\n      <th>0</th>\n      <td>Algeria</td>\n      <td>Al Qudra</td>\n      <td>UAE</td>\n      <td>31000.0</td>\n      <td>Milk, olive oil, potatoes</td>\n      <td>NaN</td>\n      <td>Done</td>\n      <td>Al Qudra Holding is a joint-stock company esta...</td>\n      <td>Finance</td>\n      <td>real estate</td>\n      <td>None</td>\n    </tr>\n    <tr>\n      <th>1</th>\n      <td>Angola</td>\n      <td>CAMC Engineering Co. Ltd</td>\n      <td>China</td>\n      <td>1500.0</td>\n      <td>Rice</td>\n      <td>US$77 million</td>\n      <td>Done</td>\n      <td>CAMCE is a subsidiary of the China National Ma...</td>\n      <td>Construction</td>\n      <td>None</td>\n      <td>None</td>\n    </tr>\n    <tr>\n      <th>2</th>\n      <td>Angola</td>\n      <td>ENI</td>\n      <td>Italy</td>\n      <td>12000.0</td>\n      <td>Oil palm</td>\n      <td>NaN</td>\n      <td>In process</td>\n      <td>The project is a joint venture between Sonango...</td>\n      <td>Energy</td>\n      <td>None</td>\n      <td>None</td>\n    </tr>\n    <tr>\n      <th>3</th>\n      <td>Angola</td>\n      <td>AfriAgro</td>\n      <td>Portugal</td>\n      <td>5000.0</td>\n      <td>Oil palm</td>\n      <td>US$30-35 million</td>\n      <td>Done</td>\n      <td>AfriAgro is a subsidiary of the Portugal-based...</td>\n      <td>Finance</td>\n      <td>real estate</td>\n      <td>None</td>\n    </tr>\n    <tr>\n      <th>4</th>\n      <td>Angola</td>\n      <td>Eurico Ferreira</td>\n      <td>Portugal</td>\n      <td>30000.0</td>\n      <td>Sugar cane</td>\n      <td>US$200 million</td>\n      <td>Done</td>\n      <td>In 2008, Portuguese conglomerate Eurico Ferrei...</td>\n      <td>Energy</td>\n      <td>telecommunications\\r\\n</td>\n      <td>None</td>\n    </tr>\n  </tbody>\n</table>\n</div>"
     },
     "execution_count": 12,
     "metadata": {},
     "output_type": "execute_result"
    }
   ],
   "source": [
    "# we can also include the newly split columns in the dataframe itself\n",
    "df[['sector1', 'sector2', 'sector3']] = df['Sector'].str.split(',', expand = True)\n",
    "# and delete the original column to clean the set (and prevent duplicate values)\n",
    "df.drop('Sector', axis='columns', inplace=True)\n",
    "df.head()"
   ]
  },
  {
   "cell_type": "code",
   "execution_count": 13,
   "id": "eeb3fcd0",
   "metadata": {},
   "outputs": [
    {
     "data": {
      "text/plain": "array(['Done', 'Done ', 'In process', 'Done (50-yr lease)', 'Suspended',\n       'Proposed', 'MoU signed (2009)', 'Done\\r\\n', 'Suspended  ',\n       'Suspended (October 2011)'], dtype=object)"
     },
     "execution_count": 13,
     "metadata": {},
     "output_type": "execute_result"
    }
   ],
   "source": [
    "# By checking the unique values we actually find duplicated values in 'Status of deal'\n",
    "df['Status of deal'].unique()"
   ]
  },
  {
   "cell_type": "code",
   "execution_count": 14,
   "id": "ca60fbbb",
   "metadata": {},
   "outputs": [
    {
     "data": {
      "text/plain": "array(['Done', 'In process', 'Done (50-yr lease)', 'Suspended',\n       'Proposed', 'MoU signed (2009)', 'Suspended (October 2011)'],\n      dtype=object)"
     },
     "execution_count": 14,
     "metadata": {},
     "output_type": "execute_result"
    }
   ],
   "source": [
    "# among the string functions is strip() to remove all white spaces (and other 'invisible characters' )\n",
    "df['Status of deal'] = df['Status of deal'].str.strip()\n",
    "df['Status of deal'].unique()"
   ]
  },
  {
   "cell_type": "code",
   "execution_count": 15,
   "id": "c92d2651",
   "metadata": {},
   "outputs": [
    {
     "data": {
      "text/plain": "False    416\ndtype: int64"
     },
     "execution_count": 15,
     "metadata": {},
     "output_type": "execute_result"
    }
   ],
   "source": [
    "# check for duplicate values\n",
    "df.duplicated().value_counts()"
   ]
  },
  {
   "cell_type": "code",
   "execution_count": 17,
   "id": "32a29a51",
   "metadata": {},
   "outputs": [
    {
     "data": {
      "text/plain": "array([nan, 'US$77 million', 'US$30-35 million', 'US$200 million',\n       'US$1,500 million', 'US$83 million', 'US$40 million',\n       'US$415 million', 'US$6.4 million', 'US$27 million',\n       'US$79 million ', 'US$400 million', 'US$1,876 million',\n       'US$21 million', 'US$336 million', 'US$136 million',\n       'US$456 million', 'US$375 million', 'US$16.7 million',\n       'US$5 million', 'US$879 million', 'US$569 million',\n       'US$80 million', 'US$1,240 million', 'US$73 million ',\n       'US$43 million', 'US$600 million', 'US$23 million',\n       'US$40 million ', 'US$120 million', 'US$18,400 million',\n       'US$6.2 million', 'US$300 million', 'US$7 million',\n       'US$55 million', 'US$350 million', 'US$100 million',\n       'US$77 million ', 'US$8/ha/yr (lease)', 'US$4/ha/yr (lease)',\n       'US$1.2/ha/yr (after first 7 years) in Gambela and US$8/ha/yr (after first 6 years) in Bako',\n       'US$4 million (lease cost for 25,000 ha)', 'US$10 million ',\n       'US$18 million', 'US$2,500 million ', 'US$250 million',\n       'US$328 million', 'US$2 billion ', 'US$2 billion', 'US$50 million',\n       'US$166 million', 'US$64 million ', 'US$30 million',\n       'US$3.1 billion ', 'US$1.6 billion ', 'US$100 million ',\n       'US$41 million', 'US$320 million\\r\\n', 'US$33 million',\n       'US$30 million ', 'US$35 million', 'US$7.7 million',\n       'US$20 million', 'US$42 million', 'US$111 million',\n       'US$53.2 million ', 'US$4.8 million', 'US$16.3 million',\n       'US$15 million', 'US$34.1 million', 'US$57,600 (US$0.80/ha)',\n       'US$254 million ', 'US$120 million ',\n       'US$205 million (half of fund)', 'US$39 million ', 'US$75 million',\n       'US$6.5 million', 'US$204 million', 'US$1.3 billion ',\n       'US$65 million', 'US$788 million', 'US$125,000/yr (land lease)',\n       'US$160 million', 'US$45.3 million', 'US$5.49 million',\n       'US$500 million', 'US$600 million ', 'US$12.5 million ',\n       'US$251 million', 'US$85 million '], dtype=object)"
     },
     "execution_count": 17,
     "metadata": {},
     "output_type": "execute_result"
    }
   ],
   "source": [
    "# try to 'fix' US$77 million in the Projected Investment column\n",
    "df['Projected investment'].unique()\n"
   ]
  },
  {
   "cell_type": "code",
   "execution_count": 53,
   "outputs": [
    {
     "data": {
      "text/plain": "0                   NaN\n1         US$77 million\n2                   NaN\n3      US$30-35 million\n4        US$200 million\n             ...       \n411                 NaN\n412      US$251 million\n413      US$85 million \n414                 NaN\n415                 NaN\nName: Projected investment, Length: 416, dtype: object"
     },
     "execution_count": 53,
     "metadata": {},
     "output_type": "execute_result"
    }
   ],
   "source": [
    "df['Projected investment'].replace(\"million\",\"\")"
   ],
   "metadata": {
    "collapsed": false
   }
  }
 ],
 "metadata": {
  "kernelspec": {
   "display_name": "Python 3",
   "language": "python",
   "name": "python3"
  },
  "language_info": {
   "codemirror_mode": {
    "name": "ipython",
    "version": 3
   },
   "file_extension": ".py",
   "mimetype": "text/x-python",
   "name": "python",
   "nbconvert_exporter": "python",
   "pygments_lexer": "ipython3",
   "version": "3.8.8"
  }
 },
 "nbformat": 4,
 "nbformat_minor": 5
}
