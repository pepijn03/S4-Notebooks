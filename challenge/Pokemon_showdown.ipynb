{
 "cells": [
  {
   "cell_type": "markdown",
   "source": [
    "# Pokémon showdown challenge\n",
    "\n",
    "To start off I needed a way to read out the data files that contain usage stats provided by Smogon*. As a base I used a script made by Kaggle user named 'Fruity Fritz'. I needed to reform a bit of their code to fit my own wants and needs."
   ],
   "metadata": {
    "collapsed": false
   }
  },
  {
   "cell_type": "code",
   "execution_count": 1,
   "outputs": [],
   "source": [
    "#some general imports needed for data cleaning\n",
    "import pandas as pd\n",
    "import urllib.request as urllib, os\n",
    "import ssl"
   ],
   "metadata": {
    "collapsed": false
   }
  },
  {
   "cell_type": "code",
   "execution_count": 2,
   "outputs": [],
   "source": [
    "# made function to format the same sort of file later\n",
    "def import_showdown_usage_stats(url, filename): # file url and name for local storage\n",
    "    # location for datafile\n",
    "    datafolder = 'data/'\n",
    "    #download file from url to local storage\n",
    "    gcontext = ssl.SSLContext() # needed to avoid possible certificate validation error\n",
    "    downloaded = urllib.urlopen(url, context=gcontext)\n",
    "    buf = downloaded.read()\n",
    "\n",
    "    try:\n",
    "        os.mkdir(datafolder)\n",
    "    except FileExistsError:\n",
    "        pass\n",
    "\n",
    "    with open(datafolder + filename, 'wb') as f:\n",
    "        f.write(buf)\n",
    "    # import dataframe\n",
    "    df = pd.read_csv(datafolder + filename, sep=\"|\",skiprows=5,names=[\"rank\",\"pokemon\",\"usage\",\"count\",],usecols=[1,2,3,4])\n",
    "    # drop any NaNs we find\n",
    "    df.dropna(inplace=True)\n",
    "    # changing data type of the columns\n",
    "    for k, v in {\"rank\":int,\"pokemon\":str, \"usage\":str, \"count\":int}.items():\n",
    "        df[k] = df[k].astype(v)\n",
    "    # fixing leading/trailing white spaces\n",
    "    df[\"pokemon\"] = df[\"pokemon\"].str.strip()\n",
    "    df[\"usage\"] = df[\"usage\"].str.strip()\n",
    "    # fixing format of string to not use '%'\n",
    "    df[\"usage\"] = df[\"usage\"].str.rstrip('%')\n",
    "    # change datatype of usage_%\n",
    "    df[\"usage\"] = df[\"usage\"].astype(float) / 100\n",
    "    # get rid of unnecessary columns\n",
    "    df = df[['pokemon' ,'count' ,'usage']]\n",
    "    return df"
   ],
   "metadata": {
    "collapsed": false
   }
  },
  {
   "cell_type": "markdown",
   "source": [
    "Now we need to use the method above to import and format a usage file from Smogon."
   ],
   "metadata": {
    "collapsed": false
   }
  },
  {
   "cell_type": "code",
   "execution_count": 3,
   "outputs": [
    {
     "name": "stdout",
     "output_type": "stream",
     "text": [
      "(393, 3)\n"
     ]
    },
    {
     "data": {
      "text/plain": "        pokemon   count     usage\n0  Flutter Mane  795029  0.280452\n1    Iron Hands  724440  0.255552\n2     Amoonguss  705360  0.248821\n3   Iron Bundle  663073  0.233904\n4     Gholdengo  635767  0.224272",
      "text/html": "<div>\n<style scoped>\n    .dataframe tbody tr th:only-of-type {\n        vertical-align: middle;\n    }\n\n    .dataframe tbody tr th {\n        vertical-align: top;\n    }\n\n    .dataframe thead th {\n        text-align: right;\n    }\n</style>\n<table border=\"1\" class=\"dataframe\">\n  <thead>\n    <tr style=\"text-align: right;\">\n      <th></th>\n      <th>pokemon</th>\n      <th>count</th>\n      <th>usage</th>\n    </tr>\n  </thead>\n  <tbody>\n    <tr>\n      <th>0</th>\n      <td>Flutter Mane</td>\n      <td>795029</td>\n      <td>0.280452</td>\n    </tr>\n    <tr>\n      <th>1</th>\n      <td>Iron Hands</td>\n      <td>724440</td>\n      <td>0.255552</td>\n    </tr>\n    <tr>\n      <th>2</th>\n      <td>Amoonguss</td>\n      <td>705360</td>\n      <td>0.248821</td>\n    </tr>\n    <tr>\n      <th>3</th>\n      <td>Iron Bundle</td>\n      <td>663073</td>\n      <td>0.233904</td>\n    </tr>\n    <tr>\n      <th>4</th>\n      <td>Gholdengo</td>\n      <td>635767</td>\n      <td>0.224272</td>\n    </tr>\n  </tbody>\n</table>\n</div>"
     },
     "execution_count": 3,
     "metadata": {},
     "output_type": "execute_result"
    }
   ],
   "source": [
    "usage_stats = import_showdown_usage_stats(url = \"https://www.smogon.com/stats/2023-01/gen9vgc2023series2-0.txt\", filename=\"gen9s2vgc0.txt\")\n",
    "print(usage_stats.shape)\n",
    "usage_stats.head()"
   ],
   "metadata": {
    "collapsed": false
   }
  },
  {
   "cell_type": "markdown",
   "source": [
    "Then I searched for a complete dataset containing all Pokémon and their various forms. That's where I found a somewhat good [datafile through Kaggle](https://www.kaggle.com/datasets/brdata/complete-pokemon-dataset-gen-iiv). This file will be used to merge onto the Smogon usage datafile and not just the one I imported above. To later validate my findings I plan to use different usage files from different generations, that is why it is important for this datafile to be complete.\n",
    "\n",
    "I imported it as a csv file and found out the encoding was not the standard UTF-8 encoding, so I just needed to specify the encoding in the read function."
   ],
   "metadata": {
    "collapsed": false
   }
  },
  {
   "cell_type": "code",
   "execution_count": 4,
   "outputs": [
    {
     "name": "stdout",
     "output_type": "stream",
     "text": [
      "(1173, 12)\n"
     ]
    },
    {
     "data": {
      "text/plain": "   dex#     pokemon  type1   type2  total  hp  attack  defence  sp.attack  \\\n0     1   Bulbasaur  Grass  Poison    318  45      49       49         65   \n1     2     Ivysaur  Grass  Poison    405  60      62       63         80   \n2     3    Venusaur  Grass  Poison    525  80      82       83        100   \n3     3    Venusaur  Grass  Poison    625  80     100      123        122   \n4     4  Charmander   Fire     NaN    309  39      52       43         60   \n5     5  Charmeleon   Fire     NaN    405  58      64       58         80   \n6     6   Charizard   Fire  Dragon    634  78     130      111        130   \n7     6   Charizard   Fire  Flying    634  78     104       78        159   \n8     6   Charizard   Fire  Flying    534  78      84       78        109   \n9     7    Squirtle  Water     NaN    314  44      48       65         50   \n\n   sp.defence  speed variant  \n0          65     45     NaN  \n1          80     60     NaN  \n2         100     80     NaN  \n3         120     80     NaN  \n4          50     65     NaN  \n5          65     80     NaN  \n6          85    100  Mega X  \n7         115    100  Mega Y  \n8          85    100     NaN  \n9          64     43     NaN  ",
      "text/html": "<div>\n<style scoped>\n    .dataframe tbody tr th:only-of-type {\n        vertical-align: middle;\n    }\n\n    .dataframe tbody tr th {\n        vertical-align: top;\n    }\n\n    .dataframe thead th {\n        text-align: right;\n    }\n</style>\n<table border=\"1\" class=\"dataframe\">\n  <thead>\n    <tr style=\"text-align: right;\">\n      <th></th>\n      <th>dex#</th>\n      <th>pokemon</th>\n      <th>type1</th>\n      <th>type2</th>\n      <th>total</th>\n      <th>hp</th>\n      <th>attack</th>\n      <th>defence</th>\n      <th>sp.attack</th>\n      <th>sp.defence</th>\n      <th>speed</th>\n      <th>variant</th>\n    </tr>\n  </thead>\n  <tbody>\n    <tr>\n      <th>0</th>\n      <td>1</td>\n      <td>Bulbasaur</td>\n      <td>Grass</td>\n      <td>Poison</td>\n      <td>318</td>\n      <td>45</td>\n      <td>49</td>\n      <td>49</td>\n      <td>65</td>\n      <td>65</td>\n      <td>45</td>\n      <td>NaN</td>\n    </tr>\n    <tr>\n      <th>1</th>\n      <td>2</td>\n      <td>Ivysaur</td>\n      <td>Grass</td>\n      <td>Poison</td>\n      <td>405</td>\n      <td>60</td>\n      <td>62</td>\n      <td>63</td>\n      <td>80</td>\n      <td>80</td>\n      <td>60</td>\n      <td>NaN</td>\n    </tr>\n    <tr>\n      <th>2</th>\n      <td>3</td>\n      <td>Venusaur</td>\n      <td>Grass</td>\n      <td>Poison</td>\n      <td>525</td>\n      <td>80</td>\n      <td>82</td>\n      <td>83</td>\n      <td>100</td>\n      <td>100</td>\n      <td>80</td>\n      <td>NaN</td>\n    </tr>\n    <tr>\n      <th>3</th>\n      <td>3</td>\n      <td>Venusaur</td>\n      <td>Grass</td>\n      <td>Poison</td>\n      <td>625</td>\n      <td>80</td>\n      <td>100</td>\n      <td>123</td>\n      <td>122</td>\n      <td>120</td>\n      <td>80</td>\n      <td>NaN</td>\n    </tr>\n    <tr>\n      <th>4</th>\n      <td>4</td>\n      <td>Charmander</td>\n      <td>Fire</td>\n      <td>NaN</td>\n      <td>309</td>\n      <td>39</td>\n      <td>52</td>\n      <td>43</td>\n      <td>60</td>\n      <td>50</td>\n      <td>65</td>\n      <td>NaN</td>\n    </tr>\n    <tr>\n      <th>5</th>\n      <td>5</td>\n      <td>Charmeleon</td>\n      <td>Fire</td>\n      <td>NaN</td>\n      <td>405</td>\n      <td>58</td>\n      <td>64</td>\n      <td>58</td>\n      <td>80</td>\n      <td>65</td>\n      <td>80</td>\n      <td>NaN</td>\n    </tr>\n    <tr>\n      <th>6</th>\n      <td>6</td>\n      <td>Charizard</td>\n      <td>Fire</td>\n      <td>Dragon</td>\n      <td>634</td>\n      <td>78</td>\n      <td>130</td>\n      <td>111</td>\n      <td>130</td>\n      <td>85</td>\n      <td>100</td>\n      <td>Mega X</td>\n    </tr>\n    <tr>\n      <th>7</th>\n      <td>6</td>\n      <td>Charizard</td>\n      <td>Fire</td>\n      <td>Flying</td>\n      <td>634</td>\n      <td>78</td>\n      <td>104</td>\n      <td>78</td>\n      <td>159</td>\n      <td>115</td>\n      <td>100</td>\n      <td>Mega Y</td>\n    </tr>\n    <tr>\n      <th>8</th>\n      <td>6</td>\n      <td>Charizard</td>\n      <td>Fire</td>\n      <td>Flying</td>\n      <td>534</td>\n      <td>78</td>\n      <td>84</td>\n      <td>78</td>\n      <td>109</td>\n      <td>85</td>\n      <td>100</td>\n      <td>NaN</td>\n    </tr>\n    <tr>\n      <th>9</th>\n      <td>7</td>\n      <td>Squirtle</td>\n      <td>Water</td>\n      <td>NaN</td>\n      <td>314</td>\n      <td>44</td>\n      <td>48</td>\n      <td>65</td>\n      <td>50</td>\n      <td>64</td>\n      <td>43</td>\n      <td>NaN</td>\n    </tr>\n  </tbody>\n</table>\n</div>"
     },
     "execution_count": 4,
     "metadata": {},
     "output_type": "execute_result"
    }
   ],
   "source": [
    "names = [\"dex#\",\"pokemon\",\"type1\",\"type2\",\"total\",\"hp\",\"attack\",\"defence\",\"sp.attack\",\"sp.defence\",\"speed\",\"variant\"]\n",
    "stats = pd.read_csv(\"./data/Pokedex_Cleaned.csv\",names=names,encoding='windows-1252')\n",
    "print(stats.shape)\n",
    "stats.head(10)"
   ],
   "metadata": {
    "collapsed": false
   }
  },
  {
   "cell_type": "markdown",
   "source": [
    "There were a lot of NaN values which I needed to fill in a way so that the data is 'complete' and ready to be merged with the usage dataset from Smogon."
   ],
   "metadata": {
    "collapsed": false
   }
  },
  {
   "cell_type": "code",
   "execution_count": 5,
   "outputs": [
    {
     "data": {
      "text/plain": "   dex#     pokemon  type1   type2  total  hp  attack  defence  sp.attack  \\\n0     1   Bulbasaur  Grass  Poison    318  45      49       49         65   \n1     2     Ivysaur  Grass  Poison    405  60      62       63         80   \n2     3    Venusaur  Grass  Poison    525  80      82       83        100   \n3     3    Venusaur  Grass  Poison    625  80     100      123        122   \n4     4  Charmander   Fire    none    309  39      52       43         60   \n5     5  Charmeleon   Fire    none    405  58      64       58         80   \n6     6   Charizard   Fire  Dragon    634  78     130      111        130   \n7     6   Charizard   Fire  Flying    634  78     104       78        159   \n8     6   Charizard   Fire  Flying    534  78      84       78        109   \n9     7    Squirtle  Water    none    314  44      48       65         50   \n\n   sp.defence  speed variant  \n0          65     45          \n1          80     60          \n2         100     80          \n3         120     80          \n4          50     65          \n5          65     80          \n6          85    100  Mega X  \n7         115    100  Mega Y  \n8          85    100          \n9          64     43          ",
      "text/html": "<div>\n<style scoped>\n    .dataframe tbody tr th:only-of-type {\n        vertical-align: middle;\n    }\n\n    .dataframe tbody tr th {\n        vertical-align: top;\n    }\n\n    .dataframe thead th {\n        text-align: right;\n    }\n</style>\n<table border=\"1\" class=\"dataframe\">\n  <thead>\n    <tr style=\"text-align: right;\">\n      <th></th>\n      <th>dex#</th>\n      <th>pokemon</th>\n      <th>type1</th>\n      <th>type2</th>\n      <th>total</th>\n      <th>hp</th>\n      <th>attack</th>\n      <th>defence</th>\n      <th>sp.attack</th>\n      <th>sp.defence</th>\n      <th>speed</th>\n      <th>variant</th>\n    </tr>\n  </thead>\n  <tbody>\n    <tr>\n      <th>0</th>\n      <td>1</td>\n      <td>Bulbasaur</td>\n      <td>Grass</td>\n      <td>Poison</td>\n      <td>318</td>\n      <td>45</td>\n      <td>49</td>\n      <td>49</td>\n      <td>65</td>\n      <td>65</td>\n      <td>45</td>\n      <td></td>\n    </tr>\n    <tr>\n      <th>1</th>\n      <td>2</td>\n      <td>Ivysaur</td>\n      <td>Grass</td>\n      <td>Poison</td>\n      <td>405</td>\n      <td>60</td>\n      <td>62</td>\n      <td>63</td>\n      <td>80</td>\n      <td>80</td>\n      <td>60</td>\n      <td></td>\n    </tr>\n    <tr>\n      <th>2</th>\n      <td>3</td>\n      <td>Venusaur</td>\n      <td>Grass</td>\n      <td>Poison</td>\n      <td>525</td>\n      <td>80</td>\n      <td>82</td>\n      <td>83</td>\n      <td>100</td>\n      <td>100</td>\n      <td>80</td>\n      <td></td>\n    </tr>\n    <tr>\n      <th>3</th>\n      <td>3</td>\n      <td>Venusaur</td>\n      <td>Grass</td>\n      <td>Poison</td>\n      <td>625</td>\n      <td>80</td>\n      <td>100</td>\n      <td>123</td>\n      <td>122</td>\n      <td>120</td>\n      <td>80</td>\n      <td></td>\n    </tr>\n    <tr>\n      <th>4</th>\n      <td>4</td>\n      <td>Charmander</td>\n      <td>Fire</td>\n      <td>none</td>\n      <td>309</td>\n      <td>39</td>\n      <td>52</td>\n      <td>43</td>\n      <td>60</td>\n      <td>50</td>\n      <td>65</td>\n      <td></td>\n    </tr>\n    <tr>\n      <th>5</th>\n      <td>5</td>\n      <td>Charmeleon</td>\n      <td>Fire</td>\n      <td>none</td>\n      <td>405</td>\n      <td>58</td>\n      <td>64</td>\n      <td>58</td>\n      <td>80</td>\n      <td>65</td>\n      <td>80</td>\n      <td></td>\n    </tr>\n    <tr>\n      <th>6</th>\n      <td>6</td>\n      <td>Charizard</td>\n      <td>Fire</td>\n      <td>Dragon</td>\n      <td>634</td>\n      <td>78</td>\n      <td>130</td>\n      <td>111</td>\n      <td>130</td>\n      <td>85</td>\n      <td>100</td>\n      <td>Mega X</td>\n    </tr>\n    <tr>\n      <th>7</th>\n      <td>6</td>\n      <td>Charizard</td>\n      <td>Fire</td>\n      <td>Flying</td>\n      <td>634</td>\n      <td>78</td>\n      <td>104</td>\n      <td>78</td>\n      <td>159</td>\n      <td>115</td>\n      <td>100</td>\n      <td>Mega Y</td>\n    </tr>\n    <tr>\n      <th>8</th>\n      <td>6</td>\n      <td>Charizard</td>\n      <td>Fire</td>\n      <td>Flying</td>\n      <td>534</td>\n      <td>78</td>\n      <td>84</td>\n      <td>78</td>\n      <td>109</td>\n      <td>85</td>\n      <td>100</td>\n      <td></td>\n    </tr>\n    <tr>\n      <th>9</th>\n      <td>7</td>\n      <td>Squirtle</td>\n      <td>Water</td>\n      <td>none</td>\n      <td>314</td>\n      <td>44</td>\n      <td>48</td>\n      <td>65</td>\n      <td>50</td>\n      <td>64</td>\n      <td>43</td>\n      <td></td>\n    </tr>\n  </tbody>\n</table>\n</div>"
     },
     "execution_count": 5,
     "metadata": {},
     "output_type": "execute_result"
    }
   ],
   "source": [
    "stats.type2 = stats.type2.fillna('none') # if the second typing is NaN it means there is no second typing hence the value of none\n",
    "stats.variant = stats.variant.fillna('') # if the variant is NaN it means there is no variant. replaced with empty string to add variant at the end of the name as done in the usage df\n",
    "stats.head(10)"
   ],
   "metadata": {
    "collapsed": false
   }
  },
  {
   "cell_type": "markdown",
   "source": [
    "After seeing the datafile above I wanted to check the values of both the type columns.\n",
    "\n",
    "First I wanted to check the type2 column, so I can see if the previous action to fill the NaN values actually worked."
   ],
   "metadata": {
    "collapsed": false
   }
  },
  {
   "cell_type": "code",
   "execution_count": 6,
   "outputs": [
    {
     "data": {
      "text/plain": "none        540\nFlying      118\nPsychic      47\nPoison       46\nFairy        42\nFighting     42\nGround       41\nSteel        38\nDragon       35\nGhost        34\nGrass        34\nDark         33\nWater        22\nIce          22\nFire         19\nRock         19\nNormal       19\nElectric     13\nBug           9\nName: type2, dtype: int64"
     },
     "execution_count": 6,
     "metadata": {},
     "output_type": "execute_result"
    }
   ],
   "source": [
    "stats.type2.value_counts()"
   ],
   "metadata": {
    "collapsed": false
   }
  },
  {
   "cell_type": "markdown",
   "source": [
    "These values are what I expected and also what I want from this column\n",
    "\n",
    "When inspecting the datafile in another software tool, I found that there were some wierd values in type1 and  wanted to check them out."
   ],
   "metadata": {
    "collapsed": false
   }
  },
  {
   "cell_type": "code",
   "execution_count": 7,
   "outputs": [
    {
     "data": {
      "text/plain": "Water       147\nNormal      130\nGrass       102\nBug          99\nPsychic      76\nElectric     73\nFire         73\nRock         67\nDark         56\nDragon       47\nGround       47\nPoison       46\nFighting     46\nGhost        46\nSteel        42\nFairy        32\nIce          27\nFlying       12\nNull          2\nMale          1\nFemale        1\nRockruff      1\nName: type1, dtype: int64"
     },
     "execution_count": 7,
     "metadata": {},
     "output_type": "execute_result"
    }
   ],
   "source": [
    "stats.type1.value_counts()"
   ],
   "metadata": {
    "collapsed": false
   }
  },
  {
   "cell_type": "markdown",
   "source": [
    "After seeing the wierd values of Rockruff, null, male and female in typings I further looked into them."
   ],
   "metadata": {
    "collapsed": false
   }
  },
  {
   "cell_type": "code",
   "execution_count": 8,
   "outputs": [
    {
     "data": {
      "text/plain": "     dex#   pokemon     type1    type2  total  hp  attack  defence  sp.attack  \\\n801   678  Meowstic      Male  Psychic    466  74      48       76         83   \n802   678  Meowstic    Female  Psychic    466  74      48       76         83   \n884   744  Rockruff  Rockruff     Rock    280  45      65       40         30   \n916   772     Type:      Null   Normal    534  95      95       95         95   \n917   772     Type:      Null     none    534  95      95       95         95   \n\n     sp.defence  speed    variant  \n801          81    104             \n802          81    104             \n884          40     60  Own Tempo  \n916          95     59             \n917          95     59             ",
      "text/html": "<div>\n<style scoped>\n    .dataframe tbody tr th:only-of-type {\n        vertical-align: middle;\n    }\n\n    .dataframe tbody tr th {\n        vertical-align: top;\n    }\n\n    .dataframe thead th {\n        text-align: right;\n    }\n</style>\n<table border=\"1\" class=\"dataframe\">\n  <thead>\n    <tr style=\"text-align: right;\">\n      <th></th>\n      <th>dex#</th>\n      <th>pokemon</th>\n      <th>type1</th>\n      <th>type2</th>\n      <th>total</th>\n      <th>hp</th>\n      <th>attack</th>\n      <th>defence</th>\n      <th>sp.attack</th>\n      <th>sp.defence</th>\n      <th>speed</th>\n      <th>variant</th>\n    </tr>\n  </thead>\n  <tbody>\n    <tr>\n      <th>801</th>\n      <td>678</td>\n      <td>Meowstic</td>\n      <td>Male</td>\n      <td>Psychic</td>\n      <td>466</td>\n      <td>74</td>\n      <td>48</td>\n      <td>76</td>\n      <td>83</td>\n      <td>81</td>\n      <td>104</td>\n      <td></td>\n    </tr>\n    <tr>\n      <th>802</th>\n      <td>678</td>\n      <td>Meowstic</td>\n      <td>Female</td>\n      <td>Psychic</td>\n      <td>466</td>\n      <td>74</td>\n      <td>48</td>\n      <td>76</td>\n      <td>83</td>\n      <td>81</td>\n      <td>104</td>\n      <td></td>\n    </tr>\n    <tr>\n      <th>884</th>\n      <td>744</td>\n      <td>Rockruff</td>\n      <td>Rockruff</td>\n      <td>Rock</td>\n      <td>280</td>\n      <td>45</td>\n      <td>65</td>\n      <td>40</td>\n      <td>30</td>\n      <td>40</td>\n      <td>60</td>\n      <td>Own Tempo</td>\n    </tr>\n    <tr>\n      <th>916</th>\n      <td>772</td>\n      <td>Type:</td>\n      <td>Null</td>\n      <td>Normal</td>\n      <td>534</td>\n      <td>95</td>\n      <td>95</td>\n      <td>95</td>\n      <td>95</td>\n      <td>95</td>\n      <td>59</td>\n      <td></td>\n    </tr>\n    <tr>\n      <th>917</th>\n      <td>772</td>\n      <td>Type:</td>\n      <td>Null</td>\n      <td>none</td>\n      <td>534</td>\n      <td>95</td>\n      <td>95</td>\n      <td>95</td>\n      <td>95</td>\n      <td>95</td>\n      <td>59</td>\n      <td></td>\n    </tr>\n  </tbody>\n</table>\n</div>"
     },
     "execution_count": 8,
     "metadata": {},
     "output_type": "execute_result"
    }
   ],
   "source": [
    "stats.loc[(stats['type1'] == \"Rockruff\") | (stats['type1'] == \"Male\") | (stats['type1'] == \"Female\") | (stats['type1'] == \"Null\")]"
   ],
   "metadata": {
    "collapsed": false
   }
  },
  {
   "cell_type": "markdown",
   "source": [
    "The null value is from a Pokémon named \"type:null\", both records are for this same Pokémon. The stats are exactly the same, so I will delete the second mention and just replace the faulty record with a correct one.\n",
    "\n",
    "The values for male and female are faulty in the sense that they occupy the wrong column, they need to be in variant but are in type1. The Rockruff record is also faulty. the Variant value contains their 'ability' which is another attribute that we do not need in this dataset. I have no idea why it is here.\n",
    "\n",
    "Because there are only 5 faulty records, I am going to manually replace them."
   ],
   "metadata": {
    "collapsed": false
   }
  },
  {
   "cell_type": "code",
   "execution_count": 9,
   "outputs": [
    {
     "data": {
      "text/plain": "Water       147\nNormal      131\nGrass       102\nBug          99\nPsychic      78\nFire         73\nElectric     73\nRock         68\nDark         56\nGround       47\nDragon       47\nFighting     46\nPoison       46\nGhost        46\nSteel        42\nFairy        32\nIce          27\nFlying       12\nName: type1, dtype: int64"
     },
     "execution_count": 9,
     "metadata": {},
     "output_type": "execute_result"
    }
   ],
   "source": [
    "stats.loc[801] = ['678','Meowstic','Psychic','none','466','74','48','76','83','71','104','Male']\n",
    "stats.loc[802] = ['678','Meowstic','Psychic','none','466','74','48','76','83','71','104','Female']\n",
    "stats.loc[884] = ['744','Rockruff','Rock','none','280','45','65','40','30','40','60','']\n",
    "stats.loc[916] = ['772','Type:Null','Normal','none','534','95','95','95','95','95','59','']\n",
    "stats.drop(stats.index[917], inplace=True)\n",
    "\n",
    "stats.type1.value_counts()"
   ],
   "metadata": {
    "collapsed": false
   }
  },
  {
   "cell_type": "markdown",
   "source": [
    "As you can see, the weird values are now no longer present in the dataset.\n",
    "\n",
    "Now we are going to change the notation of the Variant to those that are used by our usage stats dataframe. These notations are the ones that Smogon uses.\n",
    "When I found this dataset I knew it would take a lot of work to get all the data cleaned. I still chose this one because it was the most complete I could find. Even tough this dataset takes a lot of work to prepare, it only needs data cleaning, other datasets would need to be merged together to create this one and I prefer to clean just one dataset apposed to multiple\n",
    "\n",
    "The first thing we are going to do is remove all mega's from the list of Pokémon. This is because mega is a mechanic and not a Pokémon to choose for your team."
   ],
   "metadata": {
    "collapsed": false
   }
  },
  {
   "cell_type": "code",
   "execution_count": 10,
   "outputs": [
    {
     "data": {
      "text/plain": "                    981\nGalarian             16\nAlolan               15\nHisuian              13\nTherian Form          4\n                   ... \nConfined              1\nUnbound               1\nBaile Style           1\nPa u Style            1\nTwo-Segment Form      1\nName: variant, Length: 85, dtype: int64"
     },
     "execution_count": 10,
     "metadata": {},
     "output_type": "execute_result"
    }
   ],
   "source": [
    "stats = stats[stats.variant != 'Mega']\n",
    "stats = stats[stats.variant != 'Mega X']\n",
    "stats = stats[stats.variant != 'Mega Y']\n",
    "stats.variant.value_counts()"
   ],
   "metadata": {
    "collapsed": false
   }
  },
  {
   "cell_type": "markdown",
   "source": [
    "After this I needed to clean the remaining variants. To start with I changed the notation of the regions to the one that Smogon uses."
   ],
   "metadata": {
    "collapsed": false
   }
  },
  {
   "cell_type": "code",
   "execution_count": 11,
   "outputs": [],
   "source": [
    "stats['variant'] = stats['variant'].str.strip()\n",
    "# notation for region specific variants\n",
    "stats['variant'] = stats['variant'].replace(['Galarian'],'Galar')\n",
    "stats['variant'] = stats['variant'].replace(['Alolan'],'Alola')\n",
    "stats['variant'] = stats['variant'].replace(['Hisuian'],'Hisui')\n",
    "stats['variant'] = stats['variant'].replace(['Paldean'],'Paldea')"
   ],
   "metadata": {
    "collapsed": false
   }
  },
  {
   "cell_type": "markdown",
   "source": [
    "Then I changed the gender notations."
   ],
   "metadata": {
    "collapsed": false
   }
  },
  {
   "cell_type": "code",
   "execution_count": 12,
   "outputs": [],
   "source": [
    "# gender notation\n",
    "stats['variant'] = stats['variant'].replace(['Female'],'F')\n",
    "stats['variant'] = stats['variant'].replace(['Male'],'')"
   ],
   "metadata": {
    "collapsed": false
   }
  },
  {
   "cell_type": "markdown",
   "source": [
    "Then I removed the suffixes(?)."
   ],
   "metadata": {
    "collapsed": false
   }
  },
  {
   "cell_type": "code",
   "execution_count": 13,
   "outputs": [],
   "source": [
    "# removed unneeded endings\n",
    "stats['variant'] = stats['variant'].str.replace(' Form','')\n",
    "stats['variant'] = stats['variant'].str.replace(' Style','')\n",
    "stats['variant'] = stats['variant'].str.replace(' Super','')\n",
    "stats['variant'] = stats['variant'].str.replace(' Size','')\n",
    "stats['variant'] = stats['variant'].str.replace(' Plumage','')"
   ],
   "metadata": {
    "collapsed": false
   }
  },
  {
   "cell_type": "markdown",
   "source": [
    "After that I removed records of variant that do not change the stats of the Pokémon."
   ],
   "metadata": {
    "collapsed": false
   }
  },
  {
   "cell_type": "code",
   "execution_count": 14,
   "outputs": [],
   "source": [
    "# variants that dont matter in stats or are not available in Pokemon showdown\n",
    "stats = stats[stats.variant != 'Blue-Striped']\n",
    "stats = stats[stats.variant != 'Red-Striped']\n",
    "stats = stats[stats.variant != 'Partner']\n",
    "stats = stats[stats.variant != 'Altered']\n",
    "stats = stats[stats.variant != 'Eternamax']"
   ],
   "metadata": {
    "collapsed": false
   }
  },
  {
   "cell_type": "markdown",
   "source": [
    "There were still some Pokémon with multiple variants that did not have a base variant or empty variant. Those still needed fixing."
   ],
   "metadata": {
    "collapsed": false
   }
  },
  {
   "cell_type": "code",
   "execution_count": 15,
   "outputs": [],
   "source": [
    "# base forms that have a variant fixes\n",
    "stats['variant'] = stats['variant'].replace('White-Striped','')\n",
    "stats['variant'] = stats['variant'].replace('Hero of Many Battles','')\n",
    "stats['variant'] = stats['variant'].replace('Incarnate','')\n",
    "stats['variant'] = stats['variant'].replace('Ordinary','')\n",
    "stats['variant'] = stats['variant'].replace('Aria','')\n",
    "stats['variant'] = stats['variant'].replace('Shield','')\n",
    "stats['variant'] = stats['variant'].replace('Average','')\n",
    "stats['variant'] = stats['variant'].replace('50%','')\n",
    "stats['variant'] = stats['variant'].replace('Confined','')\n",
    "stats['variant'] = stats['variant'].replace('Baile','')\n",
    "stats['variant'] = stats['variant'].replace('Midday','')\n",
    "stats['variant'] = stats['variant'].replace('Solo','')\n",
    "stats['variant'] = stats['variant'].replace('Core','')\n",
    "stats['variant'] = stats['variant'].replace('Single Strike','')\n",
    "stats['variant'] = stats['variant'].replace('Full Belly Mode','')\n",
    "stats['variant'] = stats['variant'].replace('Family of Three','')\n",
    "stats['variant'] = stats['variant'].replace('Family of Four','')\n",
    "stats['variant'] = stats['variant'].replace('Amped','')\n",
    "stats['variant'] = stats['variant'].replace('Two-Segment','')\n",
    "stats['variant'] = stats['variant'].replace('Green','')"
   ],
   "metadata": {
    "collapsed": false
   }
  },
  {
   "cell_type": "markdown",
   "source": [
    "Now I needed to manually fix the variants that still needed fixes."
   ],
   "metadata": {
    "collapsed": false
   }
  },
  {
   "cell_type": "code",
   "execution_count": 16,
   "outputs": [
    {
     "data": {
      "text/plain": "                 1009\nGalar              17\nAlola              15\nHisui              13\nTherian             4\nOrigin              3\nF                   3\nLarge               2\nCrowned             2\nRapid-Strike        2\nTrash Cloak         2\nSandy Cloak         2\nPlant Cloak         2\nPrimal              2\nSmall               2\nSuper               2\nWhite               2\nDawn Wings          1\nMidnight            1\nSchool              1\nDusk                1\nMeteor              1\nLow-Key             1\nDusk Mane           1\nUltra               1\nPom-Pom             1\nHangry              1\nIce                 1\nShadow              1\nBlue                1\nYellow              1\nHero                1\nSensu               1\nBlade               1\nPa'u                1\nMow                 1\nPaldea              1\nRainy               1\nSnowy               1\nSunny               1\nFan                 1\nFrost               1\nHeat                1\nWash                1\nUnbound             1\nGalar-Zen           1\nBlack               1\nResolute            1\nPirouette           1\nAsh                 1\n10%                 1\nComplete            1\nThree-Segment       1\nName: variant, dtype: int64"
     },
     "execution_count": 16,
     "metadata": {},
     "output_type": "execute_result"
    }
   ],
   "source": [
    "# unique variant notation fixes\n",
    "stats['variant'] = stats['variant'].replace('Crowned Sword','Crowned')\n",
    "stats['variant'] = stats['variant'].replace('Crowned Shield','Crowned')\n",
    "stats['variant'] = stats['variant'].replace('Ice Rider','Ice')\n",
    "stats['variant'] = stats['variant'].replace('Shadow Rider','Shadow')\n",
    "stats['variant'] = stats['variant'].replace('Galarian Zen','Galar-Zen')\n",
    "stats['variant'] = stats['variant'].replace('Pa u',\"Pa'u\")\n",
    "stats['variant'] = stats['variant'].replace('Rapid Strike','Rapid-Strike')\n",
    "stats['variant'] = stats['variant'].replace('Zero','Rapid-Strike')\n",
    "stats['variant'] = stats['variant'].replace('Hangry Mode','Hangry')\n",
    "stats['variant'] = stats['variant'].replace('Low Key','Low-Key')\n",
    "stats['variant'] = stats['variant'].replace('Galarian Standard','Galar')\n",
    "\n",
    "stats.variant.value_counts()"
   ],
   "metadata": {
    "collapsed": false
   }
  },
  {
   "cell_type": "markdown",
   "source": [
    "After this there were still 6 variants that were not yet fully clean. These were the Pokémon: Burmy and Wormadam. These two Pokémon have the same shared 3 Variants, but those variants only matter for Wormadam and not for Burmy. This means I will need to manually these values. the Variants in question are the Plant Cloak, Sandy Cloak and Trash Cloak variants. The Plant cloak is the easiest to handle because this is the 'default' form according to the [Smogon Pokédex](https://www.smogon.com/dex/sv/pokemon/), this means that an empty('') value would be fitting for both Pokémon. The naming of cloak in the variant needs to be removed for the same reason.\n",
    " The only thing left to do was to remove the remaining Burmy, the way I found easiest was to locate them and manually remove the unneeded records."
   ],
   "metadata": {
    "collapsed": false
   }
  },
  {
   "cell_type": "code",
   "execution_count": 17,
   "outputs": [
    {
     "data": {
      "text/plain": "    dex#   pokemon type1   type2 total  hp attack defence sp.attack  \\\n493  412     Burmy   Bug    none   224  40     29      45        29   \n494  412     Burmy   Bug    none   224  40     29      45        29   \n495  412     Burmy   Bug    none   224  40     29      45        29   \n499  413  Wormadam   Bug   Grass   424  60     59      85        79   \n500  413  Wormadam   Bug  Ground   424  60     79     105        59   \n501  413  Wormadam   Bug   Steel   424  60     69      95        69   \n\n    sp.defence speed variant  \n493         45    36          \n494         45    36   Sandy  \n495         45    36   Trash  \n499        105    36          \n500         85    36   Sandy  \n501         95    36   Trash  ",
      "text/html": "<div>\n<style scoped>\n    .dataframe tbody tr th:only-of-type {\n        vertical-align: middle;\n    }\n\n    .dataframe tbody tr th {\n        vertical-align: top;\n    }\n\n    .dataframe thead th {\n        text-align: right;\n    }\n</style>\n<table border=\"1\" class=\"dataframe\">\n  <thead>\n    <tr style=\"text-align: right;\">\n      <th></th>\n      <th>dex#</th>\n      <th>pokemon</th>\n      <th>type1</th>\n      <th>type2</th>\n      <th>total</th>\n      <th>hp</th>\n      <th>attack</th>\n      <th>defence</th>\n      <th>sp.attack</th>\n      <th>sp.defence</th>\n      <th>speed</th>\n      <th>variant</th>\n    </tr>\n  </thead>\n  <tbody>\n    <tr>\n      <th>493</th>\n      <td>412</td>\n      <td>Burmy</td>\n      <td>Bug</td>\n      <td>none</td>\n      <td>224</td>\n      <td>40</td>\n      <td>29</td>\n      <td>45</td>\n      <td>29</td>\n      <td>45</td>\n      <td>36</td>\n      <td></td>\n    </tr>\n    <tr>\n      <th>494</th>\n      <td>412</td>\n      <td>Burmy</td>\n      <td>Bug</td>\n      <td>none</td>\n      <td>224</td>\n      <td>40</td>\n      <td>29</td>\n      <td>45</td>\n      <td>29</td>\n      <td>45</td>\n      <td>36</td>\n      <td>Sandy</td>\n    </tr>\n    <tr>\n      <th>495</th>\n      <td>412</td>\n      <td>Burmy</td>\n      <td>Bug</td>\n      <td>none</td>\n      <td>224</td>\n      <td>40</td>\n      <td>29</td>\n      <td>45</td>\n      <td>29</td>\n      <td>45</td>\n      <td>36</td>\n      <td>Trash</td>\n    </tr>\n    <tr>\n      <th>499</th>\n      <td>413</td>\n      <td>Wormadam</td>\n      <td>Bug</td>\n      <td>Grass</td>\n      <td>424</td>\n      <td>60</td>\n      <td>59</td>\n      <td>85</td>\n      <td>79</td>\n      <td>105</td>\n      <td>36</td>\n      <td></td>\n    </tr>\n    <tr>\n      <th>500</th>\n      <td>413</td>\n      <td>Wormadam</td>\n      <td>Bug</td>\n      <td>Ground</td>\n      <td>424</td>\n      <td>60</td>\n      <td>79</td>\n      <td>105</td>\n      <td>59</td>\n      <td>85</td>\n      <td>36</td>\n      <td>Sandy</td>\n    </tr>\n    <tr>\n      <th>501</th>\n      <td>413</td>\n      <td>Wormadam</td>\n      <td>Bug</td>\n      <td>Steel</td>\n      <td>424</td>\n      <td>60</td>\n      <td>69</td>\n      <td>95</td>\n      <td>69</td>\n      <td>95</td>\n      <td>36</td>\n      <td>Trash</td>\n    </tr>\n  </tbody>\n</table>\n</div>"
     },
     "execution_count": 17,
     "metadata": {},
     "output_type": "execute_result"
    }
   ],
   "source": [
    "stats['variant'] = stats['variant'].replace('Plant Cloak','')\n",
    "stats['variant'] = stats['variant'].str.replace(' Cloak','')\n",
    "stats.loc[(stats['pokemon'] == \"Burmy\") | (stats['pokemon'] == \"Wormadam\")]"
   ],
   "metadata": {
    "collapsed": false
   }
  },
  {
   "cell_type": "code",
   "execution_count": 18,
   "outputs": [
    {
     "data": {
      "text/plain": "    dex#   pokemon type1   type2 total  hp attack defence sp.attack  \\\n493  412     Burmy   Bug    none   224  40     29      45        29   \n494  412     Burmy   Bug    none   224  40     29      45        29   \n495  412     Burmy   Bug    none   224  40     29      45        29   \n499  413  Wormadam   Bug   Grass   424  60     59      85        79   \n500  413  Wormadam   Bug  Ground   424  60     79     105        59   \n501  413  Wormadam   Bug   Steel   424  60     69      95        69   \n\n    sp.defence speed variant  \n493         45    36          \n494         45    36   Sandy  \n495         45    36   Trash  \n499        105    36          \n500         85    36   Sandy  \n501         95    36   Trash  ",
      "text/html": "<div>\n<style scoped>\n    .dataframe tbody tr th:only-of-type {\n        vertical-align: middle;\n    }\n\n    .dataframe tbody tr th {\n        vertical-align: top;\n    }\n\n    .dataframe thead th {\n        text-align: right;\n    }\n</style>\n<table border=\"1\" class=\"dataframe\">\n  <thead>\n    <tr style=\"text-align: right;\">\n      <th></th>\n      <th>dex#</th>\n      <th>pokemon</th>\n      <th>type1</th>\n      <th>type2</th>\n      <th>total</th>\n      <th>hp</th>\n      <th>attack</th>\n      <th>defence</th>\n      <th>sp.attack</th>\n      <th>sp.defence</th>\n      <th>speed</th>\n      <th>variant</th>\n    </tr>\n  </thead>\n  <tbody>\n    <tr>\n      <th>493</th>\n      <td>412</td>\n      <td>Burmy</td>\n      <td>Bug</td>\n      <td>none</td>\n      <td>224</td>\n      <td>40</td>\n      <td>29</td>\n      <td>45</td>\n      <td>29</td>\n      <td>45</td>\n      <td>36</td>\n      <td></td>\n    </tr>\n    <tr>\n      <th>494</th>\n      <td>412</td>\n      <td>Burmy</td>\n      <td>Bug</td>\n      <td>none</td>\n      <td>224</td>\n      <td>40</td>\n      <td>29</td>\n      <td>45</td>\n      <td>29</td>\n      <td>45</td>\n      <td>36</td>\n      <td>Sandy</td>\n    </tr>\n    <tr>\n      <th>495</th>\n      <td>412</td>\n      <td>Burmy</td>\n      <td>Bug</td>\n      <td>none</td>\n      <td>224</td>\n      <td>40</td>\n      <td>29</td>\n      <td>45</td>\n      <td>29</td>\n      <td>45</td>\n      <td>36</td>\n      <td>Trash</td>\n    </tr>\n    <tr>\n      <th>499</th>\n      <td>413</td>\n      <td>Wormadam</td>\n      <td>Bug</td>\n      <td>Grass</td>\n      <td>424</td>\n      <td>60</td>\n      <td>59</td>\n      <td>85</td>\n      <td>79</td>\n      <td>105</td>\n      <td>36</td>\n      <td></td>\n    </tr>\n    <tr>\n      <th>500</th>\n      <td>413</td>\n      <td>Wormadam</td>\n      <td>Bug</td>\n      <td>Ground</td>\n      <td>424</td>\n      <td>60</td>\n      <td>79</td>\n      <td>105</td>\n      <td>59</td>\n      <td>85</td>\n      <td>36</td>\n      <td>Sandy</td>\n    </tr>\n    <tr>\n      <th>501</th>\n      <td>413</td>\n      <td>Wormadam</td>\n      <td>Bug</td>\n      <td>Steel</td>\n      <td>424</td>\n      <td>60</td>\n      <td>69</td>\n      <td>95</td>\n      <td>69</td>\n      <td>95</td>\n      <td>36</td>\n      <td>Trash</td>\n    </tr>\n  </tbody>\n</table>\n</div>"
     },
     "execution_count": 18,
     "metadata": {},
     "output_type": "execute_result"
    }
   ],
   "source": [
    "stats.drop(stats.index[494], inplace=True)\n",
    "stats.drop(stats.index[495], inplace=True)\n",
    "stats.loc[(stats['pokemon'] == \"Burmy\") | (stats['pokemon'] == \"Wormadam\")]"
   ],
   "metadata": {
    "collapsed": false
   }
  },
  {
   "cell_type": "markdown",
   "source": [
    "This did not work and I started thinking again. I didn't really need to strip out the Burmy forms. This because I want to join this dataset on the one provided by Smogon. This would mean it will only select the one with the correct variant index. In this case that index wil always by none because Smogon does not recognize the other Burmy variants. This makes the step above unnecessary."
   ],
   "metadata": {
    "collapsed": false
   }
  }
 ],
 "metadata": {
  "kernelspec": {
   "display_name": "Python 3",
   "language": "python",
   "name": "python3"
  },
  "language_info": {
   "codemirror_mode": {
    "name": "ipython",
    "version": 2
   },
   "file_extension": ".py",
   "mimetype": "text/x-python",
   "name": "python",
   "nbconvert_exporter": "python",
   "pygments_lexer": "ipython2",
   "version": "2.7.6"
  }
 },
 "nbformat": 4,
 "nbformat_minor": 0
}
