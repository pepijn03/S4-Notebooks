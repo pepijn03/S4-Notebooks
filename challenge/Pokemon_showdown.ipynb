{
 "cells": [
  {
   "cell_type": "markdown",
   "source": [
    "# Pokémon showdown\n",
    "## Domain understanding\n",
    "Pokémon is the highest-grossing media franchise worldwide of all time. The games even have a pretty big online competitive player vs player battle simulator. This simulator is called Pokémon showdown. It is a website where you can play Pokémon games online against other players. I have been a long time fan of the Pokémon series and after playing their most recent game title I wanted to learn how to play competitive Pokémon. When I wanted to play the official format I hit a big wall, team building. Constructing a good team is the base to win a game of competitive Pokémon in Pokémon showdown, there are a lot of things to keep count of when constructing a team such as; type matchups, strategies, items your Pokémon are holding and stat parameters that effect the power of your Pokémon. This was a big hurdle for me to start playing Pokémon showdown. When I needed a challenge for this school project I instantly thought of the struggle I faced when wanting to play Pokémon showdown. I wondered what Pokémon are the most popular and what Pokémon are the most used. I have also wondered what the most popular Pokémon are in different generations. Every few years a new generation of Pokémon comes out and there are around 100 to 200 new Pokémon added that are usable in competitive Pokémon. I want to find out if there is a way to predict which Pokémon will be used a lot for future generations.\n",
    "\n",
    "## Data source\n",
    "\n",
    "The data I am using is a usage file from Smogon. Smogon is a website that provides a lot of information about the Pokémon games. They have a lot of data about the games and the competitive scene. They also have a website where you can play Pokémon games online against other players. This is where the data I am using for the usage stats comes from. I wanted to combine the usage stats from Smogon with another dataset that contains all Pokémon and their various forms. This dataset is from Kaggle and is called ['Complete Pokémon Dataset (Gen I-VI)'](https://www.kaggle.com/datasets/brdata/complete-pokemon-dataset-gen-iiv). This dataset contains all Pokémon and their various forms."
   ],
   "metadata": {
    "collapsed": false
   }
  },
  {
   "cell_type": "markdown",
   "source": [
    "## Pre-processing\n",
    "To start off I needed a way to read out the data files that contain usage stats provided by Smogon*. As a base I used a script made by Kaggle user named 'Fruity Fritz'. I needed to reform a bit of their code to fit my own wants and needs."
   ],
   "metadata": {
    "collapsed": false
   }
  },
  {
   "cell_type": "markdown",
   "source": [
    "*Smogon is a website that provides a lot of information about the Pokémon games. They have a lot of data about the games and the competitive scene. They also have a website where you can play Pokémon games online against other players. This is where the data I am using comes from."
   ],
   "metadata": {
    "collapsed": false
   }
  },
  {
   "cell_type": "code",
   "execution_count": 247,
   "outputs": [],
   "source": [
    "import numpy as np\n",
    "import pandas as pd\n",
    "import urllib.request as urllib, os\n",
    "import ssl"
   ],
   "metadata": {
    "collapsed": false
   }
  },
  {
   "cell_type": "code",
   "execution_count": 248,
   "outputs": [],
   "source": [
    "# made function to format the same sort of file later\n",
    "def import_showdown_usage_stats(url, filename): # file url and name for local storage\n",
    "    # location for datafile\n",
    "    datafolder = 'data/'\n",
    "    #download file from url to local storage\n",
    "    gcontext = ssl.SSLContext() # needed to avoid possible certificate validation error\n",
    "    downloaded = urllib.urlopen(url, context=gcontext)\n",
    "    buf = downloaded.read()\n",
    "\n",
    "    try:\n",
    "        os.mkdir(datafolder)\n",
    "    except FileExistsError:\n",
    "        pass\n",
    "\n",
    "    with open(datafolder + filename, 'wb') as f:\n",
    "        f.write(buf)\n",
    "    # import dataframe\n",
    "    df = pd.read_csv(datafolder + filename, sep=\"|\",skiprows=5,names=[\"rank\",\"pokemon\",\"usage\",\"count\",],usecols=[1,2,3,4])\n",
    "    # drop any NaNs we find\n",
    "    df.dropna(inplace=True)\n",
    "    # changing data type of the columns\n",
    "    for k, v in {\"rank\":int,\"pokemon\":str, \"usage\":str, \"count\":int}.items():\n",
    "        df[k] = df[k].astype(v)\n",
    "    # fixing leading/trailing white spaces\n",
    "    df[\"pokemon\"] = df[\"pokemon\"].str.strip()\n",
    "    df[\"usage\"] = df[\"usage\"].str.strip()\n",
    "    # fixing format of string to not use '%'\n",
    "    df[\"usage\"] = df[\"usage\"].str.rstrip('%')\n",
    "    # change datatype of usage_%\n",
    "    df[\"usage\"] = df[\"usage\"].astype(float) / 100\n",
    "    # get rid of unnecessary columns\n",
    "    df = df[['pokemon' ,'count' ,'usage']]\n",
    "    return df"
   ],
   "metadata": {
    "collapsed": false
   }
  },
  {
   "cell_type": "markdown",
   "source": [
    "Now we need to use the method above to import and format a usage file from Smogon."
   ],
   "metadata": {
    "collapsed": false
   }
  },
  {
   "cell_type": "code",
   "execution_count": 249,
   "outputs": [
    {
     "name": "stdout",
     "output_type": "stream",
     "text": [
      "(393, 3)\n"
     ]
    },
    {
     "data": {
      "text/plain": "          pokemon   count         usage\n0    Flutter Mane  795029  2.804525e-01\n1      Iron Hands  724440  2.555517e-01\n2       Amoonguss  705360  2.488211e-01\n3     Iron Bundle  663073  2.339040e-01\n4       Gholdengo  635767  2.242716e-01\n..            ...     ...           ...\n388        Smoliv       1  4.000000e-07\n389     Bounsweet       1  4.000000e-07\n390      Staravia       1  4.000000e-07\n391         Nacli       1  4.000000e-07\n392      Houndour       1  4.000000e-07\n\n[393 rows x 3 columns]",
      "text/html": "<div>\n<style scoped>\n    .dataframe tbody tr th:only-of-type {\n        vertical-align: middle;\n    }\n\n    .dataframe tbody tr th {\n        vertical-align: top;\n    }\n\n    .dataframe thead th {\n        text-align: right;\n    }\n</style>\n<table border=\"1\" class=\"dataframe\">\n  <thead>\n    <tr style=\"text-align: right;\">\n      <th></th>\n      <th>pokemon</th>\n      <th>count</th>\n      <th>usage</th>\n    </tr>\n  </thead>\n  <tbody>\n    <tr>\n      <th>0</th>\n      <td>Flutter Mane</td>\n      <td>795029</td>\n      <td>2.804525e-01</td>\n    </tr>\n    <tr>\n      <th>1</th>\n      <td>Iron Hands</td>\n      <td>724440</td>\n      <td>2.555517e-01</td>\n    </tr>\n    <tr>\n      <th>2</th>\n      <td>Amoonguss</td>\n      <td>705360</td>\n      <td>2.488211e-01</td>\n    </tr>\n    <tr>\n      <th>3</th>\n      <td>Iron Bundle</td>\n      <td>663073</td>\n      <td>2.339040e-01</td>\n    </tr>\n    <tr>\n      <th>4</th>\n      <td>Gholdengo</td>\n      <td>635767</td>\n      <td>2.242716e-01</td>\n    </tr>\n    <tr>\n      <th>...</th>\n      <td>...</td>\n      <td>...</td>\n      <td>...</td>\n    </tr>\n    <tr>\n      <th>388</th>\n      <td>Smoliv</td>\n      <td>1</td>\n      <td>4.000000e-07</td>\n    </tr>\n    <tr>\n      <th>389</th>\n      <td>Bounsweet</td>\n      <td>1</td>\n      <td>4.000000e-07</td>\n    </tr>\n    <tr>\n      <th>390</th>\n      <td>Staravia</td>\n      <td>1</td>\n      <td>4.000000e-07</td>\n    </tr>\n    <tr>\n      <th>391</th>\n      <td>Nacli</td>\n      <td>1</td>\n      <td>4.000000e-07</td>\n    </tr>\n    <tr>\n      <th>392</th>\n      <td>Houndour</td>\n      <td>1</td>\n      <td>4.000000e-07</td>\n    </tr>\n  </tbody>\n</table>\n<p>393 rows × 3 columns</p>\n</div>"
     },
     "execution_count": 249,
     "metadata": {},
     "output_type": "execute_result"
    }
   ],
   "source": [
    "usage_stats = import_showdown_usage_stats(url = \"https://www.smogon.com/stats/2023-01/gen9vgc2023series2-0.txt\", filename=\"gen9s2vgc0.txt\")\n",
    "print(usage_stats.shape)\n",
    "usage_stats"
   ],
   "metadata": {
    "collapsed": false
   }
  },
  {
   "cell_type": "markdown",
   "source": [
    "I imported the dataset containing all Pokémon as a csv file and found out the encoding was not the standard UTF-8 encoding, so I just needed to specify the encoding in the read function."
   ],
   "metadata": {
    "collapsed": false
   }
  },
  {
   "cell_type": "code",
   "execution_count": 250,
   "outputs": [
    {
     "name": "stdout",
     "output_type": "stream",
     "text": [
      "(1173, 12)\n"
     ]
    },
    {
     "data": {
      "text/plain": "   dexnum        name  type1   type2  total  hp  atk  def  sp.atk  sp.def  \\\n0       1   Bulbasaur  Grass  Poison    318  45   49   49      65      65   \n1       2     Ivysaur  Grass  Poison    405  60   62   63      80      80   \n2       3    Venusaur  Grass  Poison    525  80   82   83     100     100   \n3       3    Venusaur  Grass  Poison    625  80  100  123     122     120   \n4       4  Charmander   Fire     NaN    309  39   52   43      60      50   \n5       5  Charmeleon   Fire     NaN    405  58   64   58      80      65   \n6       6   Charizard   Fire  Dragon    634  78  130  111     130      85   \n7       6   Charizard   Fire  Flying    634  78  104   78     159     115   \n8       6   Charizard   Fire  Flying    534  78   84   78     109      85   \n9       7    Squirtle  Water     NaN    314  44   48   65      50      64   \n\n   spd variant  \n0   45     NaN  \n1   60     NaN  \n2   80     NaN  \n3   80     NaN  \n4   65     NaN  \n5   80     NaN  \n6  100  Mega X  \n7  100  Mega Y  \n8  100     NaN  \n9   43     NaN  ",
      "text/html": "<div>\n<style scoped>\n    .dataframe tbody tr th:only-of-type {\n        vertical-align: middle;\n    }\n\n    .dataframe tbody tr th {\n        vertical-align: top;\n    }\n\n    .dataframe thead th {\n        text-align: right;\n    }\n</style>\n<table border=\"1\" class=\"dataframe\">\n  <thead>\n    <tr style=\"text-align: right;\">\n      <th></th>\n      <th>dexnum</th>\n      <th>name</th>\n      <th>type1</th>\n      <th>type2</th>\n      <th>total</th>\n      <th>hp</th>\n      <th>atk</th>\n      <th>def</th>\n      <th>sp.atk</th>\n      <th>sp.def</th>\n      <th>spd</th>\n      <th>variant</th>\n    </tr>\n  </thead>\n  <tbody>\n    <tr>\n      <th>0</th>\n      <td>1</td>\n      <td>Bulbasaur</td>\n      <td>Grass</td>\n      <td>Poison</td>\n      <td>318</td>\n      <td>45</td>\n      <td>49</td>\n      <td>49</td>\n      <td>65</td>\n      <td>65</td>\n      <td>45</td>\n      <td>NaN</td>\n    </tr>\n    <tr>\n      <th>1</th>\n      <td>2</td>\n      <td>Ivysaur</td>\n      <td>Grass</td>\n      <td>Poison</td>\n      <td>405</td>\n      <td>60</td>\n      <td>62</td>\n      <td>63</td>\n      <td>80</td>\n      <td>80</td>\n      <td>60</td>\n      <td>NaN</td>\n    </tr>\n    <tr>\n      <th>2</th>\n      <td>3</td>\n      <td>Venusaur</td>\n      <td>Grass</td>\n      <td>Poison</td>\n      <td>525</td>\n      <td>80</td>\n      <td>82</td>\n      <td>83</td>\n      <td>100</td>\n      <td>100</td>\n      <td>80</td>\n      <td>NaN</td>\n    </tr>\n    <tr>\n      <th>3</th>\n      <td>3</td>\n      <td>Venusaur</td>\n      <td>Grass</td>\n      <td>Poison</td>\n      <td>625</td>\n      <td>80</td>\n      <td>100</td>\n      <td>123</td>\n      <td>122</td>\n      <td>120</td>\n      <td>80</td>\n      <td>NaN</td>\n    </tr>\n    <tr>\n      <th>4</th>\n      <td>4</td>\n      <td>Charmander</td>\n      <td>Fire</td>\n      <td>NaN</td>\n      <td>309</td>\n      <td>39</td>\n      <td>52</td>\n      <td>43</td>\n      <td>60</td>\n      <td>50</td>\n      <td>65</td>\n      <td>NaN</td>\n    </tr>\n    <tr>\n      <th>5</th>\n      <td>5</td>\n      <td>Charmeleon</td>\n      <td>Fire</td>\n      <td>NaN</td>\n      <td>405</td>\n      <td>58</td>\n      <td>64</td>\n      <td>58</td>\n      <td>80</td>\n      <td>65</td>\n      <td>80</td>\n      <td>NaN</td>\n    </tr>\n    <tr>\n      <th>6</th>\n      <td>6</td>\n      <td>Charizard</td>\n      <td>Fire</td>\n      <td>Dragon</td>\n      <td>634</td>\n      <td>78</td>\n      <td>130</td>\n      <td>111</td>\n      <td>130</td>\n      <td>85</td>\n      <td>100</td>\n      <td>Mega X</td>\n    </tr>\n    <tr>\n      <th>7</th>\n      <td>6</td>\n      <td>Charizard</td>\n      <td>Fire</td>\n      <td>Flying</td>\n      <td>634</td>\n      <td>78</td>\n      <td>104</td>\n      <td>78</td>\n      <td>159</td>\n      <td>115</td>\n      <td>100</td>\n      <td>Mega Y</td>\n    </tr>\n    <tr>\n      <th>8</th>\n      <td>6</td>\n      <td>Charizard</td>\n      <td>Fire</td>\n      <td>Flying</td>\n      <td>534</td>\n      <td>78</td>\n      <td>84</td>\n      <td>78</td>\n      <td>109</td>\n      <td>85</td>\n      <td>100</td>\n      <td>NaN</td>\n    </tr>\n    <tr>\n      <th>9</th>\n      <td>7</td>\n      <td>Squirtle</td>\n      <td>Water</td>\n      <td>NaN</td>\n      <td>314</td>\n      <td>44</td>\n      <td>48</td>\n      <td>65</td>\n      <td>50</td>\n      <td>64</td>\n      <td>43</td>\n      <td>NaN</td>\n    </tr>\n  </tbody>\n</table>\n</div>"
     },
     "execution_count": 250,
     "metadata": {},
     "output_type": "execute_result"
    }
   ],
   "source": [
    "names = [\"dexnum\",\"name\",\"type1\",\"type2\",\"total\",\"hp\",\"atk\",\"def\",\"sp.atk\",\"sp.def\",\"spd\",\"variant\"]\n",
    "stats = pd.read_csv(\"./data/Pokedex_Cleaned.csv\",names=names,encoding='windows-1252')\n",
    "print(stats.shape)\n",
    "stats.head(10)"
   ],
   "metadata": {
    "collapsed": false
   }
  },
  {
   "cell_type": "markdown",
   "source": [
    "## Data cleaning"
   ],
   "metadata": {
    "collapsed": false
   }
  },
  {
   "cell_type": "markdown",
   "source": [
    "There were a lot of NaN values which I needed to fill in a way so that the data is 'complete' and ready to be merged with the usage dataset from Smogon."
   ],
   "metadata": {
    "collapsed": false
   }
  },
  {
   "cell_type": "code",
   "execution_count": 251,
   "outputs": [
    {
     "data": {
      "text/plain": "   dexnum        name  type1   type2  total  hp  atk  def  sp.atk  sp.def  \\\n0       1   Bulbasaur  Grass  Poison    318  45   49   49      65      65   \n1       2     Ivysaur  Grass  Poison    405  60   62   63      80      80   \n2       3    Venusaur  Grass  Poison    525  80   82   83     100     100   \n3       3    Venusaur  Grass  Poison    625  80  100  123     122     120   \n4       4  Charmander   Fire    none    309  39   52   43      60      50   \n5       5  Charmeleon   Fire    none    405  58   64   58      80      65   \n6       6   Charizard   Fire  Dragon    634  78  130  111     130      85   \n7       6   Charizard   Fire  Flying    634  78  104   78     159     115   \n8       6   Charizard   Fire  Flying    534  78   84   78     109      85   \n9       7    Squirtle  Water    none    314  44   48   65      50      64   \n\n   spd variant  \n0   45          \n1   60          \n2   80          \n3   80          \n4   65          \n5   80          \n6  100  Mega X  \n7  100  Mega Y  \n8  100          \n9   43          ",
      "text/html": "<div>\n<style scoped>\n    .dataframe tbody tr th:only-of-type {\n        vertical-align: middle;\n    }\n\n    .dataframe tbody tr th {\n        vertical-align: top;\n    }\n\n    .dataframe thead th {\n        text-align: right;\n    }\n</style>\n<table border=\"1\" class=\"dataframe\">\n  <thead>\n    <tr style=\"text-align: right;\">\n      <th></th>\n      <th>dexnum</th>\n      <th>name</th>\n      <th>type1</th>\n      <th>type2</th>\n      <th>total</th>\n      <th>hp</th>\n      <th>atk</th>\n      <th>def</th>\n      <th>sp.atk</th>\n      <th>sp.def</th>\n      <th>spd</th>\n      <th>variant</th>\n    </tr>\n  </thead>\n  <tbody>\n    <tr>\n      <th>0</th>\n      <td>1</td>\n      <td>Bulbasaur</td>\n      <td>Grass</td>\n      <td>Poison</td>\n      <td>318</td>\n      <td>45</td>\n      <td>49</td>\n      <td>49</td>\n      <td>65</td>\n      <td>65</td>\n      <td>45</td>\n      <td></td>\n    </tr>\n    <tr>\n      <th>1</th>\n      <td>2</td>\n      <td>Ivysaur</td>\n      <td>Grass</td>\n      <td>Poison</td>\n      <td>405</td>\n      <td>60</td>\n      <td>62</td>\n      <td>63</td>\n      <td>80</td>\n      <td>80</td>\n      <td>60</td>\n      <td></td>\n    </tr>\n    <tr>\n      <th>2</th>\n      <td>3</td>\n      <td>Venusaur</td>\n      <td>Grass</td>\n      <td>Poison</td>\n      <td>525</td>\n      <td>80</td>\n      <td>82</td>\n      <td>83</td>\n      <td>100</td>\n      <td>100</td>\n      <td>80</td>\n      <td></td>\n    </tr>\n    <tr>\n      <th>3</th>\n      <td>3</td>\n      <td>Venusaur</td>\n      <td>Grass</td>\n      <td>Poison</td>\n      <td>625</td>\n      <td>80</td>\n      <td>100</td>\n      <td>123</td>\n      <td>122</td>\n      <td>120</td>\n      <td>80</td>\n      <td></td>\n    </tr>\n    <tr>\n      <th>4</th>\n      <td>4</td>\n      <td>Charmander</td>\n      <td>Fire</td>\n      <td>none</td>\n      <td>309</td>\n      <td>39</td>\n      <td>52</td>\n      <td>43</td>\n      <td>60</td>\n      <td>50</td>\n      <td>65</td>\n      <td></td>\n    </tr>\n    <tr>\n      <th>5</th>\n      <td>5</td>\n      <td>Charmeleon</td>\n      <td>Fire</td>\n      <td>none</td>\n      <td>405</td>\n      <td>58</td>\n      <td>64</td>\n      <td>58</td>\n      <td>80</td>\n      <td>65</td>\n      <td>80</td>\n      <td></td>\n    </tr>\n    <tr>\n      <th>6</th>\n      <td>6</td>\n      <td>Charizard</td>\n      <td>Fire</td>\n      <td>Dragon</td>\n      <td>634</td>\n      <td>78</td>\n      <td>130</td>\n      <td>111</td>\n      <td>130</td>\n      <td>85</td>\n      <td>100</td>\n      <td>Mega X</td>\n    </tr>\n    <tr>\n      <th>7</th>\n      <td>6</td>\n      <td>Charizard</td>\n      <td>Fire</td>\n      <td>Flying</td>\n      <td>634</td>\n      <td>78</td>\n      <td>104</td>\n      <td>78</td>\n      <td>159</td>\n      <td>115</td>\n      <td>100</td>\n      <td>Mega Y</td>\n    </tr>\n    <tr>\n      <th>8</th>\n      <td>6</td>\n      <td>Charizard</td>\n      <td>Fire</td>\n      <td>Flying</td>\n      <td>534</td>\n      <td>78</td>\n      <td>84</td>\n      <td>78</td>\n      <td>109</td>\n      <td>85</td>\n      <td>100</td>\n      <td></td>\n    </tr>\n    <tr>\n      <th>9</th>\n      <td>7</td>\n      <td>Squirtle</td>\n      <td>Water</td>\n      <td>none</td>\n      <td>314</td>\n      <td>44</td>\n      <td>48</td>\n      <td>65</td>\n      <td>50</td>\n      <td>64</td>\n      <td>43</td>\n      <td></td>\n    </tr>\n  </tbody>\n</table>\n</div>"
     },
     "execution_count": 251,
     "metadata": {},
     "output_type": "execute_result"
    }
   ],
   "source": [
    "stats.type2 = stats.type2.fillna('none') # if the second typing is NaN it means there is no second typing hence the value of none\n",
    "stats.variant = stats.variant.fillna('') # if the variant is NaN it means there is no variant. replaced with empty string to add variant at the end of the name as done in the usage df\n",
    "stats.head(10)"
   ],
   "metadata": {
    "collapsed": false
   }
  },
  {
   "cell_type": "markdown",
   "source": [
    "After seeing the datafile above I wanted to check the values of both the type columns.\n",
    "\n",
    "First I wanted to check the type2 column, so I can see if the previous action to fill the NaN values actually worked."
   ],
   "metadata": {
    "collapsed": false
   }
  },
  {
   "cell_type": "code",
   "execution_count": 252,
   "outputs": [
    {
     "data": {
      "text/plain": "none        540\nFlying      118\nPsychic      47\nPoison       46\nFairy        42\nFighting     42\nGround       41\nSteel        38\nDragon       35\nGhost        34\nGrass        34\nDark         33\nWater        22\nIce          22\nFire         19\nRock         19\nNormal       19\nElectric     13\nBug           9\nName: type2, dtype: int64"
     },
     "execution_count": 252,
     "metadata": {},
     "output_type": "execute_result"
    }
   ],
   "source": [
    "stats.type2.value_counts()"
   ],
   "metadata": {
    "collapsed": false
   }
  },
  {
   "cell_type": "markdown",
   "source": [
    "These values are what I expected and also what I want from this column\n",
    "\n",
    "When inspecting the datafile in another software tool, I found that there were some wierd values in type1 and  wanted to check them out."
   ],
   "metadata": {
    "collapsed": false
   }
  },
  {
   "cell_type": "code",
   "execution_count": 253,
   "outputs": [
    {
     "data": {
      "text/plain": "Water       147\nNormal      130\nGrass       102\nBug          99\nPsychic      76\nElectric     73\nFire         73\nRock         67\nDark         56\nDragon       47\nGround       47\nPoison       46\nFighting     46\nGhost        46\nSteel        42\nFairy        32\nIce          27\nFlying       12\nNull          2\nMale          1\nFemale        1\nRockruff      1\nName: type1, dtype: int64"
     },
     "execution_count": 253,
     "metadata": {},
     "output_type": "execute_result"
    }
   ],
   "source": [
    "stats.type1.value_counts()"
   ],
   "metadata": {
    "collapsed": false
   }
  },
  {
   "cell_type": "markdown",
   "source": [
    "After seeing the wierd values of Rockruff, null, male and female in typings I further looked into them."
   ],
   "metadata": {
    "collapsed": false
   }
  },
  {
   "cell_type": "code",
   "execution_count": 254,
   "outputs": [
    {
     "data": {
      "text/plain": "     dexnum      name     type1    type2  total  hp  atk  def  sp.atk  sp.def  \\\n801     678  Meowstic      Male  Psychic    466  74   48   76      83      81   \n802     678  Meowstic    Female  Psychic    466  74   48   76      83      81   \n884     744  Rockruff  Rockruff     Rock    280  45   65   40      30      40   \n916     772     Type:      Null   Normal    534  95   95   95      95      95   \n917     772     Type:      Null     none    534  95   95   95      95      95   \n\n     spd    variant  \n801  104             \n802  104             \n884   60  Own Tempo  \n916   59             \n917   59             ",
      "text/html": "<div>\n<style scoped>\n    .dataframe tbody tr th:only-of-type {\n        vertical-align: middle;\n    }\n\n    .dataframe tbody tr th {\n        vertical-align: top;\n    }\n\n    .dataframe thead th {\n        text-align: right;\n    }\n</style>\n<table border=\"1\" class=\"dataframe\">\n  <thead>\n    <tr style=\"text-align: right;\">\n      <th></th>\n      <th>dexnum</th>\n      <th>name</th>\n      <th>type1</th>\n      <th>type2</th>\n      <th>total</th>\n      <th>hp</th>\n      <th>atk</th>\n      <th>def</th>\n      <th>sp.atk</th>\n      <th>sp.def</th>\n      <th>spd</th>\n      <th>variant</th>\n    </tr>\n  </thead>\n  <tbody>\n    <tr>\n      <th>801</th>\n      <td>678</td>\n      <td>Meowstic</td>\n      <td>Male</td>\n      <td>Psychic</td>\n      <td>466</td>\n      <td>74</td>\n      <td>48</td>\n      <td>76</td>\n      <td>83</td>\n      <td>81</td>\n      <td>104</td>\n      <td></td>\n    </tr>\n    <tr>\n      <th>802</th>\n      <td>678</td>\n      <td>Meowstic</td>\n      <td>Female</td>\n      <td>Psychic</td>\n      <td>466</td>\n      <td>74</td>\n      <td>48</td>\n      <td>76</td>\n      <td>83</td>\n      <td>81</td>\n      <td>104</td>\n      <td></td>\n    </tr>\n    <tr>\n      <th>884</th>\n      <td>744</td>\n      <td>Rockruff</td>\n      <td>Rockruff</td>\n      <td>Rock</td>\n      <td>280</td>\n      <td>45</td>\n      <td>65</td>\n      <td>40</td>\n      <td>30</td>\n      <td>40</td>\n      <td>60</td>\n      <td>Own Tempo</td>\n    </tr>\n    <tr>\n      <th>916</th>\n      <td>772</td>\n      <td>Type:</td>\n      <td>Null</td>\n      <td>Normal</td>\n      <td>534</td>\n      <td>95</td>\n      <td>95</td>\n      <td>95</td>\n      <td>95</td>\n      <td>95</td>\n      <td>59</td>\n      <td></td>\n    </tr>\n    <tr>\n      <th>917</th>\n      <td>772</td>\n      <td>Type:</td>\n      <td>Null</td>\n      <td>none</td>\n      <td>534</td>\n      <td>95</td>\n      <td>95</td>\n      <td>95</td>\n      <td>95</td>\n      <td>95</td>\n      <td>59</td>\n      <td></td>\n    </tr>\n  </tbody>\n</table>\n</div>"
     },
     "execution_count": 254,
     "metadata": {},
     "output_type": "execute_result"
    }
   ],
   "source": [
    "stats.loc[(stats['type1'] == \"Rockruff\") | (stats['type1'] == \"Male\") | (stats['type1'] == \"Female\") | (stats['type1'] == \"Null\")]"
   ],
   "metadata": {
    "collapsed": false
   }
  },
  {
   "cell_type": "markdown",
   "source": [
    "The null value is from a Pokémon named \"type:null\", both records are for this same Pokémon. The stats are exactly the same, so I will delete the second mention and just replace the faulty record with a correct one.\n",
    "\n",
    "The values for male and female are faulty in the sense that they occupy the wrong column, they need to be in variant but are in type1. The Rockruff record is also faulty. the Variant value contains their 'ability' which is another attribute that we do not need in this dataset. I have no idea why it is here.\n",
    "\n",
    "Because there are only 5 faulty records, I am going to manually replace them."
   ],
   "metadata": {
    "collapsed": false
   }
  },
  {
   "cell_type": "code",
   "execution_count": 255,
   "outputs": [
    {
     "data": {
      "text/plain": "Water       147\nNormal      131\nGrass       102\nBug          99\nPsychic      78\nFire         73\nElectric     73\nRock         68\nDark         56\nGround       47\nDragon       47\nFighting     46\nPoison       46\nGhost        46\nSteel        42\nFairy        32\nIce          27\nFlying       12\nName: type1, dtype: int64"
     },
     "execution_count": 255,
     "metadata": {},
     "output_type": "execute_result"
    }
   ],
   "source": [
    "stats.loc[801] = ['678','Meowstic','Psychic','none','466','74','48','76','83','71','104','Male']\n",
    "stats.loc[802] = ['678','Meowstic','Psychic','none','466','74','48','76','83','71','104','Female']\n",
    "stats.loc[884] = ['744','Rockruff','Rock','none','280','45','65','40','30','40','60','']\n",
    "stats.loc[916] = ['772','Type:Null','Normal','none','534','95','95','95','95','95','59','']\n",
    "stats.drop(stats.index[917], inplace=True)\n",
    "\n",
    "stats.type1.value_counts()"
   ],
   "metadata": {
    "collapsed": false
   }
  },
  {
   "cell_type": "markdown",
   "source": [
    "Later in the process of cleaning the data I found another faulty record. These were the records for the Pokémon named Nidoran. In the games this Pokémon has multiple variants and their gender is displayed next to their name to indicate which variant it is."
   ],
   "metadata": {
    "collapsed": false
   }
  },
  {
   "cell_type": "code",
   "execution_count": 256,
   "outputs": [
    {
     "data": {
      "text/plain": "   dexnum      name   type1 type2 total  hp atk def sp.atk sp.def spd variant\n40     29  Nidoran?  Poison  none   275  55  47  52     40     40  41        \n43     32  Nidoran?  Poison  none   273  46  57  40     40     40  50        ",
      "text/html": "<div>\n<style scoped>\n    .dataframe tbody tr th:only-of-type {\n        vertical-align: middle;\n    }\n\n    .dataframe tbody tr th {\n        vertical-align: top;\n    }\n\n    .dataframe thead th {\n        text-align: right;\n    }\n</style>\n<table border=\"1\" class=\"dataframe\">\n  <thead>\n    <tr style=\"text-align: right;\">\n      <th></th>\n      <th>dexnum</th>\n      <th>name</th>\n      <th>type1</th>\n      <th>type2</th>\n      <th>total</th>\n      <th>hp</th>\n      <th>atk</th>\n      <th>def</th>\n      <th>sp.atk</th>\n      <th>sp.def</th>\n      <th>spd</th>\n      <th>variant</th>\n    </tr>\n  </thead>\n  <tbody>\n    <tr>\n      <th>40</th>\n      <td>29</td>\n      <td>Nidoran?</td>\n      <td>Poison</td>\n      <td>none</td>\n      <td>275</td>\n      <td>55</td>\n      <td>47</td>\n      <td>52</td>\n      <td>40</td>\n      <td>40</td>\n      <td>41</td>\n      <td></td>\n    </tr>\n    <tr>\n      <th>43</th>\n      <td>32</td>\n      <td>Nidoran?</td>\n      <td>Poison</td>\n      <td>none</td>\n      <td>273</td>\n      <td>46</td>\n      <td>57</td>\n      <td>40</td>\n      <td>40</td>\n      <td>40</td>\n      <td>50</td>\n      <td></td>\n    </tr>\n  </tbody>\n</table>\n</div>"
     },
     "execution_count": 256,
     "metadata": {},
     "output_type": "execute_result"
    }
   ],
   "source": [
    "stats.loc[(stats['name'] == \"Nidoran?\")]"
   ],
   "metadata": {
    "collapsed": false
   }
  },
  {
   "cell_type": "code",
   "execution_count": 257,
   "outputs": [
    {
     "data": {
      "text/plain": "   dexnum     name   type1 type2 total  hp atk def sp.atk sp.def spd variant\n40     29  Nidoran  Poison  none   275  55  47  52     40     40  41  Female\n43     32  Nidoran  Poison  none   273  46  57  40     40     40  50    Male",
      "text/html": "<div>\n<style scoped>\n    .dataframe tbody tr th:only-of-type {\n        vertical-align: middle;\n    }\n\n    .dataframe tbody tr th {\n        vertical-align: top;\n    }\n\n    .dataframe thead th {\n        text-align: right;\n    }\n</style>\n<table border=\"1\" class=\"dataframe\">\n  <thead>\n    <tr style=\"text-align: right;\">\n      <th></th>\n      <th>dexnum</th>\n      <th>name</th>\n      <th>type1</th>\n      <th>type2</th>\n      <th>total</th>\n      <th>hp</th>\n      <th>atk</th>\n      <th>def</th>\n      <th>sp.atk</th>\n      <th>sp.def</th>\n      <th>spd</th>\n      <th>variant</th>\n    </tr>\n  </thead>\n  <tbody>\n    <tr>\n      <th>40</th>\n      <td>29</td>\n      <td>Nidoran</td>\n      <td>Poison</td>\n      <td>none</td>\n      <td>275</td>\n      <td>55</td>\n      <td>47</td>\n      <td>52</td>\n      <td>40</td>\n      <td>40</td>\n      <td>41</td>\n      <td>Female</td>\n    </tr>\n    <tr>\n      <th>43</th>\n      <td>32</td>\n      <td>Nidoran</td>\n      <td>Poison</td>\n      <td>none</td>\n      <td>273</td>\n      <td>46</td>\n      <td>57</td>\n      <td>40</td>\n      <td>40</td>\n      <td>40</td>\n      <td>50</td>\n      <td>Male</td>\n    </tr>\n  </tbody>\n</table>\n</div>"
     },
     "execution_count": 257,
     "metadata": {},
     "output_type": "execute_result"
    }
   ],
   "source": [
    "stats.loc[40] = ['29','Nidoran','Poison','none','275','55','47','52','40','40','41','Female']\n",
    "stats.loc[43] = ['32','Nidoran','Poison','none','273','46','57','40','40','40','50','Male']\n",
    "stats.loc[(stats['name'] == \"Nidoran\")]"
   ],
   "metadata": {
    "collapsed": false
   }
  },
  {
   "cell_type": "markdown",
   "source": [
    "Further in my data cleaning process I found more faulty records. Some records have Ice suffixed to their name when it is meant to be in the Type1 column values and the Type1 column is supposed to be the type2 column values."
   ],
   "metadata": {
    "collapsed": false
   }
  },
  {
   "cell_type": "code",
   "execution_count": 258,
   "outputs": [
    {
     "data": {
      "text/plain": "     dexnum          name    type1 type2 total   hp  atk  def sp.atk sp.def  \\\n184     144   ArticunoIce   Flying  none   580   90   85  100     95    125   \n272     220     SwinubIce   Ground  none   250   50   50   40     30     30   \n273     221  PiloswineIce   Ground  none   450  100  100   80     60     60   \n278     225   DelibirdIce   Flying  none   330   45   55   45     65     45   \n292     238   SmoochumIce  Psychic  none   305   45   30   15     85     65   \n455     378     RegiceIce      Ice  none   580   80   50  100    100    200   \n568     473  MamoswineIce   Ground  none   530  110  130   80     70     60   \n574     478   FroslassIce    Ghost  none   480   70   80   70     80     70   \n1022    872       SnomIce      Bug  none   185   30   25   35     45     30   \n1023    873   FrosmothIce      Bug  none   475   70   65   60    125     90   \n\n      spd variant  \n184    85          \n272    50          \n273    50          \n278    75          \n292    65          \n455    50          \n568    80          \n574   110          \n1022   20          \n1023   65          ",
      "text/html": "<div>\n<style scoped>\n    .dataframe tbody tr th:only-of-type {\n        vertical-align: middle;\n    }\n\n    .dataframe tbody tr th {\n        vertical-align: top;\n    }\n\n    .dataframe thead th {\n        text-align: right;\n    }\n</style>\n<table border=\"1\" class=\"dataframe\">\n  <thead>\n    <tr style=\"text-align: right;\">\n      <th></th>\n      <th>dexnum</th>\n      <th>name</th>\n      <th>type1</th>\n      <th>type2</th>\n      <th>total</th>\n      <th>hp</th>\n      <th>atk</th>\n      <th>def</th>\n      <th>sp.atk</th>\n      <th>sp.def</th>\n      <th>spd</th>\n      <th>variant</th>\n    </tr>\n  </thead>\n  <tbody>\n    <tr>\n      <th>184</th>\n      <td>144</td>\n      <td>ArticunoIce</td>\n      <td>Flying</td>\n      <td>none</td>\n      <td>580</td>\n      <td>90</td>\n      <td>85</td>\n      <td>100</td>\n      <td>95</td>\n      <td>125</td>\n      <td>85</td>\n      <td></td>\n    </tr>\n    <tr>\n      <th>272</th>\n      <td>220</td>\n      <td>SwinubIce</td>\n      <td>Ground</td>\n      <td>none</td>\n      <td>250</td>\n      <td>50</td>\n      <td>50</td>\n      <td>40</td>\n      <td>30</td>\n      <td>30</td>\n      <td>50</td>\n      <td></td>\n    </tr>\n    <tr>\n      <th>273</th>\n      <td>221</td>\n      <td>PiloswineIce</td>\n      <td>Ground</td>\n      <td>none</td>\n      <td>450</td>\n      <td>100</td>\n      <td>100</td>\n      <td>80</td>\n      <td>60</td>\n      <td>60</td>\n      <td>50</td>\n      <td></td>\n    </tr>\n    <tr>\n      <th>278</th>\n      <td>225</td>\n      <td>DelibirdIce</td>\n      <td>Flying</td>\n      <td>none</td>\n      <td>330</td>\n      <td>45</td>\n      <td>55</td>\n      <td>45</td>\n      <td>65</td>\n      <td>45</td>\n      <td>75</td>\n      <td></td>\n    </tr>\n    <tr>\n      <th>292</th>\n      <td>238</td>\n      <td>SmoochumIce</td>\n      <td>Psychic</td>\n      <td>none</td>\n      <td>305</td>\n      <td>45</td>\n      <td>30</td>\n      <td>15</td>\n      <td>85</td>\n      <td>65</td>\n      <td>65</td>\n      <td></td>\n    </tr>\n    <tr>\n      <th>455</th>\n      <td>378</td>\n      <td>RegiceIce</td>\n      <td>Ice</td>\n      <td>none</td>\n      <td>580</td>\n      <td>80</td>\n      <td>50</td>\n      <td>100</td>\n      <td>100</td>\n      <td>200</td>\n      <td>50</td>\n      <td></td>\n    </tr>\n    <tr>\n      <th>568</th>\n      <td>473</td>\n      <td>MamoswineIce</td>\n      <td>Ground</td>\n      <td>none</td>\n      <td>530</td>\n      <td>110</td>\n      <td>130</td>\n      <td>80</td>\n      <td>70</td>\n      <td>60</td>\n      <td>80</td>\n      <td></td>\n    </tr>\n    <tr>\n      <th>574</th>\n      <td>478</td>\n      <td>FroslassIce</td>\n      <td>Ghost</td>\n      <td>none</td>\n      <td>480</td>\n      <td>70</td>\n      <td>80</td>\n      <td>70</td>\n      <td>80</td>\n      <td>70</td>\n      <td>110</td>\n      <td></td>\n    </tr>\n    <tr>\n      <th>1022</th>\n      <td>872</td>\n      <td>SnomIce</td>\n      <td>Bug</td>\n      <td>none</td>\n      <td>185</td>\n      <td>30</td>\n      <td>25</td>\n      <td>35</td>\n      <td>45</td>\n      <td>30</td>\n      <td>20</td>\n      <td></td>\n    </tr>\n    <tr>\n      <th>1023</th>\n      <td>873</td>\n      <td>FrosmothIce</td>\n      <td>Bug</td>\n      <td>none</td>\n      <td>475</td>\n      <td>70</td>\n      <td>65</td>\n      <td>60</td>\n      <td>125</td>\n      <td>90</td>\n      <td>65</td>\n      <td></td>\n    </tr>\n  </tbody>\n</table>\n</div>"
     },
     "execution_count": 258,
     "metadata": {},
     "output_type": "execute_result"
    }
   ],
   "source": [
    "stats[stats['name'].str.contains(\"Ice\")==True]"
   ],
   "metadata": {
    "collapsed": false
   }
  },
  {
   "cell_type": "code",
   "execution_count": 259,
   "outputs": [
    {
     "data": {
      "text/plain": "    dexnum      name    type1   type2 total  hp atk  def sp.atk sp.def spd  \\\n183    144  Articuno  Psychic  Flying   580  90  85   85    125    100  95   \n184    144  Articuno      Ice  Flying   580  90  85  100     95    125  85   \n\n      variant  \n183  Galarian  \n184            ",
      "text/html": "<div>\n<style scoped>\n    .dataframe tbody tr th:only-of-type {\n        vertical-align: middle;\n    }\n\n    .dataframe tbody tr th {\n        vertical-align: top;\n    }\n\n    .dataframe thead th {\n        text-align: right;\n    }\n</style>\n<table border=\"1\" class=\"dataframe\">\n  <thead>\n    <tr style=\"text-align: right;\">\n      <th></th>\n      <th>dexnum</th>\n      <th>name</th>\n      <th>type1</th>\n      <th>type2</th>\n      <th>total</th>\n      <th>hp</th>\n      <th>atk</th>\n      <th>def</th>\n      <th>sp.atk</th>\n      <th>sp.def</th>\n      <th>spd</th>\n      <th>variant</th>\n    </tr>\n  </thead>\n  <tbody>\n    <tr>\n      <th>183</th>\n      <td>144</td>\n      <td>Articuno</td>\n      <td>Psychic</td>\n      <td>Flying</td>\n      <td>580</td>\n      <td>90</td>\n      <td>85</td>\n      <td>85</td>\n      <td>125</td>\n      <td>100</td>\n      <td>95</td>\n      <td>Galarian</td>\n    </tr>\n    <tr>\n      <th>184</th>\n      <td>144</td>\n      <td>Articuno</td>\n      <td>Ice</td>\n      <td>Flying</td>\n      <td>580</td>\n      <td>90</td>\n      <td>85</td>\n      <td>100</td>\n      <td>95</td>\n      <td>125</td>\n      <td>85</td>\n      <td></td>\n    </tr>\n  </tbody>\n</table>\n</div>"
     },
     "execution_count": 259,
     "metadata": {},
     "output_type": "execute_result"
    }
   ],
   "source": [
    "stats.loc[(stats['name'].str.contains(\"Ice\")==True), 'type2'] = stats['type1']\n",
    "stats.loc[(stats['name'].str.contains(\"Ice\")==True), 'type1'] = 'Ice'\n",
    "stats.loc[(stats['name'].str.contains(\"Ice\")==True), 'name'] = stats['name'].str.replace('Ice','')\n",
    "stats.loc[(stats['name'].str.contains(\"Articuno\")==True)]"
   ],
   "metadata": {
    "collapsed": false
   }
  },
  {
   "cell_type": "code",
   "execution_count": 260,
   "outputs": [],
   "source": [
    "stats.loc[(stats['name'].str.contains(\"Regice\")==True), 'type2'] = 'none'"
   ],
   "metadata": {
    "collapsed": false
   }
  },
  {
   "cell_type": "markdown",
   "source": [
    "As you can see, the weird values are now no longer present in the dataset.\n",
    "\n",
    "Now we are going to change the notation of the Variant to those that are used by our usage stats dataframe. These notations are the ones that Smogon uses.\n",
    "When I found this dataset I knew it would take a lot of work to get all the data cleaned. I still chose this one because it was the most complete I could find. Even tough this dataset takes a lot of work to prepare, it only needs data cleaning, other datasets would need to be merged together to create this one and I prefer to clean just one dataset apposed to multiple.\n",
    "\n",
    "The first thing we are going to do is remove all mega's from the list of Pokémon. This is because mega is a mechanic and not a Pokémon to choose for your team."
   ],
   "metadata": {
    "collapsed": false
   }
  },
  {
   "cell_type": "code",
   "execution_count": 261,
   "outputs": [
    {
     "data": {
      "text/plain": "                    979\nGalarian             16\nAlolan               15\nHisuian              13\nTherian Form          4\n                   ... \nConfined              1\nUnbound               1\nBaile Style           1\nPa u Style            1\nTwo-Segment Form      1\nName: variant, Length: 85, dtype: int64"
     },
     "execution_count": 261,
     "metadata": {},
     "output_type": "execute_result"
    }
   ],
   "source": [
    "stats = stats[stats.variant != 'Mega']\n",
    "stats = stats[stats.variant != 'Mega X']\n",
    "stats = stats[stats.variant != 'Mega Y']\n",
    "stats.variant.value_counts()"
   ],
   "metadata": {
    "collapsed": false
   }
  },
  {
   "cell_type": "markdown",
   "source": [
    "After this I needed to clean the remaining variants. To start with I changed the notation of the regions to the one that Smogon uses."
   ],
   "metadata": {
    "collapsed": false
   }
  },
  {
   "cell_type": "code",
   "execution_count": 262,
   "outputs": [],
   "source": [
    "stats['variant'] = stats['variant'].str.strip()\n",
    "# notation for region specific variants\n",
    "stats['variant'] = stats['variant'].replace(['Galarian'],'Galar')\n",
    "stats['variant'] = stats['variant'].replace(['Alolan'],'Alola')\n",
    "stats['variant'] = stats['variant'].replace(['Hisuian'],'Hisui')\n",
    "stats['variant'] = stats['variant'].replace(['Paldean'],'Paldea')"
   ],
   "metadata": {
    "collapsed": false
   }
  },
  {
   "cell_type": "markdown",
   "source": [
    "Then I changed the gender notations."
   ],
   "metadata": {
    "collapsed": false
   }
  },
  {
   "cell_type": "code",
   "execution_count": 263,
   "outputs": [],
   "source": [
    "# gender notation\n",
    "stats['variant'] = stats['variant'].replace(['Female'],'F')\n",
    "stats['variant'] = stats['variant'].replace(['Male'],'')"
   ],
   "metadata": {
    "collapsed": false
   }
  },
  {
   "cell_type": "markdown",
   "source": [
    "Then I removed the suffixes(?)."
   ],
   "metadata": {
    "collapsed": false
   }
  },
  {
   "cell_type": "code",
   "execution_count": 264,
   "outputs": [],
   "source": [
    "# removed unneeded endings\n",
    "stats['variant'] = stats['variant'].str.replace(' Form','')\n",
    "stats['variant'] = stats['variant'].str.replace(' Style','')\n",
    "stats['variant'] = stats['variant'].str.replace(' Super','')\n",
    "stats['variant'] = stats['variant'].str.replace(' Size','')\n",
    "stats['variant'] = stats['variant'].str.replace(' Plumage','')"
   ],
   "metadata": {
    "collapsed": false
   }
  },
  {
   "cell_type": "markdown",
   "source": [
    "After that I removed records of variant that do not change the stats of the Pokémon."
   ],
   "metadata": {
    "collapsed": false
   }
  },
  {
   "cell_type": "code",
   "execution_count": 265,
   "outputs": [],
   "source": [
    "# variants that dont matter in stats or are not available in Pokemon showdown\n",
    "stats = stats[stats.variant != 'Blue-Striped']\n",
    "stats = stats[stats.variant != 'Red-Striped']\n",
    "stats = stats[stats.variant != 'Partner']\n",
    "stats = stats[stats.variant != 'Altered']\n",
    "stats = stats[stats.variant != 'Eternamax']"
   ],
   "metadata": {
    "collapsed": false
   }
  },
  {
   "cell_type": "markdown",
   "source": [
    "There were still some Pokémon with multiple variants that did not have a base variant or empty variant. Those still needed fixing."
   ],
   "metadata": {
    "collapsed": false
   }
  },
  {
   "cell_type": "code",
   "execution_count": 266,
   "outputs": [],
   "source": [
    "# base forms that have a variant fixes\n",
    "stats['variant'] = stats['variant'].replace('White-Striped','')\n",
    "stats['variant'] = stats['variant'].replace('Hero of Many Battles','')\n",
    "stats['variant'] = stats['variant'].replace('Incarnate','')\n",
    "stats['variant'] = stats['variant'].replace('Ordinary','')\n",
    "stats['variant'] = stats['variant'].replace('Aria','')\n",
    "stats['variant'] = stats['variant'].replace('Shield','')\n",
    "stats['variant'] = stats['variant'].replace('Average','')\n",
    "stats['variant'] = stats['variant'].replace('50%','')\n",
    "stats['variant'] = stats['variant'].replace('Confined','')\n",
    "stats['variant'] = stats['variant'].replace('Baile','')\n",
    "stats['variant'] = stats['variant'].replace('Midday','')\n",
    "stats['variant'] = stats['variant'].replace('Solo','')\n",
    "stats['variant'] = stats['variant'].replace('Core','')\n",
    "stats['variant'] = stats['variant'].replace('Single Strike','')\n",
    "stats['variant'] = stats['variant'].replace('Full Belly Mode','')\n",
    "stats['variant'] = stats['variant'].replace('Family of Three','')\n",
    "stats['variant'] = stats['variant'].replace('Family of Four','')\n",
    "stats['variant'] = stats['variant'].replace('Amped','')\n",
    "stats['variant'] = stats['variant'].replace('Two-Segment','')\n",
    "stats['variant'] = stats['variant'].replace('Green','')\n",
    "stats['variant'] = stats['variant'].replace('Zero','')"
   ],
   "metadata": {
    "collapsed": false
   }
  },
  {
   "cell_type": "markdown",
   "source": [
    "Now I needed to manually fix the variants that still needed fixes."
   ],
   "metadata": {
    "collapsed": false
   }
  },
  {
   "cell_type": "code",
   "execution_count": 267,
   "outputs": [
    {
     "data": {
      "text/plain": "                 1009\nGalar              17\nAlola              15\nHisui              13\nTherian             4\nF                   4\nOrigin              3\nSuper               2\nSmall               2\nPrimal              2\nWhite               2\nSandy Cloak         2\nTrash Cloak         2\nLarge               2\nCrowned             2\nPlant Cloak         2\nDusk                1\nMidnight            1\nSchool              1\nMeteor              1\nDawn Wings          1\nHangry              1\nDusk Mane           1\nUltra               1\nLow-Key             1\nPom-Pom             1\nRapid-Strike        1\nIce                 1\nShadow              1\nBlue                1\nYellow              1\nHero                1\nSensu               1\nBlade               1\nPa'u                1\nMow                 1\nPaldea              1\nRainy               1\nSnowy               1\nSunny               1\nFan                 1\nFrost               1\nHeat                1\nWash                1\nUnbound             1\nGalar-Zen           1\nBlack               1\nResolute            1\nPirouette           1\nAsh                 1\n10%                 1\nComplete            1\nThree-Segment       1\nName: variant, dtype: int64"
     },
     "execution_count": 267,
     "metadata": {},
     "output_type": "execute_result"
    }
   ],
   "source": [
    "# unique variant notation fixes\n",
    "stats['variant'] = stats['variant'].replace('Crowned Sword','Crowned')\n",
    "stats['variant'] = stats['variant'].replace('Crowned Shield','Crowned')\n",
    "stats['variant'] = stats['variant'].replace('Ice Rider','Ice')\n",
    "stats['variant'] = stats['variant'].replace('Shadow Rider','Shadow')\n",
    "stats['variant'] = stats['variant'].replace('Galarian Zen','Galar-Zen')\n",
    "stats['variant'] = stats['variant'].replace('Pa u',\"Pa'u\")\n",
    "stats['variant'] = stats['variant'].replace('Rapid Strike','Rapid-Strike')\n",
    "stats['variant'] = stats['variant'].replace('Hangry Mode','Hangry')\n",
    "stats['variant'] = stats['variant'].replace('Low Key','Low-Key')\n",
    "stats['variant'] = stats['variant'].replace('Galarian Standard','Galar')\n",
    "\n",
    "stats.variant.value_counts()"
   ],
   "metadata": {
    "collapsed": false
   }
  },
  {
   "cell_type": "markdown",
   "source": [
    "After this there were still 6 variants that were not yet fully clean. These were the Pokémon: Burmy and Wormadam. These two Pokémon have the same shared 3 Variants, but those variants only matter for Wormadam and not for Burmy. This means I will need to manually these values. the Variants in question are the Plant Cloak, Sandy Cloak and Trash Cloak variants. The Plant cloak is the easiest to handle because this is the 'default' form according to the [Smogon Pokédex](https://www.smogon.com/dex/sv/pokemon/), this means that an empty('') value would be fitting for both Pokémon. The naming of cloak in the variant needs to be removed for the same reason.\n",
    " The only thing left to do was to remove the remaining Burmy, the way I found easiest was to locate them and manually remove the unneeded records."
   ],
   "metadata": {
    "collapsed": false
   }
  },
  {
   "cell_type": "code",
   "execution_count": 268,
   "outputs": [
    {
     "data": {
      "text/plain": "    dexnum      name type1   type2 total  hp atk  def sp.atk sp.def spd  \\\n493    412     Burmy   Bug    none   224  40  29   45     29     45  36   \n494    412     Burmy   Bug    none   224  40  29   45     29     45  36   \n495    412     Burmy   Bug    none   224  40  29   45     29     45  36   \n499    413  Wormadam   Bug   Grass   424  60  59   85     79    105  36   \n500    413  Wormadam   Bug  Ground   424  60  79  105     59     85  36   \n501    413  Wormadam   Bug   Steel   424  60  69   95     69     95  36   \n\n    variant  \n493          \n494   Sandy  \n495   Trash  \n499          \n500   Sandy  \n501   Trash  ",
      "text/html": "<div>\n<style scoped>\n    .dataframe tbody tr th:only-of-type {\n        vertical-align: middle;\n    }\n\n    .dataframe tbody tr th {\n        vertical-align: top;\n    }\n\n    .dataframe thead th {\n        text-align: right;\n    }\n</style>\n<table border=\"1\" class=\"dataframe\">\n  <thead>\n    <tr style=\"text-align: right;\">\n      <th></th>\n      <th>dexnum</th>\n      <th>name</th>\n      <th>type1</th>\n      <th>type2</th>\n      <th>total</th>\n      <th>hp</th>\n      <th>atk</th>\n      <th>def</th>\n      <th>sp.atk</th>\n      <th>sp.def</th>\n      <th>spd</th>\n      <th>variant</th>\n    </tr>\n  </thead>\n  <tbody>\n    <tr>\n      <th>493</th>\n      <td>412</td>\n      <td>Burmy</td>\n      <td>Bug</td>\n      <td>none</td>\n      <td>224</td>\n      <td>40</td>\n      <td>29</td>\n      <td>45</td>\n      <td>29</td>\n      <td>45</td>\n      <td>36</td>\n      <td></td>\n    </tr>\n    <tr>\n      <th>494</th>\n      <td>412</td>\n      <td>Burmy</td>\n      <td>Bug</td>\n      <td>none</td>\n      <td>224</td>\n      <td>40</td>\n      <td>29</td>\n      <td>45</td>\n      <td>29</td>\n      <td>45</td>\n      <td>36</td>\n      <td>Sandy</td>\n    </tr>\n    <tr>\n      <th>495</th>\n      <td>412</td>\n      <td>Burmy</td>\n      <td>Bug</td>\n      <td>none</td>\n      <td>224</td>\n      <td>40</td>\n      <td>29</td>\n      <td>45</td>\n      <td>29</td>\n      <td>45</td>\n      <td>36</td>\n      <td>Trash</td>\n    </tr>\n    <tr>\n      <th>499</th>\n      <td>413</td>\n      <td>Wormadam</td>\n      <td>Bug</td>\n      <td>Grass</td>\n      <td>424</td>\n      <td>60</td>\n      <td>59</td>\n      <td>85</td>\n      <td>79</td>\n      <td>105</td>\n      <td>36</td>\n      <td></td>\n    </tr>\n    <tr>\n      <th>500</th>\n      <td>413</td>\n      <td>Wormadam</td>\n      <td>Bug</td>\n      <td>Ground</td>\n      <td>424</td>\n      <td>60</td>\n      <td>79</td>\n      <td>105</td>\n      <td>59</td>\n      <td>85</td>\n      <td>36</td>\n      <td>Sandy</td>\n    </tr>\n    <tr>\n      <th>501</th>\n      <td>413</td>\n      <td>Wormadam</td>\n      <td>Bug</td>\n      <td>Steel</td>\n      <td>424</td>\n      <td>60</td>\n      <td>69</td>\n      <td>95</td>\n      <td>69</td>\n      <td>95</td>\n      <td>36</td>\n      <td>Trash</td>\n    </tr>\n  </tbody>\n</table>\n</div>"
     },
     "execution_count": 268,
     "metadata": {},
     "output_type": "execute_result"
    }
   ],
   "source": [
    "stats['variant'] = stats['variant'].replace('Plant Cloak','')\n",
    "stats['variant'] = stats['variant'].str.replace(' Cloak','')\n",
    "stats.loc[(stats['name'] == \"Burmy\") | (stats['name'] == \"Wormadam\")]"
   ],
   "metadata": {
    "collapsed": false
   }
  },
  {
   "cell_type": "code",
   "execution_count": 269,
   "outputs": [
    {
     "data": {
      "text/plain": "    dexnum      name type1   type2 total  hp atk  def sp.atk sp.def spd  \\\n493    412     Burmy   Bug    none   224  40  29   45     29     45  36   \n494    412     Burmy   Bug    none   224  40  29   45     29     45  36   \n495    412     Burmy   Bug    none   224  40  29   45     29     45  36   \n499    413  Wormadam   Bug   Grass   424  60  59   85     79    105  36   \n500    413  Wormadam   Bug  Ground   424  60  79  105     59     85  36   \n501    413  Wormadam   Bug   Steel   424  60  69   95     69     95  36   \n\n    variant  \n493          \n494   Sandy  \n495   Trash  \n499          \n500   Sandy  \n501   Trash  ",
      "text/html": "<div>\n<style scoped>\n    .dataframe tbody tr th:only-of-type {\n        vertical-align: middle;\n    }\n\n    .dataframe tbody tr th {\n        vertical-align: top;\n    }\n\n    .dataframe thead th {\n        text-align: right;\n    }\n</style>\n<table border=\"1\" class=\"dataframe\">\n  <thead>\n    <tr style=\"text-align: right;\">\n      <th></th>\n      <th>dexnum</th>\n      <th>name</th>\n      <th>type1</th>\n      <th>type2</th>\n      <th>total</th>\n      <th>hp</th>\n      <th>atk</th>\n      <th>def</th>\n      <th>sp.atk</th>\n      <th>sp.def</th>\n      <th>spd</th>\n      <th>variant</th>\n    </tr>\n  </thead>\n  <tbody>\n    <tr>\n      <th>493</th>\n      <td>412</td>\n      <td>Burmy</td>\n      <td>Bug</td>\n      <td>none</td>\n      <td>224</td>\n      <td>40</td>\n      <td>29</td>\n      <td>45</td>\n      <td>29</td>\n      <td>45</td>\n      <td>36</td>\n      <td></td>\n    </tr>\n    <tr>\n      <th>494</th>\n      <td>412</td>\n      <td>Burmy</td>\n      <td>Bug</td>\n      <td>none</td>\n      <td>224</td>\n      <td>40</td>\n      <td>29</td>\n      <td>45</td>\n      <td>29</td>\n      <td>45</td>\n      <td>36</td>\n      <td>Sandy</td>\n    </tr>\n    <tr>\n      <th>495</th>\n      <td>412</td>\n      <td>Burmy</td>\n      <td>Bug</td>\n      <td>none</td>\n      <td>224</td>\n      <td>40</td>\n      <td>29</td>\n      <td>45</td>\n      <td>29</td>\n      <td>45</td>\n      <td>36</td>\n      <td>Trash</td>\n    </tr>\n    <tr>\n      <th>499</th>\n      <td>413</td>\n      <td>Wormadam</td>\n      <td>Bug</td>\n      <td>Grass</td>\n      <td>424</td>\n      <td>60</td>\n      <td>59</td>\n      <td>85</td>\n      <td>79</td>\n      <td>105</td>\n      <td>36</td>\n      <td></td>\n    </tr>\n    <tr>\n      <th>500</th>\n      <td>413</td>\n      <td>Wormadam</td>\n      <td>Bug</td>\n      <td>Ground</td>\n      <td>424</td>\n      <td>60</td>\n      <td>79</td>\n      <td>105</td>\n      <td>59</td>\n      <td>85</td>\n      <td>36</td>\n      <td>Sandy</td>\n    </tr>\n    <tr>\n      <th>501</th>\n      <td>413</td>\n      <td>Wormadam</td>\n      <td>Bug</td>\n      <td>Steel</td>\n      <td>424</td>\n      <td>60</td>\n      <td>69</td>\n      <td>95</td>\n      <td>69</td>\n      <td>95</td>\n      <td>36</td>\n      <td>Trash</td>\n    </tr>\n  </tbody>\n</table>\n</div>"
     },
     "execution_count": 269,
     "metadata": {},
     "output_type": "execute_result"
    }
   ],
   "source": [
    "stats.drop(stats.index[494], inplace=True)\n",
    "stats.drop(stats.index[495], inplace=True)\n",
    "stats.loc[(stats['name'] == \"Burmy\") | (stats['name'] == \"Wormadam\")]"
   ],
   "metadata": {
    "collapsed": false
   }
  },
  {
   "cell_type": "markdown",
   "source": [
    "This did not work and I started thinking again, I asked myself if I really did need to transform this data. I didn't really need to strip out the Burmy forms. This because I want to join this dataset on the one provided by Smogon. This would mean it will only select the one with the correct variant index. In this case that index wil always by none because Smogon does not recognize the other Burmy variants. This makes the step above unnecessary.\n",
    "\n",
    "After a quick inspection of the dataset I found out that there are duplicate rows."
   ],
   "metadata": {
    "collapsed": false
   }
  },
  {
   "cell_type": "code",
   "execution_count": 270,
   "outputs": [
    {
     "data": {
      "text/plain": "True"
     },
     "execution_count": 270,
     "metadata": {},
     "output_type": "execute_result"
    }
   ],
   "source": [
    "stats.duplicated().__contains__(True)"
   ],
   "metadata": {
    "collapsed": false
   }
  },
  {
   "cell_type": "code",
   "execution_count": 271,
   "outputs": [
    {
     "data": {
      "text/plain": "     dexnum          name     type1     type2 total   hp  atk  def sp.atk  \\\n0         1     Bulbasaur     Grass    Poison   318   45   49   49     65   \n1         2       Ivysaur     Grass    Poison   405   60   62   63     80   \n2         3      Venusaur     Grass    Poison   525   80   82   83    100   \n3         3      Venusaur     Grass    Poison   625   80  100  123    122   \n4         4    Charmander      Fire      none   309   39   52   43     60   \n...     ...           ...       ...       ...   ...  ...  ...  ...    ...   \n1168   1004        Chi-Yu      Dark      Fire   570   55   80   80    135   \n1169   1005  Roaring Moon    Dragon      Dark   590  105  139   71     55   \n1170   1006  Iron Valiant     Fairy  Fighting   590   74  130   90    120   \n1171   1007      Koraidon  Fighting    Dragon   670  100  135  115     85   \n1172   1008      Miraidon  Electric    Dragon   670  100   85  100    135   \n\n     sp.def  spd variant  \n0        65   45          \n1        80   60          \n2       100   80          \n3       120   80          \n4        50   65          \n...     ...  ...     ...  \n1168    120  100          \n1169    101  119          \n1170     60  116          \n1171    100  135          \n1172    115  135          \n\n[1116 rows x 12 columns]",
      "text/html": "<div>\n<style scoped>\n    .dataframe tbody tr th:only-of-type {\n        vertical-align: middle;\n    }\n\n    .dataframe tbody tr th {\n        vertical-align: top;\n    }\n\n    .dataframe thead th {\n        text-align: right;\n    }\n</style>\n<table border=\"1\" class=\"dataframe\">\n  <thead>\n    <tr style=\"text-align: right;\">\n      <th></th>\n      <th>dexnum</th>\n      <th>name</th>\n      <th>type1</th>\n      <th>type2</th>\n      <th>total</th>\n      <th>hp</th>\n      <th>atk</th>\n      <th>def</th>\n      <th>sp.atk</th>\n      <th>sp.def</th>\n      <th>spd</th>\n      <th>variant</th>\n    </tr>\n  </thead>\n  <tbody>\n    <tr>\n      <th>0</th>\n      <td>1</td>\n      <td>Bulbasaur</td>\n      <td>Grass</td>\n      <td>Poison</td>\n      <td>318</td>\n      <td>45</td>\n      <td>49</td>\n      <td>49</td>\n      <td>65</td>\n      <td>65</td>\n      <td>45</td>\n      <td></td>\n    </tr>\n    <tr>\n      <th>1</th>\n      <td>2</td>\n      <td>Ivysaur</td>\n      <td>Grass</td>\n      <td>Poison</td>\n      <td>405</td>\n      <td>60</td>\n      <td>62</td>\n      <td>63</td>\n      <td>80</td>\n      <td>80</td>\n      <td>60</td>\n      <td></td>\n    </tr>\n    <tr>\n      <th>2</th>\n      <td>3</td>\n      <td>Venusaur</td>\n      <td>Grass</td>\n      <td>Poison</td>\n      <td>525</td>\n      <td>80</td>\n      <td>82</td>\n      <td>83</td>\n      <td>100</td>\n      <td>100</td>\n      <td>80</td>\n      <td></td>\n    </tr>\n    <tr>\n      <th>3</th>\n      <td>3</td>\n      <td>Venusaur</td>\n      <td>Grass</td>\n      <td>Poison</td>\n      <td>625</td>\n      <td>80</td>\n      <td>100</td>\n      <td>123</td>\n      <td>122</td>\n      <td>120</td>\n      <td>80</td>\n      <td></td>\n    </tr>\n    <tr>\n      <th>4</th>\n      <td>4</td>\n      <td>Charmander</td>\n      <td>Fire</td>\n      <td>none</td>\n      <td>309</td>\n      <td>39</td>\n      <td>52</td>\n      <td>43</td>\n      <td>60</td>\n      <td>50</td>\n      <td>65</td>\n      <td></td>\n    </tr>\n    <tr>\n      <th>...</th>\n      <td>...</td>\n      <td>...</td>\n      <td>...</td>\n      <td>...</td>\n      <td>...</td>\n      <td>...</td>\n      <td>...</td>\n      <td>...</td>\n      <td>...</td>\n      <td>...</td>\n      <td>...</td>\n      <td>...</td>\n    </tr>\n    <tr>\n      <th>1168</th>\n      <td>1004</td>\n      <td>Chi-Yu</td>\n      <td>Dark</td>\n      <td>Fire</td>\n      <td>570</td>\n      <td>55</td>\n      <td>80</td>\n      <td>80</td>\n      <td>135</td>\n      <td>120</td>\n      <td>100</td>\n      <td></td>\n    </tr>\n    <tr>\n      <th>1169</th>\n      <td>1005</td>\n      <td>Roaring Moon</td>\n      <td>Dragon</td>\n      <td>Dark</td>\n      <td>590</td>\n      <td>105</td>\n      <td>139</td>\n      <td>71</td>\n      <td>55</td>\n      <td>101</td>\n      <td>119</td>\n      <td></td>\n    </tr>\n    <tr>\n      <th>1170</th>\n      <td>1006</td>\n      <td>Iron Valiant</td>\n      <td>Fairy</td>\n      <td>Fighting</td>\n      <td>590</td>\n      <td>74</td>\n      <td>130</td>\n      <td>90</td>\n      <td>120</td>\n      <td>60</td>\n      <td>116</td>\n      <td></td>\n    </tr>\n    <tr>\n      <th>1171</th>\n      <td>1007</td>\n      <td>Koraidon</td>\n      <td>Fighting</td>\n      <td>Dragon</td>\n      <td>670</td>\n      <td>100</td>\n      <td>135</td>\n      <td>115</td>\n      <td>85</td>\n      <td>100</td>\n      <td>135</td>\n      <td></td>\n    </tr>\n    <tr>\n      <th>1172</th>\n      <td>1008</td>\n      <td>Miraidon</td>\n      <td>Electric</td>\n      <td>Dragon</td>\n      <td>670</td>\n      <td>100</td>\n      <td>85</td>\n      <td>100</td>\n      <td>135</td>\n      <td>115</td>\n      <td>135</td>\n      <td></td>\n    </tr>\n  </tbody>\n</table>\n<p>1116 rows × 12 columns</p>\n</div>"
     },
     "execution_count": 271,
     "metadata": {},
     "output_type": "execute_result"
    }
   ],
   "source": [
    "stats.drop_duplicates()"
   ],
   "metadata": {
    "collapsed": false
   }
  },
  {
   "cell_type": "markdown",
   "source": [
    "I also found out that the dataset is incomplete. I will add the missing Pokémon manually here, this section will be updated if I find more missing Pokémon later."
   ],
   "metadata": {
    "collapsed": false
   }
  },
  {
   "cell_type": "code",
   "execution_count": 272,
   "outputs": [
    {
     "data": {
      "text/plain": "     dexnum    name     type1  type2 total  hp  atk  def sp.atk sp.def  spd  \\\n164     128  Tauros    Normal   none   490  75  100   95     40     70  110   \n1118    128  Tauros  Fighting  Water   490  75  110  105     30     70  100   \n1119    128  Tauros  Fighting   Fire   490  75  110  105     30     70  100   \n1120    128  Tauros  Fighting   none   490  75  110  105     30     70  100   \n\n            variant  \n164                  \n1118    Paldea-Aqua  \n1119   Paldea-Blaze  \n1120  Paldea-Combat  ",
      "text/html": "<div>\n<style scoped>\n    .dataframe tbody tr th:only-of-type {\n        vertical-align: middle;\n    }\n\n    .dataframe tbody tr th {\n        vertical-align: top;\n    }\n\n    .dataframe thead th {\n        text-align: right;\n    }\n</style>\n<table border=\"1\" class=\"dataframe\">\n  <thead>\n    <tr style=\"text-align: right;\">\n      <th></th>\n      <th>dexnum</th>\n      <th>name</th>\n      <th>type1</th>\n      <th>type2</th>\n      <th>total</th>\n      <th>hp</th>\n      <th>atk</th>\n      <th>def</th>\n      <th>sp.atk</th>\n      <th>sp.def</th>\n      <th>spd</th>\n      <th>variant</th>\n    </tr>\n  </thead>\n  <tbody>\n    <tr>\n      <th>164</th>\n      <td>128</td>\n      <td>Tauros</td>\n      <td>Normal</td>\n      <td>none</td>\n      <td>490</td>\n      <td>75</td>\n      <td>100</td>\n      <td>95</td>\n      <td>40</td>\n      <td>70</td>\n      <td>110</td>\n      <td></td>\n    </tr>\n    <tr>\n      <th>1118</th>\n      <td>128</td>\n      <td>Tauros</td>\n      <td>Fighting</td>\n      <td>Water</td>\n      <td>490</td>\n      <td>75</td>\n      <td>110</td>\n      <td>105</td>\n      <td>30</td>\n      <td>70</td>\n      <td>100</td>\n      <td>Paldea-Aqua</td>\n    </tr>\n    <tr>\n      <th>1119</th>\n      <td>128</td>\n      <td>Tauros</td>\n      <td>Fighting</td>\n      <td>Fire</td>\n      <td>490</td>\n      <td>75</td>\n      <td>110</td>\n      <td>105</td>\n      <td>30</td>\n      <td>70</td>\n      <td>100</td>\n      <td>Paldea-Blaze</td>\n    </tr>\n    <tr>\n      <th>1120</th>\n      <td>128</td>\n      <td>Tauros</td>\n      <td>Fighting</td>\n      <td>none</td>\n      <td>490</td>\n      <td>75</td>\n      <td>110</td>\n      <td>105</td>\n      <td>30</td>\n      <td>70</td>\n      <td>100</td>\n      <td>Paldea-Combat</td>\n    </tr>\n  </tbody>\n</table>\n</div>"
     },
     "execution_count": 272,
     "metadata": {},
     "output_type": "execute_result"
    }
   ],
   "source": [
    "stats.loc[len(stats)] = [128,\"Tauros\",\"Fighting\",\"Water\", 490, 75, 110, 105, 30, 70, 100,\"Paldea-Aqua\"]\n",
    "stats.loc[len(stats) + 1] = [128,\"Tauros\",\"Fighting\",\"Fire\", 490, 75, 110, 105, 30, 70, 100,\"Paldea-Blaze\"]\n",
    "stats.loc[len(stats) + 2] = [128,\"Tauros\",\"Fighting\",\"none\", 490, 75, 110, 105, 30, 70, 100,\"Paldea-Combat\"]\n",
    "stats.loc[stats['dexnum'] == 128]"
   ],
   "metadata": {
    "collapsed": false
   }
  },
  {
   "cell_type": "markdown",
   "source": [
    "Now I want to add a column containing the generation of the Pokémon game that the Pokémon was first introduced, this is because I think it would have significance to figure out reasons why certain Pokémon are used the most.\n",
    "\n",
    "I had this working with a for loop and some if statements. This worked but after some feedback I got from a teacher, I found out there is a better method to do these kinds of operations. This method is called vectorization, it allows code to run on multiple threads and in the background. This means it is way faster to compute. This is not really important for this dataset but is a very important thing to keep in mind with bigger datasets.\n",
    "\n",
    "This is the first iteration to try and classify the generation of Pokémon.\n",
    "\n",
    "```python\n",
    "stats['dexnum'] = stats['dexnum'].astype(int)\n",
    "\n",
    "gen = []\n",
    "for index, row in stats.iterrows():\n",
    "    if row['dexnum'] <= 151:\n",
    "        gen.append(1)\n",
    "    elif row['dexnum'] > 151 and row['dexnum'] <= 251:\n",
    "        gen.append(2)\n",
    "    elif row['dexnum'] > 251 and row['dexnum'] <= 386:\n",
    "        gen.append(3)\n",
    "    elif row['dexnum'] > 386 and row['dexnum'] <= 493:\n",
    "        gen.append(4)\n",
    "    elif row['dexnum'] > 493 and row['dexnum'] <= 649:\n",
    "        gen.append(5)\n",
    "    elif row['dexnum'] > 649 and row['dexnum'] <= 721:\n",
    "        gen.append(6)\n",
    "    elif row['dexnum'] > 721 and row['dexnum'] <= 809:\n",
    "        gen.append(7)\n",
    "    elif row['dexnum'] > 809 and row['dexnum'] <= 905:\n",
    "        gen.append(8)\n",
    "    elif row['dexnum'] > 905:\n",
    "        gen.append(9)\n",
    "\n",
    "stats['generation'] = gen\n",
    "stats\n",
    "```\n",
    "\n",
    "This was my first try at applying vectorization without fully understanding what it was completely\n",
    "```python\n",
    "stats['dexnum'] = stats['dexnum'].astype(int)\n",
    "\n",
    "def get_gen(record):\n",
    "\n",
    "    if record.dexnum <= 151:\n",
    "        return 1\n",
    "    elif record.dexnum > 151 and record.dexnum <= 251:\n",
    "        return 2\n",
    "    elif record.dexnum > 251 and record.dexnum <= 386:\n",
    "        return 3\n",
    "    elif record.dexnum > 386 and record.dexnum <= 493:\n",
    "        return 4\n",
    "    elif record.dexnum > 493 and record.dexnum <= 649:\n",
    "        return 5\n",
    "    elif record.dexnum > 649 and record.dexnum <= 721:\n",
    "        return 6\n",
    "    elif record.dexnum > 721 and record.dexnum <= 809:\n",
    "        return 7\n",
    "    elif record.dexnum > 809 and record.dexnum <= 905:\n",
    "        return 8\n",
    "    elif record.dexnum > 905:\n",
    "        return 9\n",
    "\n",
    "stats['generation'] = stats['dexnum'].map(lambda generation: get_gen())\n",
    "```\n",
    "After not getting this part of code to work after trying most of the methods I could find online, I requested help from one of my teachers. The reason I couldn't get it to work was mostly a syntax problem. I didn't put brackets around the part that compares the 'dexnum' column to the numbers. I also used 'and' instead of '&'"
   ],
   "metadata": {
    "collapsed": false
   }
  },
  {
   "cell_type": "code",
   "execution_count": 273,
   "outputs": [
    {
     "data": {
      "text/plain": "      dexnum          name     type1     type2 total   hp  atk  def sp.atk  \\\n0          1     Bulbasaur     Grass    Poison   318   45   49   49     65   \n1          2       Ivysaur     Grass    Poison   405   60   62   63     80   \n2          3      Venusaur     Grass    Poison   525   80   82   83    100   \n3          3      Venusaur     Grass    Poison   625   80  100  123    122   \n4          4    Charmander      Fire      none   309   39   52   43     60   \n...      ...           ...       ...       ...   ...  ...  ...  ...    ...   \n1168    1004        Chi-Yu      Dark      Fire   570   55   80   80    135   \n1169    1005  Roaring Moon    Dragon      Dark   590  105  139   71     55   \n1170    1006  Iron Valiant     Fairy  Fighting   590   74  130   90    120   \n1171    1007      Koraidon  Fighting    Dragon   670  100  135  115     85   \n1172    1008      Miraidon  Electric    Dragon   670  100   85  100    135   \n\n     sp.def  spd variant  generation  \n0        65   45                   1  \n1        80   60                   1  \n2       100   80                   1  \n3       120   80                   1  \n4        50   65                   1  \n...     ...  ...     ...         ...  \n1168    120  100                   9  \n1169    101  119                   9  \n1170     60  116                   9  \n1171    100  135                   9  \n1172    115  135                   9  \n\n[1118 rows x 13 columns]",
      "text/html": "<div>\n<style scoped>\n    .dataframe tbody tr th:only-of-type {\n        vertical-align: middle;\n    }\n\n    .dataframe tbody tr th {\n        vertical-align: top;\n    }\n\n    .dataframe thead th {\n        text-align: right;\n    }\n</style>\n<table border=\"1\" class=\"dataframe\">\n  <thead>\n    <tr style=\"text-align: right;\">\n      <th></th>\n      <th>dexnum</th>\n      <th>name</th>\n      <th>type1</th>\n      <th>type2</th>\n      <th>total</th>\n      <th>hp</th>\n      <th>atk</th>\n      <th>def</th>\n      <th>sp.atk</th>\n      <th>sp.def</th>\n      <th>spd</th>\n      <th>variant</th>\n      <th>generation</th>\n    </tr>\n  </thead>\n  <tbody>\n    <tr>\n      <th>0</th>\n      <td>1</td>\n      <td>Bulbasaur</td>\n      <td>Grass</td>\n      <td>Poison</td>\n      <td>318</td>\n      <td>45</td>\n      <td>49</td>\n      <td>49</td>\n      <td>65</td>\n      <td>65</td>\n      <td>45</td>\n      <td></td>\n      <td>1</td>\n    </tr>\n    <tr>\n      <th>1</th>\n      <td>2</td>\n      <td>Ivysaur</td>\n      <td>Grass</td>\n      <td>Poison</td>\n      <td>405</td>\n      <td>60</td>\n      <td>62</td>\n      <td>63</td>\n      <td>80</td>\n      <td>80</td>\n      <td>60</td>\n      <td></td>\n      <td>1</td>\n    </tr>\n    <tr>\n      <th>2</th>\n      <td>3</td>\n      <td>Venusaur</td>\n      <td>Grass</td>\n      <td>Poison</td>\n      <td>525</td>\n      <td>80</td>\n      <td>82</td>\n      <td>83</td>\n      <td>100</td>\n      <td>100</td>\n      <td>80</td>\n      <td></td>\n      <td>1</td>\n    </tr>\n    <tr>\n      <th>3</th>\n      <td>3</td>\n      <td>Venusaur</td>\n      <td>Grass</td>\n      <td>Poison</td>\n      <td>625</td>\n      <td>80</td>\n      <td>100</td>\n      <td>123</td>\n      <td>122</td>\n      <td>120</td>\n      <td>80</td>\n      <td></td>\n      <td>1</td>\n    </tr>\n    <tr>\n      <th>4</th>\n      <td>4</td>\n      <td>Charmander</td>\n      <td>Fire</td>\n      <td>none</td>\n      <td>309</td>\n      <td>39</td>\n      <td>52</td>\n      <td>43</td>\n      <td>60</td>\n      <td>50</td>\n      <td>65</td>\n      <td></td>\n      <td>1</td>\n    </tr>\n    <tr>\n      <th>...</th>\n      <td>...</td>\n      <td>...</td>\n      <td>...</td>\n      <td>...</td>\n      <td>...</td>\n      <td>...</td>\n      <td>...</td>\n      <td>...</td>\n      <td>...</td>\n      <td>...</td>\n      <td>...</td>\n      <td>...</td>\n      <td>...</td>\n    </tr>\n    <tr>\n      <th>1168</th>\n      <td>1004</td>\n      <td>Chi-Yu</td>\n      <td>Dark</td>\n      <td>Fire</td>\n      <td>570</td>\n      <td>55</td>\n      <td>80</td>\n      <td>80</td>\n      <td>135</td>\n      <td>120</td>\n      <td>100</td>\n      <td></td>\n      <td>9</td>\n    </tr>\n    <tr>\n      <th>1169</th>\n      <td>1005</td>\n      <td>Roaring Moon</td>\n      <td>Dragon</td>\n      <td>Dark</td>\n      <td>590</td>\n      <td>105</td>\n      <td>139</td>\n      <td>71</td>\n      <td>55</td>\n      <td>101</td>\n      <td>119</td>\n      <td></td>\n      <td>9</td>\n    </tr>\n    <tr>\n      <th>1170</th>\n      <td>1006</td>\n      <td>Iron Valiant</td>\n      <td>Fairy</td>\n      <td>Fighting</td>\n      <td>590</td>\n      <td>74</td>\n      <td>130</td>\n      <td>90</td>\n      <td>120</td>\n      <td>60</td>\n      <td>116</td>\n      <td></td>\n      <td>9</td>\n    </tr>\n    <tr>\n      <th>1171</th>\n      <td>1007</td>\n      <td>Koraidon</td>\n      <td>Fighting</td>\n      <td>Dragon</td>\n      <td>670</td>\n      <td>100</td>\n      <td>135</td>\n      <td>115</td>\n      <td>85</td>\n      <td>100</td>\n      <td>135</td>\n      <td></td>\n      <td>9</td>\n    </tr>\n    <tr>\n      <th>1172</th>\n      <td>1008</td>\n      <td>Miraidon</td>\n      <td>Electric</td>\n      <td>Dragon</td>\n      <td>670</td>\n      <td>100</td>\n      <td>85</td>\n      <td>100</td>\n      <td>135</td>\n      <td>115</td>\n      <td>135</td>\n      <td></td>\n      <td>9</td>\n    </tr>\n  </tbody>\n</table>\n<p>1118 rows × 13 columns</p>\n</div>"
     },
     "execution_count": 273,
     "metadata": {},
     "output_type": "execute_result"
    }
   ],
   "source": [
    "stats['dexnum'] = stats['dexnum'].astype(int)\n",
    "stats['generation'] = 0\n",
    "\n",
    "stats.loc[(stats['dexnum'] <= 151), 'generation'] = 1\n",
    "stats.loc[(stats['dexnum'] > 151) & (stats['dexnum'] <= 251), 'generation'] = 2\n",
    "stats.loc[(stats['dexnum'] > 251) & (stats['dexnum'] <= 386), 'generation'] = 3\n",
    "stats.loc[(stats['dexnum'] > 386) & (stats['dexnum'] <= 493), 'generation'] = 4\n",
    "stats.loc[(stats['dexnum'] > 493) & (stats['dexnum'] <= 649), 'generation'] = 5\n",
    "stats.loc[(stats['dexnum'] > 649) & (stats['dexnum'] <= 721), 'generation'] = 6\n",
    "stats.loc[(stats['dexnum'] > 721) & (stats['dexnum'] <= 809), 'generation'] = 7\n",
    "stats.loc[(stats['dexnum'] > 809) & (stats['dexnum'] <= 905), 'generation'] = 8\n",
    "stats.loc[(stats['dexnum'] > 905), 'generation'] = 9\n",
    "\n",
    "stats"
   ],
   "metadata": {
    "collapsed": false
   }
  },
  {
   "cell_type": "markdown",
   "source": [
    "After inspecting the data for generation I found out that the column was successfully added with the correct data.\n",
    "\n",
    "I think it is now time to combine the Pokémon and variant column to ready this dataframe for a merge. For this part I got the same feedback to apply vectorization.\n",
    "\n",
    "```python\n",
    "pokemon_names = []\n",
    "\n",
    "for index, row in stats.iterrows():\n",
    "    if len(row.variant) >= 1:\n",
    "        pokemon_names.append(row['name'] + \"-\" + row['variant'])\n",
    "    else:\n",
    "        pokemon_names.append(row['name'])\n",
    "\n",
    "stats['pokemon'] = pokemon_names\n",
    "stats\n",
    "```\n",
    "\n",
    "```python\n",
    "variant = stats['variant'].to_numpy()\n",
    "name = stats['name'].to_numpy()\n",
    "\n",
    "length = np.array([len(i) for i in variant])\n",
    "\n",
    "stats['pokemon'] = 0\n",
    "\n",
    "stats.loc[(len(['variant'].str) >= 1), 'pokemon'] = stats['name'] + \"-\" + stats['variant']\n",
    "stats.loc[(len(['variant'].str) < 1), 'pokemon'] = stats['name']\n",
    "\n",
    "stats\n",
    "```\n",
    "\n",
    "```python\n",
    "stats['pokemon'] = stats['variant'].apply(lambda x: stats['name'].str if len(x) >= 1 else (stats['name'].str + \"-\" + stats['variant'].str))\n",
    "```"
   ],
   "metadata": {
    "collapsed": false
   }
  },
  {
   "cell_type": "code",
   "execution_count": 274,
   "outputs": [
    {
     "data": {
      "text/plain": "      dexnum          name     type1     type2 total   hp  atk  def sp.atk  \\\n0          1     Bulbasaur     Grass    Poison   318   45   49   49     65   \n1          2       Ivysaur     Grass    Poison   405   60   62   63     80   \n2          3      Venusaur     Grass    Poison   525   80   82   83    100   \n3          3      Venusaur     Grass    Poison   625   80  100  123    122   \n4          4    Charmander      Fire      none   309   39   52   43     60   \n...      ...           ...       ...       ...   ...  ...  ...  ...    ...   \n1168    1004        Chi-Yu      Dark      Fire   570   55   80   80    135   \n1169    1005  Roaring Moon    Dragon      Dark   590  105  139   71     55   \n1170    1006  Iron Valiant     Fairy  Fighting   590   74  130   90    120   \n1171    1007      Koraidon  Fighting    Dragon   670  100  135  115     85   \n1172    1008      Miraidon  Electric    Dragon   670  100   85  100    135   \n\n     sp.def  spd variant  generation       pokemon  \n0        65   45                   1     Bulbasaur  \n1        80   60                   1       Ivysaur  \n2       100   80                   1      Venusaur  \n3       120   80                   1      Venusaur  \n4        50   65                   1    Charmander  \n...     ...  ...     ...         ...           ...  \n1168    120  100                   9        Chi-Yu  \n1169    101  119                   9  Roaring Moon  \n1170     60  116                   9  Iron Valiant  \n1171    100  135                   9      Koraidon  \n1172    115  135                   9      Miraidon  \n\n[1118 rows x 14 columns]",
      "text/html": "<div>\n<style scoped>\n    .dataframe tbody tr th:only-of-type {\n        vertical-align: middle;\n    }\n\n    .dataframe tbody tr th {\n        vertical-align: top;\n    }\n\n    .dataframe thead th {\n        text-align: right;\n    }\n</style>\n<table border=\"1\" class=\"dataframe\">\n  <thead>\n    <tr style=\"text-align: right;\">\n      <th></th>\n      <th>dexnum</th>\n      <th>name</th>\n      <th>type1</th>\n      <th>type2</th>\n      <th>total</th>\n      <th>hp</th>\n      <th>atk</th>\n      <th>def</th>\n      <th>sp.atk</th>\n      <th>sp.def</th>\n      <th>spd</th>\n      <th>variant</th>\n      <th>generation</th>\n      <th>pokemon</th>\n    </tr>\n  </thead>\n  <tbody>\n    <tr>\n      <th>0</th>\n      <td>1</td>\n      <td>Bulbasaur</td>\n      <td>Grass</td>\n      <td>Poison</td>\n      <td>318</td>\n      <td>45</td>\n      <td>49</td>\n      <td>49</td>\n      <td>65</td>\n      <td>65</td>\n      <td>45</td>\n      <td></td>\n      <td>1</td>\n      <td>Bulbasaur</td>\n    </tr>\n    <tr>\n      <th>1</th>\n      <td>2</td>\n      <td>Ivysaur</td>\n      <td>Grass</td>\n      <td>Poison</td>\n      <td>405</td>\n      <td>60</td>\n      <td>62</td>\n      <td>63</td>\n      <td>80</td>\n      <td>80</td>\n      <td>60</td>\n      <td></td>\n      <td>1</td>\n      <td>Ivysaur</td>\n    </tr>\n    <tr>\n      <th>2</th>\n      <td>3</td>\n      <td>Venusaur</td>\n      <td>Grass</td>\n      <td>Poison</td>\n      <td>525</td>\n      <td>80</td>\n      <td>82</td>\n      <td>83</td>\n      <td>100</td>\n      <td>100</td>\n      <td>80</td>\n      <td></td>\n      <td>1</td>\n      <td>Venusaur</td>\n    </tr>\n    <tr>\n      <th>3</th>\n      <td>3</td>\n      <td>Venusaur</td>\n      <td>Grass</td>\n      <td>Poison</td>\n      <td>625</td>\n      <td>80</td>\n      <td>100</td>\n      <td>123</td>\n      <td>122</td>\n      <td>120</td>\n      <td>80</td>\n      <td></td>\n      <td>1</td>\n      <td>Venusaur</td>\n    </tr>\n    <tr>\n      <th>4</th>\n      <td>4</td>\n      <td>Charmander</td>\n      <td>Fire</td>\n      <td>none</td>\n      <td>309</td>\n      <td>39</td>\n      <td>52</td>\n      <td>43</td>\n      <td>60</td>\n      <td>50</td>\n      <td>65</td>\n      <td></td>\n      <td>1</td>\n      <td>Charmander</td>\n    </tr>\n    <tr>\n      <th>...</th>\n      <td>...</td>\n      <td>...</td>\n      <td>...</td>\n      <td>...</td>\n      <td>...</td>\n      <td>...</td>\n      <td>...</td>\n      <td>...</td>\n      <td>...</td>\n      <td>...</td>\n      <td>...</td>\n      <td>...</td>\n      <td>...</td>\n      <td>...</td>\n    </tr>\n    <tr>\n      <th>1168</th>\n      <td>1004</td>\n      <td>Chi-Yu</td>\n      <td>Dark</td>\n      <td>Fire</td>\n      <td>570</td>\n      <td>55</td>\n      <td>80</td>\n      <td>80</td>\n      <td>135</td>\n      <td>120</td>\n      <td>100</td>\n      <td></td>\n      <td>9</td>\n      <td>Chi-Yu</td>\n    </tr>\n    <tr>\n      <th>1169</th>\n      <td>1005</td>\n      <td>Roaring Moon</td>\n      <td>Dragon</td>\n      <td>Dark</td>\n      <td>590</td>\n      <td>105</td>\n      <td>139</td>\n      <td>71</td>\n      <td>55</td>\n      <td>101</td>\n      <td>119</td>\n      <td></td>\n      <td>9</td>\n      <td>Roaring Moon</td>\n    </tr>\n    <tr>\n      <th>1170</th>\n      <td>1006</td>\n      <td>Iron Valiant</td>\n      <td>Fairy</td>\n      <td>Fighting</td>\n      <td>590</td>\n      <td>74</td>\n      <td>130</td>\n      <td>90</td>\n      <td>120</td>\n      <td>60</td>\n      <td>116</td>\n      <td></td>\n      <td>9</td>\n      <td>Iron Valiant</td>\n    </tr>\n    <tr>\n      <th>1171</th>\n      <td>1007</td>\n      <td>Koraidon</td>\n      <td>Fighting</td>\n      <td>Dragon</td>\n      <td>670</td>\n      <td>100</td>\n      <td>135</td>\n      <td>115</td>\n      <td>85</td>\n      <td>100</td>\n      <td>135</td>\n      <td></td>\n      <td>9</td>\n      <td>Koraidon</td>\n    </tr>\n    <tr>\n      <th>1172</th>\n      <td>1008</td>\n      <td>Miraidon</td>\n      <td>Electric</td>\n      <td>Dragon</td>\n      <td>670</td>\n      <td>100</td>\n      <td>85</td>\n      <td>100</td>\n      <td>135</td>\n      <td>115</td>\n      <td>135</td>\n      <td></td>\n      <td>9</td>\n      <td>Miraidon</td>\n    </tr>\n  </tbody>\n</table>\n<p>1118 rows × 14 columns</p>\n</div>"
     },
     "execution_count": 274,
     "metadata": {},
     "output_type": "execute_result"
    }
   ],
   "source": [
    "stats.loc[(stats['variant'].str.len() >= 1), 'pokemon'] = stats['name'] + \"-\" + stats['variant']\n",
    "stats.loc[(stats['variant'].str.len() < 1), 'pokemon'] = stats['name']\n",
    "\n",
    "stats"
   ],
   "metadata": {
    "collapsed": false
   }
  },
  {
   "cell_type": "markdown",
   "source": [
    "Now I wanted to drop the columns that I previously merged together, this is because I don't need them anymore."
   ],
   "metadata": {
    "collapsed": false
   }
  },
  {
   "cell_type": "code",
   "execution_count": 275,
   "outputs": [
    {
     "data": {
      "text/plain": "      dexnum     type1     type2 total   hp  atk  def sp.atk sp.def  spd  \\\n0          1     Grass    Poison   318   45   49   49     65     65   45   \n1          2     Grass    Poison   405   60   62   63     80     80   60   \n2          3     Grass    Poison   525   80   82   83    100    100   80   \n3          3     Grass    Poison   625   80  100  123    122    120   80   \n4          4      Fire      none   309   39   52   43     60     50   65   \n...      ...       ...       ...   ...  ...  ...  ...    ...    ...  ...   \n1168    1004      Dark      Fire   570   55   80   80    135    120  100   \n1169    1005    Dragon      Dark   590  105  139   71     55    101  119   \n1170    1006     Fairy  Fighting   590   74  130   90    120     60  116   \n1171    1007  Fighting    Dragon   670  100  135  115     85    100  135   \n1172    1008  Electric    Dragon   670  100   85  100    135    115  135   \n\n      generation       pokemon  \n0              1     Bulbasaur  \n1              1       Ivysaur  \n2              1      Venusaur  \n3              1      Venusaur  \n4              1    Charmander  \n...          ...           ...  \n1168           9        Chi-Yu  \n1169           9  Roaring Moon  \n1170           9  Iron Valiant  \n1171           9      Koraidon  \n1172           9      Miraidon  \n\n[1118 rows x 12 columns]",
      "text/html": "<div>\n<style scoped>\n    .dataframe tbody tr th:only-of-type {\n        vertical-align: middle;\n    }\n\n    .dataframe tbody tr th {\n        vertical-align: top;\n    }\n\n    .dataframe thead th {\n        text-align: right;\n    }\n</style>\n<table border=\"1\" class=\"dataframe\">\n  <thead>\n    <tr style=\"text-align: right;\">\n      <th></th>\n      <th>dexnum</th>\n      <th>type1</th>\n      <th>type2</th>\n      <th>total</th>\n      <th>hp</th>\n      <th>atk</th>\n      <th>def</th>\n      <th>sp.atk</th>\n      <th>sp.def</th>\n      <th>spd</th>\n      <th>generation</th>\n      <th>pokemon</th>\n    </tr>\n  </thead>\n  <tbody>\n    <tr>\n      <th>0</th>\n      <td>1</td>\n      <td>Grass</td>\n      <td>Poison</td>\n      <td>318</td>\n      <td>45</td>\n      <td>49</td>\n      <td>49</td>\n      <td>65</td>\n      <td>65</td>\n      <td>45</td>\n      <td>1</td>\n      <td>Bulbasaur</td>\n    </tr>\n    <tr>\n      <th>1</th>\n      <td>2</td>\n      <td>Grass</td>\n      <td>Poison</td>\n      <td>405</td>\n      <td>60</td>\n      <td>62</td>\n      <td>63</td>\n      <td>80</td>\n      <td>80</td>\n      <td>60</td>\n      <td>1</td>\n      <td>Ivysaur</td>\n    </tr>\n    <tr>\n      <th>2</th>\n      <td>3</td>\n      <td>Grass</td>\n      <td>Poison</td>\n      <td>525</td>\n      <td>80</td>\n      <td>82</td>\n      <td>83</td>\n      <td>100</td>\n      <td>100</td>\n      <td>80</td>\n      <td>1</td>\n      <td>Venusaur</td>\n    </tr>\n    <tr>\n      <th>3</th>\n      <td>3</td>\n      <td>Grass</td>\n      <td>Poison</td>\n      <td>625</td>\n      <td>80</td>\n      <td>100</td>\n      <td>123</td>\n      <td>122</td>\n      <td>120</td>\n      <td>80</td>\n      <td>1</td>\n      <td>Venusaur</td>\n    </tr>\n    <tr>\n      <th>4</th>\n      <td>4</td>\n      <td>Fire</td>\n      <td>none</td>\n      <td>309</td>\n      <td>39</td>\n      <td>52</td>\n      <td>43</td>\n      <td>60</td>\n      <td>50</td>\n      <td>65</td>\n      <td>1</td>\n      <td>Charmander</td>\n    </tr>\n    <tr>\n      <th>...</th>\n      <td>...</td>\n      <td>...</td>\n      <td>...</td>\n      <td>...</td>\n      <td>...</td>\n      <td>...</td>\n      <td>...</td>\n      <td>...</td>\n      <td>...</td>\n      <td>...</td>\n      <td>...</td>\n      <td>...</td>\n    </tr>\n    <tr>\n      <th>1168</th>\n      <td>1004</td>\n      <td>Dark</td>\n      <td>Fire</td>\n      <td>570</td>\n      <td>55</td>\n      <td>80</td>\n      <td>80</td>\n      <td>135</td>\n      <td>120</td>\n      <td>100</td>\n      <td>9</td>\n      <td>Chi-Yu</td>\n    </tr>\n    <tr>\n      <th>1169</th>\n      <td>1005</td>\n      <td>Dragon</td>\n      <td>Dark</td>\n      <td>590</td>\n      <td>105</td>\n      <td>139</td>\n      <td>71</td>\n      <td>55</td>\n      <td>101</td>\n      <td>119</td>\n      <td>9</td>\n      <td>Roaring Moon</td>\n    </tr>\n    <tr>\n      <th>1170</th>\n      <td>1006</td>\n      <td>Fairy</td>\n      <td>Fighting</td>\n      <td>590</td>\n      <td>74</td>\n      <td>130</td>\n      <td>90</td>\n      <td>120</td>\n      <td>60</td>\n      <td>116</td>\n      <td>9</td>\n      <td>Iron Valiant</td>\n    </tr>\n    <tr>\n      <th>1171</th>\n      <td>1007</td>\n      <td>Fighting</td>\n      <td>Dragon</td>\n      <td>670</td>\n      <td>100</td>\n      <td>135</td>\n      <td>115</td>\n      <td>85</td>\n      <td>100</td>\n      <td>135</td>\n      <td>9</td>\n      <td>Koraidon</td>\n    </tr>\n    <tr>\n      <th>1172</th>\n      <td>1008</td>\n      <td>Electric</td>\n      <td>Dragon</td>\n      <td>670</td>\n      <td>100</td>\n      <td>85</td>\n      <td>100</td>\n      <td>135</td>\n      <td>115</td>\n      <td>135</td>\n      <td>9</td>\n      <td>Miraidon</td>\n    </tr>\n  </tbody>\n</table>\n<p>1118 rows × 12 columns</p>\n</div>"
     },
     "execution_count": 275,
     "metadata": {},
     "output_type": "execute_result"
    }
   ],
   "source": [
    "stats = stats.drop(columns=['name', 'variant'])\n",
    "stats"
   ],
   "metadata": {
    "collapsed": false
   }
  },
  {
   "cell_type": "code",
   "execution_count": 276,
   "outputs": [
    {
     "name": "stdout",
     "output_type": "stream",
     "text": [
      "(389, 14)\n"
     ]
    },
    {
     "data": {
      "text/plain": "          pokemon   count         usage  dexnum     type1     type2 total  \\\n0    Flutter Mane  795029  2.804525e-01     987     Ghost     Fairy   570   \n1      Iron Hands  724440  2.555517e-01     992  Fighting  Electric   570   \n2       Amoonguss  705360  2.488211e-01     591     Grass    Poison   464   \n3     Iron Bundle  663073  2.339040e-01     991       Ice     Water   570   \n4       Gholdengo  635767  2.242716e-01    1000     Steel     Ghost   550   \n..            ...     ...           ...     ...       ...       ...   ...   \n384        Smoliv       1  4.000000e-07     928     Grass    Normal   260   \n385     Bounsweet       1  4.000000e-07     761     Grass      none   210   \n386      Staravia       1  4.000000e-07     397    Normal    Flying   340   \n387         Nacli       1  4.000000e-07     932      Rock      none   280   \n388      Houndour       1  4.000000e-07     228      Dark      Fire   330   \n\n      hp  atk  def sp.atk sp.def  spd  generation  \n0     55   55   55    135    135  135           9  \n1    154  140  108     50     68   50           9  \n2    114   85   70     85     80   30           5  \n3     56   80  114    124     60  136           9  \n4     87   60   95    133     91   84           9  \n..   ...  ...  ...    ...    ...  ...         ...  \n384   41   35   45     58     51   30           9  \n385   42   30   38     30     38   32           7  \n386   55   75   50     40     40   80           4  \n387   55   55   75     35     35   25           9  \n388   45   60   30     80     50   65           2  \n\n[389 rows x 14 columns]",
      "text/html": "<div>\n<style scoped>\n    .dataframe tbody tr th:only-of-type {\n        vertical-align: middle;\n    }\n\n    .dataframe tbody tr th {\n        vertical-align: top;\n    }\n\n    .dataframe thead th {\n        text-align: right;\n    }\n</style>\n<table border=\"1\" class=\"dataframe\">\n  <thead>\n    <tr style=\"text-align: right;\">\n      <th></th>\n      <th>pokemon</th>\n      <th>count</th>\n      <th>usage</th>\n      <th>dexnum</th>\n      <th>type1</th>\n      <th>type2</th>\n      <th>total</th>\n      <th>hp</th>\n      <th>atk</th>\n      <th>def</th>\n      <th>sp.atk</th>\n      <th>sp.def</th>\n      <th>spd</th>\n      <th>generation</th>\n    </tr>\n  </thead>\n  <tbody>\n    <tr>\n      <th>0</th>\n      <td>Flutter Mane</td>\n      <td>795029</td>\n      <td>2.804525e-01</td>\n      <td>987</td>\n      <td>Ghost</td>\n      <td>Fairy</td>\n      <td>570</td>\n      <td>55</td>\n      <td>55</td>\n      <td>55</td>\n      <td>135</td>\n      <td>135</td>\n      <td>135</td>\n      <td>9</td>\n    </tr>\n    <tr>\n      <th>1</th>\n      <td>Iron Hands</td>\n      <td>724440</td>\n      <td>2.555517e-01</td>\n      <td>992</td>\n      <td>Fighting</td>\n      <td>Electric</td>\n      <td>570</td>\n      <td>154</td>\n      <td>140</td>\n      <td>108</td>\n      <td>50</td>\n      <td>68</td>\n      <td>50</td>\n      <td>9</td>\n    </tr>\n    <tr>\n      <th>2</th>\n      <td>Amoonguss</td>\n      <td>705360</td>\n      <td>2.488211e-01</td>\n      <td>591</td>\n      <td>Grass</td>\n      <td>Poison</td>\n      <td>464</td>\n      <td>114</td>\n      <td>85</td>\n      <td>70</td>\n      <td>85</td>\n      <td>80</td>\n      <td>30</td>\n      <td>5</td>\n    </tr>\n    <tr>\n      <th>3</th>\n      <td>Iron Bundle</td>\n      <td>663073</td>\n      <td>2.339040e-01</td>\n      <td>991</td>\n      <td>Ice</td>\n      <td>Water</td>\n      <td>570</td>\n      <td>56</td>\n      <td>80</td>\n      <td>114</td>\n      <td>124</td>\n      <td>60</td>\n      <td>136</td>\n      <td>9</td>\n    </tr>\n    <tr>\n      <th>4</th>\n      <td>Gholdengo</td>\n      <td>635767</td>\n      <td>2.242716e-01</td>\n      <td>1000</td>\n      <td>Steel</td>\n      <td>Ghost</td>\n      <td>550</td>\n      <td>87</td>\n      <td>60</td>\n      <td>95</td>\n      <td>133</td>\n      <td>91</td>\n      <td>84</td>\n      <td>9</td>\n    </tr>\n    <tr>\n      <th>...</th>\n      <td>...</td>\n      <td>...</td>\n      <td>...</td>\n      <td>...</td>\n      <td>...</td>\n      <td>...</td>\n      <td>...</td>\n      <td>...</td>\n      <td>...</td>\n      <td>...</td>\n      <td>...</td>\n      <td>...</td>\n      <td>...</td>\n      <td>...</td>\n    </tr>\n    <tr>\n      <th>384</th>\n      <td>Smoliv</td>\n      <td>1</td>\n      <td>4.000000e-07</td>\n      <td>928</td>\n      <td>Grass</td>\n      <td>Normal</td>\n      <td>260</td>\n      <td>41</td>\n      <td>35</td>\n      <td>45</td>\n      <td>58</td>\n      <td>51</td>\n      <td>30</td>\n      <td>9</td>\n    </tr>\n    <tr>\n      <th>385</th>\n      <td>Bounsweet</td>\n      <td>1</td>\n      <td>4.000000e-07</td>\n      <td>761</td>\n      <td>Grass</td>\n      <td>none</td>\n      <td>210</td>\n      <td>42</td>\n      <td>30</td>\n      <td>38</td>\n      <td>30</td>\n      <td>38</td>\n      <td>32</td>\n      <td>7</td>\n    </tr>\n    <tr>\n      <th>386</th>\n      <td>Staravia</td>\n      <td>1</td>\n      <td>4.000000e-07</td>\n      <td>397</td>\n      <td>Normal</td>\n      <td>Flying</td>\n      <td>340</td>\n      <td>55</td>\n      <td>75</td>\n      <td>50</td>\n      <td>40</td>\n      <td>40</td>\n      <td>80</td>\n      <td>4</td>\n    </tr>\n    <tr>\n      <th>387</th>\n      <td>Nacli</td>\n      <td>1</td>\n      <td>4.000000e-07</td>\n      <td>932</td>\n      <td>Rock</td>\n      <td>none</td>\n      <td>280</td>\n      <td>55</td>\n      <td>55</td>\n      <td>75</td>\n      <td>35</td>\n      <td>35</td>\n      <td>25</td>\n      <td>9</td>\n    </tr>\n    <tr>\n      <th>388</th>\n      <td>Houndour</td>\n      <td>1</td>\n      <td>4.000000e-07</td>\n      <td>228</td>\n      <td>Dark</td>\n      <td>Fire</td>\n      <td>330</td>\n      <td>45</td>\n      <td>60</td>\n      <td>30</td>\n      <td>80</td>\n      <td>50</td>\n      <td>65</td>\n      <td>2</td>\n    </tr>\n  </tbody>\n</table>\n<p>389 rows × 14 columns</p>\n</div>"
     },
     "execution_count": 276,
     "metadata": {},
     "output_type": "execute_result"
    }
   ],
   "source": [
    "df_gen9 = pd.merge(usage_stats, stats, on='pokemon', how='inner')\n",
    "print(df_gen9.shape)\n",
    "df_gen9"
   ],
   "metadata": {
    "collapsed": false
   }
  },
  {
   "cell_type": "markdown",
   "source": [
    "For the part of data analysis for my challenge I want to compare the relations between multiple datasets. This is so that I can observe relations between data and validate it with other data."
   ],
   "metadata": {
    "collapsed": false
   }
  },
  {
   "cell_type": "code",
   "execution_count": 277,
   "outputs": [
    {
     "name": "stdout",
     "output_type": "stream",
     "text": [
      "(386, 14)\n"
     ]
    },
    {
     "data": {
      "text/plain": "        pokemon   count         usage  dexnum   type1   type2 total   hp  atk  \\\n0    Whimsicott  634366  2.836809e-01     547   Grass   Fairy   480   60   67   \n1      Arcanine  571304  2.554803e-01      59    Fire    none   555   90  110   \n2     Dragapult  559661  2.502737e-01     887  Dragon   Ghost   600   88  120   \n3     Excadrill  524795  2.346820e-01     530  Ground   Steel   508  110  135   \n4     Gastrodon  482499  2.157678e-01     423   Water  Ground   475  111   83   \n..          ...     ...           ...     ...     ...     ...   ...  ...  ...   \n381     Litwick       1  4.000000e-07     607   Ghost    Fire   275   50   30   \n382    Rookidee       1  4.000000e-07     821  Flying    none   245   38   47   \n383   Vanillite       1  4.000000e-07     582     Ice    none   305   36   50   \n384      Golett       1  4.000000e-07     622  Ground   Ghost   303   59   74   \n385     Rhyhorn       1  4.000000e-07     111  Ground    Rock   345   80   85   \n\n    def sp.atk sp.def  spd  generation  \n0    85     77     75  116           5  \n1    80    100     80   95           1  \n2    75    100     75  142           8  \n3    60     50     65   88           5  \n4    68     92     82   39           4  \n..   ..    ...    ...  ...         ...  \n381  55     65     55   20           5  \n382  35     33     35   57           8  \n383  50     65     60   44           5  \n384  50     35     50   35           5  \n385  95     30     30   25           1  \n\n[386 rows x 14 columns]",
      "text/html": "<div>\n<style scoped>\n    .dataframe tbody tr th:only-of-type {\n        vertical-align: middle;\n    }\n\n    .dataframe tbody tr th {\n        vertical-align: top;\n    }\n\n    .dataframe thead th {\n        text-align: right;\n    }\n</style>\n<table border=\"1\" class=\"dataframe\">\n  <thead>\n    <tr style=\"text-align: right;\">\n      <th></th>\n      <th>pokemon</th>\n      <th>count</th>\n      <th>usage</th>\n      <th>dexnum</th>\n      <th>type1</th>\n      <th>type2</th>\n      <th>total</th>\n      <th>hp</th>\n      <th>atk</th>\n      <th>def</th>\n      <th>sp.atk</th>\n      <th>sp.def</th>\n      <th>spd</th>\n      <th>generation</th>\n    </tr>\n  </thead>\n  <tbody>\n    <tr>\n      <th>0</th>\n      <td>Whimsicott</td>\n      <td>634366</td>\n      <td>2.836809e-01</td>\n      <td>547</td>\n      <td>Grass</td>\n      <td>Fairy</td>\n      <td>480</td>\n      <td>60</td>\n      <td>67</td>\n      <td>85</td>\n      <td>77</td>\n      <td>75</td>\n      <td>116</td>\n      <td>5</td>\n    </tr>\n    <tr>\n      <th>1</th>\n      <td>Arcanine</td>\n      <td>571304</td>\n      <td>2.554803e-01</td>\n      <td>59</td>\n      <td>Fire</td>\n      <td>none</td>\n      <td>555</td>\n      <td>90</td>\n      <td>110</td>\n      <td>80</td>\n      <td>100</td>\n      <td>80</td>\n      <td>95</td>\n      <td>1</td>\n    </tr>\n    <tr>\n      <th>2</th>\n      <td>Dragapult</td>\n      <td>559661</td>\n      <td>2.502737e-01</td>\n      <td>887</td>\n      <td>Dragon</td>\n      <td>Ghost</td>\n      <td>600</td>\n      <td>88</td>\n      <td>120</td>\n      <td>75</td>\n      <td>100</td>\n      <td>75</td>\n      <td>142</td>\n      <td>8</td>\n    </tr>\n    <tr>\n      <th>3</th>\n      <td>Excadrill</td>\n      <td>524795</td>\n      <td>2.346820e-01</td>\n      <td>530</td>\n      <td>Ground</td>\n      <td>Steel</td>\n      <td>508</td>\n      <td>110</td>\n      <td>135</td>\n      <td>60</td>\n      <td>50</td>\n      <td>65</td>\n      <td>88</td>\n      <td>5</td>\n    </tr>\n    <tr>\n      <th>4</th>\n      <td>Gastrodon</td>\n      <td>482499</td>\n      <td>2.157678e-01</td>\n      <td>423</td>\n      <td>Water</td>\n      <td>Ground</td>\n      <td>475</td>\n      <td>111</td>\n      <td>83</td>\n      <td>68</td>\n      <td>92</td>\n      <td>82</td>\n      <td>39</td>\n      <td>4</td>\n    </tr>\n    <tr>\n      <th>...</th>\n      <td>...</td>\n      <td>...</td>\n      <td>...</td>\n      <td>...</td>\n      <td>...</td>\n      <td>...</td>\n      <td>...</td>\n      <td>...</td>\n      <td>...</td>\n      <td>...</td>\n      <td>...</td>\n      <td>...</td>\n      <td>...</td>\n      <td>...</td>\n    </tr>\n    <tr>\n      <th>381</th>\n      <td>Litwick</td>\n      <td>1</td>\n      <td>4.000000e-07</td>\n      <td>607</td>\n      <td>Ghost</td>\n      <td>Fire</td>\n      <td>275</td>\n      <td>50</td>\n      <td>30</td>\n      <td>55</td>\n      <td>65</td>\n      <td>55</td>\n      <td>20</td>\n      <td>5</td>\n    </tr>\n    <tr>\n      <th>382</th>\n      <td>Rookidee</td>\n      <td>1</td>\n      <td>4.000000e-07</td>\n      <td>821</td>\n      <td>Flying</td>\n      <td>none</td>\n      <td>245</td>\n      <td>38</td>\n      <td>47</td>\n      <td>35</td>\n      <td>33</td>\n      <td>35</td>\n      <td>57</td>\n      <td>8</td>\n    </tr>\n    <tr>\n      <th>383</th>\n      <td>Vanillite</td>\n      <td>1</td>\n      <td>4.000000e-07</td>\n      <td>582</td>\n      <td>Ice</td>\n      <td>none</td>\n      <td>305</td>\n      <td>36</td>\n      <td>50</td>\n      <td>50</td>\n      <td>65</td>\n      <td>60</td>\n      <td>44</td>\n      <td>5</td>\n    </tr>\n    <tr>\n      <th>384</th>\n      <td>Golett</td>\n      <td>1</td>\n      <td>4.000000e-07</td>\n      <td>622</td>\n      <td>Ground</td>\n      <td>Ghost</td>\n      <td>303</td>\n      <td>59</td>\n      <td>74</td>\n      <td>50</td>\n      <td>35</td>\n      <td>50</td>\n      <td>35</td>\n      <td>5</td>\n    </tr>\n    <tr>\n      <th>385</th>\n      <td>Rhyhorn</td>\n      <td>1</td>\n      <td>4.000000e-07</td>\n      <td>111</td>\n      <td>Ground</td>\n      <td>Rock</td>\n      <td>345</td>\n      <td>80</td>\n      <td>85</td>\n      <td>95</td>\n      <td>30</td>\n      <td>30</td>\n      <td>25</td>\n      <td>1</td>\n    </tr>\n  </tbody>\n</table>\n<p>386 rows × 14 columns</p>\n</div>"
     },
     "execution_count": 277,
     "metadata": {},
     "output_type": "execute_result"
    }
   ],
   "source": [
    "usage_stats = import_showdown_usage_stats(url = \"https://www.smogon.com/stats/2019-12/gen8vgc2020-0.txt\", filename=\"gen8vgc0.txt\")\n",
    "df_gen8 = pd.merge(usage_stats, stats, on='pokemon', how='inner')\n",
    "print(df_gen8.shape)\n",
    "df_gen8"
   ],
   "metadata": {
    "collapsed": false
   }
  },
  {
   "cell_type": "code",
   "execution_count": 278,
   "outputs": [
    {
     "name": "stdout",
     "output_type": "stream",
     "text": [
      "(670, 14)\n"
     ]
    },
    {
     "data": {
      "text/plain": "            pokemon   count     usage  dexnum     type1   type2 total   hp  \\\n0    Groudon-Primal  370472  0.458864     383    Ground    Fire   770  100   \n1     Kyogre-Primal  357562  0.442874     382     Water    none   770  100   \n2           Xerneas  257115  0.318461     716     Fairy    none   680  126   \n3          Smeargle  200185  0.247948     235    Normal    none   250   55   \n4        Talonflame  162816  0.201663     663      Fire  Flying   499   78   \n..              ...     ...       ...     ...       ...     ...   ...  ...   \n665          Snover       1  0.000001     459     Grass     Ice   334   60   \n666        Spinarak       1  0.000001     167       Bug  Poison   250   40   \n667       Palpitoad       1  0.000001     536     Water  Ground   384   75   \n668       Quilladin       1  0.000001     651     Grass    none   405   61   \n669          Tynamo       1  0.000001     602  Electric    none   275   35   \n\n     atk  def sp.atk sp.def  spd  generation  \n0    180  160    150     90   90           3  \n1    150   90    180    160   90           3  \n2    131   95    131     98   99           6  \n3     20   35     20     45   75           2  \n4     81   71     74     69  126           6  \n..   ...  ...    ...    ...  ...         ...  \n665   62   50     62     60   40           4  \n666   60   40     40     40   30           2  \n667   65   55     65     55   69           5  \n668   78   95     56     58   57           6  \n669   55   40     45     40   60           5  \n\n[670 rows x 14 columns]",
      "text/html": "<div>\n<style scoped>\n    .dataframe tbody tr th:only-of-type {\n        vertical-align: middle;\n    }\n\n    .dataframe tbody tr th {\n        vertical-align: top;\n    }\n\n    .dataframe thead th {\n        text-align: right;\n    }\n</style>\n<table border=\"1\" class=\"dataframe\">\n  <thead>\n    <tr style=\"text-align: right;\">\n      <th></th>\n      <th>pokemon</th>\n      <th>count</th>\n      <th>usage</th>\n      <th>dexnum</th>\n      <th>type1</th>\n      <th>type2</th>\n      <th>total</th>\n      <th>hp</th>\n      <th>atk</th>\n      <th>def</th>\n      <th>sp.atk</th>\n      <th>sp.def</th>\n      <th>spd</th>\n      <th>generation</th>\n    </tr>\n  </thead>\n  <tbody>\n    <tr>\n      <th>0</th>\n      <td>Groudon-Primal</td>\n      <td>370472</td>\n      <td>0.458864</td>\n      <td>383</td>\n      <td>Ground</td>\n      <td>Fire</td>\n      <td>770</td>\n      <td>100</td>\n      <td>180</td>\n      <td>160</td>\n      <td>150</td>\n      <td>90</td>\n      <td>90</td>\n      <td>3</td>\n    </tr>\n    <tr>\n      <th>1</th>\n      <td>Kyogre-Primal</td>\n      <td>357562</td>\n      <td>0.442874</td>\n      <td>382</td>\n      <td>Water</td>\n      <td>none</td>\n      <td>770</td>\n      <td>100</td>\n      <td>150</td>\n      <td>90</td>\n      <td>180</td>\n      <td>160</td>\n      <td>90</td>\n      <td>3</td>\n    </tr>\n    <tr>\n      <th>2</th>\n      <td>Xerneas</td>\n      <td>257115</td>\n      <td>0.318461</td>\n      <td>716</td>\n      <td>Fairy</td>\n      <td>none</td>\n      <td>680</td>\n      <td>126</td>\n      <td>131</td>\n      <td>95</td>\n      <td>131</td>\n      <td>98</td>\n      <td>99</td>\n      <td>6</td>\n    </tr>\n    <tr>\n      <th>3</th>\n      <td>Smeargle</td>\n      <td>200185</td>\n      <td>0.247948</td>\n      <td>235</td>\n      <td>Normal</td>\n      <td>none</td>\n      <td>250</td>\n      <td>55</td>\n      <td>20</td>\n      <td>35</td>\n      <td>20</td>\n      <td>45</td>\n      <td>75</td>\n      <td>2</td>\n    </tr>\n    <tr>\n      <th>4</th>\n      <td>Talonflame</td>\n      <td>162816</td>\n      <td>0.201663</td>\n      <td>663</td>\n      <td>Fire</td>\n      <td>Flying</td>\n      <td>499</td>\n      <td>78</td>\n      <td>81</td>\n      <td>71</td>\n      <td>74</td>\n      <td>69</td>\n      <td>126</td>\n      <td>6</td>\n    </tr>\n    <tr>\n      <th>...</th>\n      <td>...</td>\n      <td>...</td>\n      <td>...</td>\n      <td>...</td>\n      <td>...</td>\n      <td>...</td>\n      <td>...</td>\n      <td>...</td>\n      <td>...</td>\n      <td>...</td>\n      <td>...</td>\n      <td>...</td>\n      <td>...</td>\n      <td>...</td>\n    </tr>\n    <tr>\n      <th>665</th>\n      <td>Snover</td>\n      <td>1</td>\n      <td>0.000001</td>\n      <td>459</td>\n      <td>Grass</td>\n      <td>Ice</td>\n      <td>334</td>\n      <td>60</td>\n      <td>62</td>\n      <td>50</td>\n      <td>62</td>\n      <td>60</td>\n      <td>40</td>\n      <td>4</td>\n    </tr>\n    <tr>\n      <th>666</th>\n      <td>Spinarak</td>\n      <td>1</td>\n      <td>0.000001</td>\n      <td>167</td>\n      <td>Bug</td>\n      <td>Poison</td>\n      <td>250</td>\n      <td>40</td>\n      <td>60</td>\n      <td>40</td>\n      <td>40</td>\n      <td>40</td>\n      <td>30</td>\n      <td>2</td>\n    </tr>\n    <tr>\n      <th>667</th>\n      <td>Palpitoad</td>\n      <td>1</td>\n      <td>0.000001</td>\n      <td>536</td>\n      <td>Water</td>\n      <td>Ground</td>\n      <td>384</td>\n      <td>75</td>\n      <td>65</td>\n      <td>55</td>\n      <td>65</td>\n      <td>55</td>\n      <td>69</td>\n      <td>5</td>\n    </tr>\n    <tr>\n      <th>668</th>\n      <td>Quilladin</td>\n      <td>1</td>\n      <td>0.000001</td>\n      <td>651</td>\n      <td>Grass</td>\n      <td>none</td>\n      <td>405</td>\n      <td>61</td>\n      <td>78</td>\n      <td>95</td>\n      <td>56</td>\n      <td>58</td>\n      <td>57</td>\n      <td>6</td>\n    </tr>\n    <tr>\n      <th>669</th>\n      <td>Tynamo</td>\n      <td>1</td>\n      <td>0.000001</td>\n      <td>602</td>\n      <td>Electric</td>\n      <td>none</td>\n      <td>275</td>\n      <td>35</td>\n      <td>55</td>\n      <td>40</td>\n      <td>45</td>\n      <td>40</td>\n      <td>60</td>\n      <td>5</td>\n    </tr>\n  </tbody>\n</table>\n<p>670 rows × 14 columns</p>\n</div>"
     },
     "execution_count": 278,
     "metadata": {},
     "output_type": "execute_result"
    }
   ],
   "source": [
    "usage_stats = import_showdown_usage_stats(url = \"https://www.smogon.com/stats/2016-09/vgc2016-0.txt\", filename=\"gen7vgc0.txt\")\n",
    "df_gen7 = pd.merge(usage_stats, stats, on='pokemon', how='inner')\n",
    "print(df_gen7.shape)\n",
    "df_gen7"
   ],
   "metadata": {
    "collapsed": false
   }
  },
  {
   "cell_type": "markdown",
   "source": [
    "## Data Analysis"
   ],
   "metadata": {
    "collapsed": false
   }
  },
  {
   "cell_type": "code",
   "execution_count": 279,
   "outputs": [],
   "source": [
    "from matplotlib import pyplot as plt\n",
    "from pandas.plotting import parallel_coordinates\n",
    "import seaborn as sns\n",
    "%matplotlib inline"
   ],
   "metadata": {
    "collapsed": false
   }
  },
  {
   "cell_type": "code",
   "execution_count": 280,
   "outputs": [
    {
     "name": "stdout",
     "output_type": "stream",
     "text": [
      "[1150621, 883815, 1098007, 1064969, 1340569, 583281, 423514, 1143579, 9911308]\n",
      "[1869124, 551504, 836426, 2175059, 2769076, 450801, 855400, 3785967]\n",
      "[420988, 524353, 859719, 525877, 682304, 670392, 0]\n"
     ]
    },
    {
     "data": {
      "text/plain": "<Figure size 2000x1000 with 3 Axes>",
      "image/png": "[encoded data removed]"
     },
     "metadata": {},
     "output_type": "display_data"
    }
   ],
   "source": [
    "gen9_counts = []\n",
    "for x in range(1, 10):\n",
    "    gen9_counts.append(df_gen9.loc[df_gen9['generation'] == x, 'count'].sum())\n",
    "print(gen9_counts)\n",
    "\n",
    "gen8_counts = []\n",
    "for x in range(1, 9):\n",
    "    gen8_counts.append(df_gen8.loc[df_gen8['generation'] == x, 'count'].sum())\n",
    "print(gen8_counts)\n",
    "\n",
    "gen7_counts = []\n",
    "for x in range(1, 8):\n",
    "    gen7_counts.append(df_gen7.loc[df_gen7['generation'] == x, 'count'].sum())\n",
    "print(gen7_counts)\n",
    "\n",
    "plt.figure(figsize=[20, 10])\n",
    "\n",
    "plt.subplot(2,2,1)\n",
    "plt.pie(gen9_counts, labels=['Gen 1', 'Gen 2', 'Gen 3', 'Gen 4', 'Gen 5', 'Gen 6', 'Gen 7', 'Gen 8','Gen 9'], autopct='%1.1f%%')\n",
    "\n",
    "plt.subplot(2,2,2)\n",
    "plt.pie(gen8_counts, labels=['Gen 1', 'Gen 2', 'Gen 3', 'Gen 4', 'Gen 5', 'Gen 6', 'Gen 7', 'Gen 8'], autopct='%1.1f%%')\n",
    "\n",
    "plt.subplot(2,2,3)\n",
    "plt.pie(gen7_counts, labels=['Gen 1', 'Gen 2', 'Gen 3', 'Gen 4', 'Gen 5', 'Gen 6', 'Gen 7'], autopct='%1.1f%%')\n",
    "\n",
    "plt.show()"
   ],
   "metadata": {
    "collapsed": false
   }
  },
  {
   "cell_type": "code",
   "execution_count": 281,
   "outputs": [
    {
     "ename": "ValueError",
     "evalue": "No variables found for grid columns.",
     "output_type": "error",
     "traceback": [
      "\u001B[1;31m---------------------------------------------------------------------------\u001B[0m",
      "\u001B[1;31mValueError\u001B[0m                                Traceback (most recent call last)",
      "\u001B[1;32m~\\AppData\\Local\\Temp\\ipykernel_12124\\1578996907.py\u001B[0m in \u001B[0;36m<module>\u001B[1;34m\u001B[0m\n\u001B[0;32m      1\u001B[0m \u001B[0mplot_data\u001B[0m \u001B[1;33m=\u001B[0m \u001B[0mdf_gen9\u001B[0m\u001B[1;33m[\u001B[0m\u001B[1;33m[\u001B[0m\u001B[1;34m'count'\u001B[0m\u001B[1;33m,\u001B[0m \u001B[1;34m'hp'\u001B[0m\u001B[1;33m,\u001B[0m \u001B[1;34m'atk'\u001B[0m\u001B[1;33m,\u001B[0m \u001B[1;34m'def'\u001B[0m\u001B[1;33m,\u001B[0m \u001B[1;34m'sp.atk'\u001B[0m\u001B[1;33m,\u001B[0m \u001B[1;34m'sp.def'\u001B[0m\u001B[1;33m,\u001B[0m \u001B[1;34m'spd'\u001B[0m\u001B[1;33m]\u001B[0m\u001B[1;33m]\u001B[0m\u001B[1;33m\u001B[0m\u001B[1;33m\u001B[0m\u001B[0m\n\u001B[0;32m      2\u001B[0m \u001B[1;33m\u001B[0m\u001B[0m\n\u001B[1;32m----> 3\u001B[1;33m \u001B[0msns\u001B[0m\u001B[1;33m.\u001B[0m\u001B[0mpairplot\u001B[0m\u001B[1;33m(\u001B[0m\u001B[0mplot_data\u001B[0m\u001B[1;33m,\u001B[0m \u001B[0mhue\u001B[0m\u001B[1;33m=\u001B[0m\u001B[1;34m\"count\"\u001B[0m\u001B[1;33m)\u001B[0m\u001B[1;33m\u001B[0m\u001B[1;33m\u001B[0m\u001B[0m\n\u001B[0m",
      "\u001B[1;32m~\\anaconda3\\lib\\site-packages\\seaborn\\_decorators.py\u001B[0m in \u001B[0;36minner_f\u001B[1;34m(*args, **kwargs)\u001B[0m\n\u001B[0;32m     44\u001B[0m             )\n\u001B[0;32m     45\u001B[0m         \u001B[0mkwargs\u001B[0m\u001B[1;33m.\u001B[0m\u001B[0mupdate\u001B[0m\u001B[1;33m(\u001B[0m\u001B[1;33m{\u001B[0m\u001B[0mk\u001B[0m\u001B[1;33m:\u001B[0m \u001B[0marg\u001B[0m \u001B[1;32mfor\u001B[0m \u001B[0mk\u001B[0m\u001B[1;33m,\u001B[0m \u001B[0marg\u001B[0m \u001B[1;32min\u001B[0m \u001B[0mzip\u001B[0m\u001B[1;33m(\u001B[0m\u001B[0msig\u001B[0m\u001B[1;33m.\u001B[0m\u001B[0mparameters\u001B[0m\u001B[1;33m,\u001B[0m \u001B[0margs\u001B[0m\u001B[1;33m)\u001B[0m\u001B[1;33m}\u001B[0m\u001B[1;33m)\u001B[0m\u001B[1;33m\u001B[0m\u001B[1;33m\u001B[0m\u001B[0m\n\u001B[1;32m---> 46\u001B[1;33m         \u001B[1;32mreturn\u001B[0m \u001B[0mf\u001B[0m\u001B[1;33m(\u001B[0m\u001B[1;33m**\u001B[0m\u001B[0mkwargs\u001B[0m\u001B[1;33m)\u001B[0m\u001B[1;33m\u001B[0m\u001B[1;33m\u001B[0m\u001B[0m\n\u001B[0m\u001B[0;32m     47\u001B[0m     \u001B[1;32mreturn\u001B[0m \u001B[0minner_f\u001B[0m\u001B[1;33m\u001B[0m\u001B[1;33m\u001B[0m\u001B[0m\n\u001B[0;32m     48\u001B[0m \u001B[1;33m\u001B[0m\u001B[0m\n",
      "\u001B[1;32m~\\anaconda3\\lib\\site-packages\\seaborn\\axisgrid.py\u001B[0m in \u001B[0;36mpairplot\u001B[1;34m(data, hue, hue_order, palette, vars, x_vars, y_vars, kind, diag_kind, markers, height, aspect, corner, dropna, plot_kws, diag_kws, grid_kws, size)\u001B[0m\n\u001B[0;32m   2094\u001B[0m     \u001B[1;31m# Set up the PairGrid\u001B[0m\u001B[1;33m\u001B[0m\u001B[1;33m\u001B[0m\u001B[0m\n\u001B[0;32m   2095\u001B[0m     \u001B[0mgrid_kws\u001B[0m\u001B[1;33m.\u001B[0m\u001B[0msetdefault\u001B[0m\u001B[1;33m(\u001B[0m\u001B[1;34m\"diag_sharey\"\u001B[0m\u001B[1;33m,\u001B[0m \u001B[0mdiag_kind\u001B[0m \u001B[1;33m==\u001B[0m \u001B[1;34m\"hist\"\u001B[0m\u001B[1;33m)\u001B[0m\u001B[1;33m\u001B[0m\u001B[1;33m\u001B[0m\u001B[0m\n\u001B[1;32m-> 2096\u001B[1;33m     grid = PairGrid(data, vars=vars, x_vars=x_vars, y_vars=y_vars, hue=hue,\n\u001B[0m\u001B[0;32m   2097\u001B[0m                     \u001B[0mhue_order\u001B[0m\u001B[1;33m=\u001B[0m\u001B[0mhue_order\u001B[0m\u001B[1;33m,\u001B[0m \u001B[0mpalette\u001B[0m\u001B[1;33m=\u001B[0m\u001B[0mpalette\u001B[0m\u001B[1;33m,\u001B[0m \u001B[0mcorner\u001B[0m\u001B[1;33m=\u001B[0m\u001B[0mcorner\u001B[0m\u001B[1;33m,\u001B[0m\u001B[1;33m\u001B[0m\u001B[1;33m\u001B[0m\u001B[0m\n\u001B[0;32m   2098\u001B[0m                     height=height, aspect=aspect, dropna=dropna, **grid_kws)\n",
      "\u001B[1;32m~\\anaconda3\\lib\\site-packages\\seaborn\\_decorators.py\u001B[0m in \u001B[0;36minner_f\u001B[1;34m(*args, **kwargs)\u001B[0m\n\u001B[0;32m     44\u001B[0m             )\n\u001B[0;32m     45\u001B[0m         \u001B[0mkwargs\u001B[0m\u001B[1;33m.\u001B[0m\u001B[0mupdate\u001B[0m\u001B[1;33m(\u001B[0m\u001B[1;33m{\u001B[0m\u001B[0mk\u001B[0m\u001B[1;33m:\u001B[0m \u001B[0marg\u001B[0m \u001B[1;32mfor\u001B[0m \u001B[0mk\u001B[0m\u001B[1;33m,\u001B[0m \u001B[0marg\u001B[0m \u001B[1;32min\u001B[0m \u001B[0mzip\u001B[0m\u001B[1;33m(\u001B[0m\u001B[0msig\u001B[0m\u001B[1;33m.\u001B[0m\u001B[0mparameters\u001B[0m\u001B[1;33m,\u001B[0m \u001B[0margs\u001B[0m\u001B[1;33m)\u001B[0m\u001B[1;33m}\u001B[0m\u001B[1;33m)\u001B[0m\u001B[1;33m\u001B[0m\u001B[1;33m\u001B[0m\u001B[0m\n\u001B[1;32m---> 46\u001B[1;33m         \u001B[1;32mreturn\u001B[0m \u001B[0mf\u001B[0m\u001B[1;33m(\u001B[0m\u001B[1;33m**\u001B[0m\u001B[0mkwargs\u001B[0m\u001B[1;33m)\u001B[0m\u001B[1;33m\u001B[0m\u001B[1;33m\u001B[0m\u001B[0m\n\u001B[0m\u001B[0;32m     47\u001B[0m     \u001B[1;32mreturn\u001B[0m \u001B[0minner_f\u001B[0m\u001B[1;33m\u001B[0m\u001B[1;33m\u001B[0m\u001B[0m\n\u001B[0;32m     48\u001B[0m \u001B[1;33m\u001B[0m\u001B[0m\n",
      "\u001B[1;32m~\\anaconda3\\lib\\site-packages\\seaborn\\axisgrid.py\u001B[0m in \u001B[0;36m__init__\u001B[1;34m(self, data, hue, hue_order, palette, hue_kws, vars, x_vars, y_vars, corner, diag_sharey, height, aspect, layout_pad, despine, dropna, size)\u001B[0m\n\u001B[0;32m   1231\u001B[0m \u001B[1;33m\u001B[0m\u001B[0m\n\u001B[0;32m   1232\u001B[0m         \u001B[1;32mif\u001B[0m \u001B[1;32mnot\u001B[0m \u001B[0mx_vars\u001B[0m\u001B[1;33m:\u001B[0m\u001B[1;33m\u001B[0m\u001B[1;33m\u001B[0m\u001B[0m\n\u001B[1;32m-> 1233\u001B[1;33m             \u001B[1;32mraise\u001B[0m \u001B[0mValueError\u001B[0m\u001B[1;33m(\u001B[0m\u001B[1;34m\"No variables found for grid columns.\"\u001B[0m\u001B[1;33m)\u001B[0m\u001B[1;33m\u001B[0m\u001B[1;33m\u001B[0m\u001B[0m\n\u001B[0m\u001B[0;32m   1234\u001B[0m         \u001B[1;32mif\u001B[0m \u001B[1;32mnot\u001B[0m \u001B[0my_vars\u001B[0m\u001B[1;33m:\u001B[0m\u001B[1;33m\u001B[0m\u001B[1;33m\u001B[0m\u001B[0m\n\u001B[0;32m   1235\u001B[0m             \u001B[1;32mraise\u001B[0m \u001B[0mValueError\u001B[0m\u001B[1;33m(\u001B[0m\u001B[1;34m\"No variables found for grid rows.\"\u001B[0m\u001B[1;33m)\u001B[0m\u001B[1;33m\u001B[0m\u001B[1;33m\u001B[0m\u001B[0m\n",
      "\u001B[1;31mValueError\u001B[0m: No variables found for grid columns."
     ]
    }
   ],
   "source": [
    "plot_data = df_gen9[['count', 'hp', 'atk', 'def', 'sp.atk', 'sp.def', 'spd']]\n",
    "\n",
    "sns.pairplot(plot_data, hue=\"count\")"
   ],
   "metadata": {
    "collapsed": false
   }
  }
 ],
 "metadata": {
  "kernelspec": {
   "display_name": "Python 3",
   "language": "python",
   "name": "python3"
  },
  "language_info": {
   "codemirror_mode": {
    "name": "ipython",
    "version": 2
   },
   "file_extension": ".py",
   "mimetype": "text/x-python",
   "name": "python",
   "nbconvert_exporter": "python",
   "pygments_lexer": "ipython2",
   "version": "2.7.6"
  }
 },
 "nbformat": 4,
 "nbformat_minor": 0
}
