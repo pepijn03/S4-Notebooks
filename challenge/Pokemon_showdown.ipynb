{
 "cells": [
  {
   "cell_type": "markdown",
   "source": [
    "# Pokemon showdown challenge"
   ],
   "metadata": {
    "collapsed": false
   }
  },
  {
   "cell_type": "code",
   "execution_count": 145,
   "outputs": [],
   "source": [
    "import pandas as pd\n",
    "import urllib.request as urllib, zipfile, os"
   ],
   "metadata": {
    "collapsed": false
   }
  },
  {
   "cell_type": "code",
   "execution_count": 146,
   "outputs": [],
   "source": [
    "def import_showdown_usage_stats(url, filename): # file url and name for local storage\n",
    "    # location for datafile\n",
    "    datafolder = 'data/'\n",
    "    #download file from url to local storage\n",
    "    downloaded = urllib.urlopen(url)\n",
    "    buf = downloaded.read()\n",
    "\n",
    "    try:\n",
    "        os.mkdir(datafolder)\n",
    "    except FileExistsError:\n",
    "        pass\n",
    "\n",
    "    with open(datafolder + filename, 'wb') as f:\n",
    "        f.write(buf)\n",
    "    # import dataframe\n",
    "    df = pd.read_csv(datafolder + filename, sep=\"|\",skiprows=5,names=[\"rank\",\"pokemon\",\"usage\",\"count\",],usecols=[1,2,3,4])\n",
    "    # drop any NaNs we find\n",
    "    df.dropna(inplace=True)\n",
    "    # changing data type of the columns\n",
    "    for k, v in {\"rank\":int,\"pokemon\":str, \"usage\":str, \"count\":int}.items():\n",
    "        df[k] = df[k].astype(v)\n",
    "    # fixing leading/trailing white spaces\n",
    "    df[\"pokemon\"] = df[\"pokemon\"].str.strip()\n",
    "    df[\"usage\"] = df[\"usage\"].str.strip()\n",
    "    # fixing format of string to not use '%'\n",
    "    df[\"usage\"] = df[\"usage\"].str.rstrip('%')\n",
    "    # change datatype of usage_%\n",
    "    df[\"usage\"] = df[\"usage\"].astype(float) / 100\n",
    "    # get rid of unnecessary columns\n",
    "    df = df[['pokemon' ,'count' ,'usage']]\n",
    "    return df"
   ],
   "metadata": {
    "collapsed": false
   }
  },
  {
   "cell_type": "code",
   "execution_count": 171,
   "outputs": [
    {
     "name": "stdout",
     "output_type": "stream",
     "text": [
      "(393, 3)\n"
     ]
    },
    {
     "data": {
      "text/plain": "        pokemon   count     usage\n0  Flutter Mane  795029  0.280452\n1    Iron Hands  724440  0.255552\n2     Amoonguss  705360  0.248821\n3   Iron Bundle  663073  0.233904\n4     Gholdengo  635767  0.224272",
      "text/html": "<div>\n<style scoped>\n    .dataframe tbody tr th:only-of-type {\n        vertical-align: middle;\n    }\n\n    .dataframe tbody tr th {\n        vertical-align: top;\n    }\n\n    .dataframe thead th {\n        text-align: right;\n    }\n</style>\n<table border=\"1\" class=\"dataframe\">\n  <thead>\n    <tr style=\"text-align: right;\">\n      <th></th>\n      <th>pokemon</th>\n      <th>count</th>\n      <th>usage</th>\n    </tr>\n  </thead>\n  <tbody>\n    <tr>\n      <th>0</th>\n      <td>Flutter Mane</td>\n      <td>795029</td>\n      <td>0.280452</td>\n    </tr>\n    <tr>\n      <th>1</th>\n      <td>Iron Hands</td>\n      <td>724440</td>\n      <td>0.255552</td>\n    </tr>\n    <tr>\n      <th>2</th>\n      <td>Amoonguss</td>\n      <td>705360</td>\n      <td>0.248821</td>\n    </tr>\n    <tr>\n      <th>3</th>\n      <td>Iron Bundle</td>\n      <td>663073</td>\n      <td>0.233904</td>\n    </tr>\n    <tr>\n      <th>4</th>\n      <td>Gholdengo</td>\n      <td>635767</td>\n      <td>0.224272</td>\n    </tr>\n  </tbody>\n</table>\n</div>"
     },
     "execution_count": 171,
     "metadata": {},
     "output_type": "execute_result"
    }
   ],
   "source": [
    "usage_stats = import_showdown_usage_stats(url = \"https://www.smogon.com/stats/2023-01/gen9vgc2023series2-0.txt\", filename=\"gen9s2vgc0.txt\")\n",
    "print(usage_stats.shape)\n",
    "usage_stats.head()"
   ],
   "metadata": {
    "collapsed": false
   }
  },
  {
   "cell_type": "code",
   "execution_count": 172,
   "outputs": [
    {
     "name": "stdout",
     "output_type": "stream",
     "text": [
      "(422, 8)\n"
     ]
    },
    {
     "data": {
      "text/plain": "               pokemon   hp  attack  defence  sp.attack  sp.defence  speed  \\\n0             Koraidon  100     135      115         85         100    135   \n1             Miraidon  100      85      100        135         115    135   \n2              Slaking  150     160      100         95          65    100   \n3  Palafin (Hero Form)  100     160       97        106          87    100   \n4             Garchomp  108     130       95         80          85    102   \n\n   total  \n0    670  \n1    670  \n2    670  \n3    650  \n4    600  ",
      "text/html": "<div>\n<style scoped>\n    .dataframe tbody tr th:only-of-type {\n        vertical-align: middle;\n    }\n\n    .dataframe tbody tr th {\n        vertical-align: top;\n    }\n\n    .dataframe thead th {\n        text-align: right;\n    }\n</style>\n<table border=\"1\" class=\"dataframe\">\n  <thead>\n    <tr style=\"text-align: right;\">\n      <th></th>\n      <th>pokemon</th>\n      <th>hp</th>\n      <th>attack</th>\n      <th>defence</th>\n      <th>sp.attack</th>\n      <th>sp.defence</th>\n      <th>speed</th>\n      <th>total</th>\n    </tr>\n  </thead>\n  <tbody>\n    <tr>\n      <th>0</th>\n      <td>Koraidon</td>\n      <td>100</td>\n      <td>135</td>\n      <td>115</td>\n      <td>85</td>\n      <td>100</td>\n      <td>135</td>\n      <td>670</td>\n    </tr>\n    <tr>\n      <th>1</th>\n      <td>Miraidon</td>\n      <td>100</td>\n      <td>85</td>\n      <td>100</td>\n      <td>135</td>\n      <td>115</td>\n      <td>135</td>\n      <td>670</td>\n    </tr>\n    <tr>\n      <th>2</th>\n      <td>Slaking</td>\n      <td>150</td>\n      <td>160</td>\n      <td>100</td>\n      <td>95</td>\n      <td>65</td>\n      <td>100</td>\n      <td>670</td>\n    </tr>\n    <tr>\n      <th>3</th>\n      <td>Palafin (Hero Form)</td>\n      <td>100</td>\n      <td>160</td>\n      <td>97</td>\n      <td>106</td>\n      <td>87</td>\n      <td>100</td>\n      <td>650</td>\n    </tr>\n    <tr>\n      <th>4</th>\n      <td>Garchomp</td>\n      <td>108</td>\n      <td>130</td>\n      <td>95</td>\n      <td>80</td>\n      <td>85</td>\n      <td>102</td>\n      <td>600</td>\n    </tr>\n  </tbody>\n</table>\n</div>"
     },
     "execution_count": 172,
     "metadata": {},
     "output_type": "execute_result"
    }
   ],
   "source": [
    "names = [\"pokemon\",\"hp\",\"attack\",\"defence\",\"sp.attack\",\"sp.defence\",\"speed\",\"total\"]\n",
    "stats = pd.read_csv(\"./data/gen_9.csv\",names=names)\n",
    "stats[\"pokemon\"] = stats[\"pokemon\"].str.strip()\n",
    "print(stats.shape)\n",
    "stats.head()\n"
   ],
   "metadata": {
    "collapsed": false
   }
  },
  {
   "cell_type": "code",
   "execution_count": 167,
   "outputs": [
    {
     "data": {
      "text/plain": "(368, 10)"
     },
     "execution_count": 167,
     "metadata": {},
     "output_type": "execute_result"
    }
   ],
   "source": [
    "df = pd.merge(usage_stats, stats )\n",
    "df.shape"
   ],
   "metadata": {
    "collapsed": false
   }
  }
 ],
 "metadata": {
  "kernelspec": {
   "display_name": "Python 3",
   "language": "python",
   "name": "python3"
  },
  "language_info": {
   "codemirror_mode": {
    "name": "ipython",
    "version": 2
   },
   "file_extension": ".py",
   "mimetype": "text/x-python",
   "name": "python",
   "nbconvert_exporter": "python",
   "pygments_lexer": "ipython2",
   "version": "2.7.6"
  }
 },
 "nbformat": 4,
 "nbformat_minor": 0
}
