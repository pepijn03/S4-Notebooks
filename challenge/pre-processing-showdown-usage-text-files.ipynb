{
 "cells": [
  {
   "cell_type": "markdown",
   "metadata": {
    "_cell_guid": "b1076dfc-b9ad-4769-8c92-a6c4dae69d19",
    "_uuid": "8f2839f25d086af736a60e9eeb907d3b93b6e0e5",
    "papermill": {
     "duration": 0.010773,
     "end_time": "2021-02-19T02:32:27.341938",
     "exception": false,
     "start_time": "2021-02-19T02:32:27.331165",
     "status": "completed"
    },
    "tags": []
   },
   "source": [
    "# Pre-Processing\n",
    "The purpose of this notebook is to highlight how to import the usage data from Pokemon Showdown and save in a more Pandas-friendly output.\n",
    "\n",
    "The dataframes created here are also provided as CSV files in the database."
   ]
  },
  {
   "cell_type": "code",
   "execution_count": 1,
   "metadata": {
    "execution": {
     "iopub.execute_input": "2021-02-19T02:32:27.366758Z",
     "iopub.status.busy": "2021-02-19T02:32:27.365749Z",
     "iopub.status.idle": "2021-02-19T02:32:27.369617Z",
     "shell.execute_reply": "2021-02-19T02:32:27.368921Z"
    },
    "papermill": {
     "duration": 0.018656,
     "end_time": "2021-02-19T02:32:27.369837",
     "exception": false,
     "start_time": "2021-02-19T02:32:27.351181",
     "status": "completed"
    },
    "tags": []
   },
   "outputs": [],
   "source": [
    "import pandas as pd\n",
    "import re # helps with separating strings with multiple delimiters"
   ]
  },
  {
   "cell_type": "markdown",
   "metadata": {
    "papermill": {
     "duration": 0.008603,
     "end_time": "2021-02-19T02:32:27.387619",
     "exception": false,
     "start_time": "2021-02-19T02:32:27.379016",
     "status": "completed"
    },
    "tags": []
   },
   "source": [
    "## Importing Raw Showdown Data\n",
    "The Showdown data is a \"cute\" format that needs to be coaxed into a proper dataframe. The data columns are more or less split by the pipe (`|`) symbol so we can use that as our delimiter. Then we skip the first few rows, define our own column names, and use specific columns that contain the more interesting data. Again, you can view the raw format [here](https://www.smogon.com/stats/2020-12/gen8vgc2021-0.txt) as an example."
   ]
  },
  {
   "cell_type": "code",
   "execution_count": 2,
   "metadata": {
    "execution": {
     "iopub.execute_input": "2021-02-19T02:32:27.408930Z",
     "iopub.status.busy": "2021-02-19T02:32:27.408224Z",
     "iopub.status.idle": "2021-02-19T02:32:27.416823Z",
     "shell.execute_reply": "2021-02-19T02:32:27.417365Z"
    },
    "papermill": {
     "duration": 0.02108,
     "end_time": "2021-02-19T02:32:27.417568",
     "exception": false,
     "start_time": "2021-02-19T02:32:27.396488",
     "status": "completed"
    },
    "tags": []
   },
   "outputs": [],
   "source": [
    "def import_showdown_usage_stats(filepath=\"../input/gen8-vgc-december-series-7-usage-stats\", filename=\"2021-01\"):\n",
    "    \"\"\"\n",
    "    Imports the VGC series usage stats from Pokemon Showdown\n",
    "    \n",
    "    Inputs:\n",
    "    - filepath: string of the path to the file\n",
    "    - filename: string of the file name WITHOUT the extension - assumes txt\n",
    "    \n",
    "    Returns a dataframe with the Pokemon, the raw counts for usage, and the percentage of teams it is used on ordered by most used. \n",
    "    \"\"\"\n",
    "    # importing data, delimiting by pipe, skipping first few rows, defining our own column names, and only importing the necessary columns\n",
    "    usage_df = pd.read_csv(f\"{filepath}/{filename}.txt\", sep=\"|\",skiprows=5,names=[\"rank\",\"pokemon\",\"count\",],usecols=[1,2,4])\n",
    "    # drop any NaNs we find\n",
    "    usage_df.dropna(inplace=True)\n",
    "    # changing data type of the columns\n",
    "    for k, v in {\"rank\":int,\"pokemon\":str,\"count\":int}.items():\n",
    "        usage_df[k] = usage_df[k].astype(v)\n",
    "    # fixing leading/trailing white spaces\n",
    "    usage_df[\"pokemon\"] = usage_df[\"pokemon\"].str.strip()\n",
    "    \n",
    "    # getting the overall number of battles for percentage\n",
    "    usage_file = open(f\"{filepath}/{filename}.txt\",\"r\")\n",
    "    n = re.split(\"\\n| \",usage_file.readline())[3]\n",
    "    # adding in percentage column\n",
    "    usage_df[\"n\"] = int(n)\n",
    "    usage_df[\"percent\"] = usage_df[\"count\"] / int(n)\n",
    "    \n",
    "    return usage_df.set_index(\"pokemon\")"
   ]
  },
  {
   "cell_type": "markdown",
   "metadata": {
    "papermill": {
     "duration": 0.011362,
     "end_time": "2021-02-19T02:32:27.437837",
     "exception": false,
     "start_time": "2021-02-19T02:32:27.426475",
     "status": "completed"
    },
    "tags": []
   },
   "source": [
    "With the function defined above to help us import and process the text-formatted files, we can produce four sets of dataframes to work with:\n",
    "1. November Usage Stats - first month of Series 7\n",
    "2. December Usage Stats\n",
    "3. January Usage Stats - last month of Series 7\n",
    "4. Combined Usage Stats"
   ]
  },
  {
   "cell_type": "markdown",
   "metadata": {
    "papermill": {
     "duration": 0.01043,
     "end_time": "2021-02-19T02:32:27.459878",
     "exception": false,
     "start_time": "2021-02-19T02:32:27.449448",
     "status": "completed"
    },
    "tags": []
   },
   "source": [
    "## Monthly Usage Stats \n",
    "For these data, we simply import them, convert them to dataframes, and then save their output."
   ]
  },
  {
   "cell_type": "code",
   "execution_count": 3,
   "metadata": {
    "execution": {
     "iopub.execute_input": "2021-02-19T02:32:27.489056Z",
     "iopub.status.busy": "2021-02-19T02:32:27.488347Z",
     "iopub.status.idle": "2021-02-19T02:32:27.609778Z",
     "shell.execute_reply": "2021-02-19T02:32:27.608816Z"
    },
    "papermill": {
     "duration": 0.139483,
     "end_time": "2021-02-19T02:32:27.610024",
     "exception": false,
     "start_time": "2021-02-19T02:32:27.470541",
     "status": "completed"
    },
    "tags": []
   },
   "outputs": [
    {
     "name": "stdout",
     "output_type": "stream",
     "text": [
      "2020-11 \n",
      "                   rank    count        n   percent\n",
      "pokemon                                           \n",
      "Tapu Fini            1  1354612  1883573  0.719171\n",
      "Regieleki            2   924749  1883573  0.490955\n",
      "Incineroar           3   839666  1883573  0.445784\n",
      "Landorus-Therian     4   770399  1883573  0.409009\n",
      "Metagross            5   730940  1883573  0.388060\n",
      "2020-12 \n",
      "             rank   count        n   percent\n",
      "pokemon                                    \n",
      "Tapu Fini      1  677186  1287914  0.525801\n",
      "Incineroar     2  639683  1287914  0.496681\n",
      "Rillaboom      3  589514  1287914  0.457728\n",
      "Regieleki      4  566288  1287914  0.439694\n",
      "Urshifu        5  560059  1287914  0.434857\n",
      "2021-01 \n",
      "             rank   count        n   percent\n",
      "pokemon                                    \n",
      "Incineroar     1  691534  1153370  0.599577\n",
      "Rillaboom      2  557659  1153370  0.483504\n",
      "Tapu Fini      3  531015  1153370  0.460403\n",
      "Regieleki      4  466890  1153370  0.404805\n",
      "Urshifu        5  410550  1153370  0.355957\n"
     ]
    }
   ],
   "source": [
    "usage = {}\n",
    "months = [\"2020-11\",\"2020-12\",\"2021-01\"]\n",
    "for file in months:\n",
    "    usage[file] = import_showdown_usage_stats(filename=file)\n",
    "    \n",
    "for key, df in usage.items():\n",
    "    print(key,\"\\n\", df.head())"
   ]
  },
  {
   "cell_type": "markdown",
   "metadata": {
    "papermill": {
     "duration": 0.009379,
     "end_time": "2021-02-19T02:32:27.630060",
     "exception": false,
     "start_time": "2021-02-19T02:32:27.620681",
     "status": "completed"
    },
    "tags": []
   },
   "source": [
    "## Combined Usage Stats\n",
    "The combined usage stats might be of use, but take them with a grain of salt: the meta is constantly evolving to counteract new threats that are then counteracted themselves. Be weary of looking at these summary data.\n",
    "\n",
    "We will need the `numpy` library to help generate a list for us."
   ]
  },
  {
   "cell_type": "code",
   "execution_count": 4,
   "metadata": {
    "execution": {
     "iopub.execute_input": "2021-02-19T02:32:27.655355Z",
     "iopub.status.busy": "2021-02-19T02:32:27.654296Z",
     "iopub.status.idle": "2021-02-19T02:32:27.657374Z",
     "shell.execute_reply": "2021-02-19T02:32:27.657832Z"
    },
    "papermill": {
     "duration": 0.018541,
     "end_time": "2021-02-19T02:32:27.658065",
     "exception": false,
     "start_time": "2021-02-19T02:32:27.639524",
     "status": "completed"
    },
    "tags": []
   },
   "outputs": [],
   "source": [
    "import numpy as np"
   ]
  },
  {
   "cell_type": "markdown",
   "metadata": {
    "papermill": {
     "duration": 0.009865,
     "end_time": "2021-02-19T02:32:27.677605",
     "exception": false,
     "start_time": "2021-02-19T02:32:27.667740",
     "status": "completed"
    },
    "tags": []
   },
   "source": [
    "Now we create a function to help us combined data from all the monthly dataframes we generated before."
   ]
  },
  {
   "cell_type": "code",
   "execution_count": 5,
   "metadata": {
    "execution": {
     "iopub.execute_input": "2021-02-19T02:32:27.701249Z",
     "iopub.status.busy": "2021-02-19T02:32:27.700209Z",
     "iopub.status.idle": "2021-02-19T02:32:27.710203Z",
     "shell.execute_reply": "2021-02-19T02:32:27.709496Z"
    },
    "papermill": {
     "duration": 0.023012,
     "end_time": "2021-02-19T02:32:27.710386",
     "exception": false,
     "start_time": "2021-02-19T02:32:27.687374",
     "status": "completed"
    },
    "tags": []
   },
   "outputs": [],
   "source": [
    "def get_combined(usage_dict):\n",
    "    \"\"\"\n",
    "    Combines dataframes from the monthly usage statistics housed in the dictionary\n",
    "    \n",
    "    Inputs:\n",
    "    - usage_dict: dictionary of usage dataframes indexed by month\n",
    "    \n",
    "    Returns a dataframe with the information from each of the monthly dataframes combined.    \n",
    "    \"\"\"\n",
    "    combined_df = pd.concat([df for df in usage.values()],axis=0,join='outer')\n",
    "    aggregated_df = combined_df.groupby(combined_df.index).agg(sum)\n",
    "    # dropping rank and percent because they don't mean anything now\n",
    "    aggregated_df.drop([\"rank\",\"percent\"],axis=1,inplace=True)\n",
    "    # sorting and redefining rank\n",
    "    aggregated_df.sort_values(\"count\",ascending=False,inplace=True)\n",
    "    aggregated_df[\"rank\"] = np.arange(1,len(aggregated_df)+1,1)\n",
    "    # getting percent back\n",
    "    aggregated_df[\"n\"] = max(aggregated_df[\"n\"]) # overwriting n with total\n",
    "    aggregated_df[\"percent\"] = (aggregated_df[\"count\"]/aggregated_df[\"n\"]).astype(float)\n",
    "    \n",
    "    return aggregated_df"
   ]
  },
  {
   "cell_type": "code",
   "execution_count": 6,
   "metadata": {
    "execution": {
     "iopub.execute_input": "2021-02-19T02:32:27.736761Z",
     "iopub.status.busy": "2021-02-19T02:32:27.736110Z",
     "iopub.status.idle": "2021-02-19T02:32:27.762099Z",
     "shell.execute_reply": "2021-02-19T02:32:27.762566Z"
    },
    "papermill": {
     "duration": 0.042602,
     "end_time": "2021-02-19T02:32:27.762773",
     "exception": false,
     "start_time": "2021-02-19T02:32:27.720171",
     "status": "completed"
    },
    "tags": []
   },
   "outputs": [
    {
     "data": {
      "text/html": [
       "<div>\n",
       "<style scoped>\n",
       "    .dataframe tbody tr th:only-of-type {\n",
       "        vertical-align: middle;\n",
       "    }\n",
       "\n",
       "    .dataframe tbody tr th {\n",
       "        vertical-align: top;\n",
       "    }\n",
       "\n",
       "    .dataframe thead th {\n",
       "        text-align: right;\n",
       "    }\n",
       "</style>\n",
       "<table border=\"1\" class=\"dataframe\">\n",
       "  <thead>\n",
       "    <tr style=\"text-align: right;\">\n",
       "      <th></th>\n",
       "      <th>count</th>\n",
       "      <th>n</th>\n",
       "      <th>rank</th>\n",
       "      <th>percent</th>\n",
       "    </tr>\n",
       "    <tr>\n",
       "      <th>pokemon</th>\n",
       "      <th></th>\n",
       "      <th></th>\n",
       "      <th></th>\n",
       "      <th></th>\n",
       "    </tr>\n",
       "  </thead>\n",
       "  <tbody>\n",
       "    <tr>\n",
       "      <th>Tapu Fini</th>\n",
       "      <td>2562813</td>\n",
       "      <td>4324857</td>\n",
       "      <td>1</td>\n",
       "      <td>0.592578</td>\n",
       "    </tr>\n",
       "    <tr>\n",
       "      <th>Incineroar</th>\n",
       "      <td>2170883</td>\n",
       "      <td>4324857</td>\n",
       "      <td>2</td>\n",
       "      <td>0.501955</td>\n",
       "    </tr>\n",
       "    <tr>\n",
       "      <th>Regieleki</th>\n",
       "      <td>1957927</td>\n",
       "      <td>4324857</td>\n",
       "      <td>3</td>\n",
       "      <td>0.452715</td>\n",
       "    </tr>\n",
       "    <tr>\n",
       "      <th>Rillaboom</th>\n",
       "      <td>1731032</td>\n",
       "      <td>4324857</td>\n",
       "      <td>4</td>\n",
       "      <td>0.400252</td>\n",
       "    </tr>\n",
       "    <tr>\n",
       "      <th>Landorus-Therian</th>\n",
       "      <td>1603189</td>\n",
       "      <td>4324857</td>\n",
       "      <td>5</td>\n",
       "      <td>0.370692</td>\n",
       "    </tr>\n",
       "  </tbody>\n",
       "</table>\n",
       "</div>"
      ],
      "text/plain": [
       "                    count        n  rank   percent\n",
       "pokemon                                           \n",
       "Tapu Fini         2562813  4324857     1  0.592578\n",
       "Incineroar        2170883  4324857     2  0.501955\n",
       "Regieleki         1957927  4324857     3  0.452715\n",
       "Rillaboom         1731032  4324857     4  0.400252\n",
       "Landorus-Therian  1603189  4324857     5  0.370692"
      ]
     },
     "execution_count": 6,
     "metadata": {},
     "output_type": "execute_result"
    }
   ],
   "source": [
    "combined_df = get_combined(usage)\n",
    "combined_df.head()"
   ]
  },
  {
   "cell_type": "markdown",
   "metadata": {
    "papermill": {
     "duration": 0.0137,
     "end_time": "2021-02-19T02:32:27.786930",
     "exception": false,
     "start_time": "2021-02-19T02:32:27.773230",
     "status": "completed"
    },
    "tags": []
   },
   "source": [
    "### Note on Combined Usage Data\n",
    "Showdown allowed restricted Pokemon (for the upcoming series) prior to Series 8 being released for the cartridge game. Therefore, the last month of data and the combined dataframe have restricted Pokemon included.\n",
    "\n",
    "This pattern is likely to continue for future VGC development so only the first two months of data should be considered."
   ]
  },
  {
   "cell_type": "code",
   "execution_count": 7,
   "metadata": {
    "execution": {
     "iopub.execute_input": "2021-02-19T02:32:27.823616Z",
     "iopub.status.busy": "2021-02-19T02:32:27.822814Z",
     "iopub.status.idle": "2021-02-19T02:32:27.827831Z",
     "shell.execute_reply": "2021-02-19T02:32:27.828418Z"
    },
    "papermill": {
     "duration": 0.030409,
     "end_time": "2021-02-19T02:32:27.828630",
     "exception": false,
     "start_time": "2021-02-19T02:32:27.798221",
     "status": "completed"
    },
    "tags": []
   },
   "outputs": [
    {
     "data": {
      "text/html": [
       "<div>\n",
       "<style scoped>\n",
       "    .dataframe tbody tr th:only-of-type {\n",
       "        vertical-align: middle;\n",
       "    }\n",
       "\n",
       "    .dataframe tbody tr th {\n",
       "        vertical-align: top;\n",
       "    }\n",
       "\n",
       "    .dataframe thead th {\n",
       "        text-align: right;\n",
       "    }\n",
       "</style>\n",
       "<table border=\"1\" class=\"dataframe\">\n",
       "  <thead>\n",
       "    <tr style=\"text-align: right;\">\n",
       "      <th></th>\n",
       "      <th>rank</th>\n",
       "      <th>count</th>\n",
       "      <th>n</th>\n",
       "      <th>percent</th>\n",
       "    </tr>\n",
       "    <tr>\n",
       "      <th>pokemon</th>\n",
       "      <th></th>\n",
       "      <th></th>\n",
       "      <th></th>\n",
       "      <th></th>\n",
       "    </tr>\n",
       "  </thead>\n",
       "  <tbody>\n",
       "    <tr>\n",
       "      <th>Kyogre</th>\n",
       "      <td>54</td>\n",
       "      <td>62191</td>\n",
       "      <td>1153370</td>\n",
       "      <td>0.053921</td>\n",
       "    </tr>\n",
       "    <tr>\n",
       "      <th>Groudon</th>\n",
       "      <td>82</td>\n",
       "      <td>30503</td>\n",
       "      <td>1153370</td>\n",
       "      <td>0.026447</td>\n",
       "    </tr>\n",
       "    <tr>\n",
       "      <th>Yveltal</th>\n",
       "      <td>97</td>\n",
       "      <td>23685</td>\n",
       "      <td>1153370</td>\n",
       "      <td>0.020535</td>\n",
       "    </tr>\n",
       "    <tr>\n",
       "      <th>Xerneas</th>\n",
       "      <td>116</td>\n",
       "      <td>17470</td>\n",
       "      <td>1153370</td>\n",
       "      <td>0.015147</td>\n",
       "    </tr>\n",
       "    <tr>\n",
       "      <th>Palkia</th>\n",
       "      <td>175</td>\n",
       "      <td>7318</td>\n",
       "      <td>1153370</td>\n",
       "      <td>0.006345</td>\n",
       "    </tr>\n",
       "    <tr>\n",
       "      <th>Lugia</th>\n",
       "      <td>197</td>\n",
       "      <td>5779</td>\n",
       "      <td>1153370</td>\n",
       "      <td>0.005011</td>\n",
       "    </tr>\n",
       "    <tr>\n",
       "      <th>Zygarde</th>\n",
       "      <td>201</td>\n",
       "      <td>5626</td>\n",
       "      <td>1153370</td>\n",
       "      <td>0.004878</td>\n",
       "    </tr>\n",
       "    <tr>\n",
       "      <th>Reshiram</th>\n",
       "      <td>220</td>\n",
       "      <td>4724</td>\n",
       "      <td>1153370</td>\n",
       "      <td>0.004096</td>\n",
       "    </tr>\n",
       "    <tr>\n",
       "      <th>Mewtwo</th>\n",
       "      <td>254</td>\n",
       "      <td>3697</td>\n",
       "      <td>1153370</td>\n",
       "      <td>0.003205</td>\n",
       "    </tr>\n",
       "    <tr>\n",
       "      <th>Zekrom</th>\n",
       "      <td>293</td>\n",
       "      <td>2674</td>\n",
       "      <td>1153370</td>\n",
       "      <td>0.002318</td>\n",
       "    </tr>\n",
       "    <tr>\n",
       "      <th>Giratina</th>\n",
       "      <td>342</td>\n",
       "      <td>1671</td>\n",
       "      <td>1153370</td>\n",
       "      <td>0.001449</td>\n",
       "    </tr>\n",
       "    <tr>\n",
       "      <th>Kyurem</th>\n",
       "      <td>637</td>\n",
       "      <td>7</td>\n",
       "      <td>1153370</td>\n",
       "      <td>0.000006</td>\n",
       "    </tr>\n",
       "  </tbody>\n",
       "</table>\n",
       "</div>"
      ],
      "text/plain": [
       "          rank  count        n   percent\n",
       "pokemon                                 \n",
       "Kyogre      54  62191  1153370  0.053921\n",
       "Groudon     82  30503  1153370  0.026447\n",
       "Yveltal     97  23685  1153370  0.020535\n",
       "Xerneas    116  17470  1153370  0.015147\n",
       "Palkia     175   7318  1153370  0.006345\n",
       "Lugia      197   5779  1153370  0.005011\n",
       "Zygarde    201   5626  1153370  0.004878\n",
       "Reshiram   220   4724  1153370  0.004096\n",
       "Mewtwo     254   3697  1153370  0.003205\n",
       "Zekrom     293   2674  1153370  0.002318\n",
       "Giratina   342   1671  1153370  0.001449\n",
       "Kyurem     637      7  1153370  0.000006"
      ]
     },
     "execution_count": 7,
     "metadata": {},
     "output_type": "execute_result"
    }
   ],
   "source": [
    "last_month_df = usage[months[-1]]\n",
    "restricted_mons = last_month_df[last_month_df.index.isin([\"Mewtwo\",\"Lugia\",\"Ho-oh\",\"Groudon\",\"Kyogre\",\"Rayquaza\"\n",
    "                                                         \"Dialga\",\"Palkia\",\"Giratina\",\"Reshiram\",\"Zekrom\",\"Kyurem\",\n",
    "                                                         \"Xerneas\",\"Yveltal\",\"Zygarde\"])]\n",
    "restricted_mons"
   ]
  }
 ],
 "metadata": {
  "kernelspec": {
   "display_name": "Python 3",
   "language": "python",
   "name": "python3"
  },
  "language_info": {
   "codemirror_mode": {
    "name": "ipython",
    "version": 3
   },
   "file_extension": ".py",
   "mimetype": "text/x-python",
   "name": "python",
   "nbconvert_exporter": "python",
   "pygments_lexer": "ipython3",
   "version": "3.7.9"
  },
  "papermill": {
   "default_parameters": {},
   "duration": 7.714666,
   "end_time": "2021-02-19T02:32:28.552441",
   "environment_variables": {},
   "exception": null,
   "input_path": "__notebook__.ipynb",
   "output_path": "__notebook__.ipynb",
   "parameters": {},
   "start_time": "2021-02-19T02:32:20.837775",
   "version": "2.2.2"
  }
 },
 "nbformat": 4,
 "nbformat_minor": 4
}
