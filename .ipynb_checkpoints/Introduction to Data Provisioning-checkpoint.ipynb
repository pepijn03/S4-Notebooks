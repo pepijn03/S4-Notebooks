{
 "cells": [
  {
   "cell_type": "markdown",
   "id": "36e60f04",
   "metadata": {},
   "source": [
    "# Introduction to Data Provisioning\n",
    "## What requirements does your data has to meet in order to be able to make a prediction (determine your target variable first) based on the dataset?\n",
    "Om deze vraag te beantwoorden moet ik eerst een target variable bedenken. Dit zou ik moeten doen op basis van de dataset die ik wil gaan gebruiken. De dataset begrijpen is dus de eerste stap. De dataset die ik ga gebruiken is een dataset over de italiaanse wijnen die gemaakt zijn van drie verschillende soorten wijn. Hieruit wil ik halen of er een verbinding is tussen het alcohol percetage en de soort druif in de wijn. Hiervoor Heb ik eigenlijk alleen de soort druif nodig en he alcohol percentage. "
   ]
  },
  {
   "cell_type": "markdown",
   "id": "fd6b0b95",
   "metadata": {},
   "source": [
    "## How do you get your data? How is your data stored and is it accessible (also in the future)?\n",
    "De dataset die ik op dit moment gebruikt komt van de  universiteit van Irving in de Verenigde staten. Deze instantie is volledig openbaar dus het is sowieso bereikbaar voor iedereen zolang diegene een internet verbinding heeft. Verder is deze site al online sinds 2015 en is dus al langere tijd online. Ook wordt er momenteel gewerkt aan een nieuwe site die nog in de beta zit. Hierdoor denk ik dat deze bron nog lang zal bestaan."
   ]
  },
  {
   "cell_type": "markdown",
   "id": "ff1c188e",
   "metadata": {},
   "source": [
    "## Do you understand your data? Can you explain all the feature and instances (colummns and rows)? Can you visualize the charateristics of the data (also to others)?\n",
    "Deze data laat zien wat de hoeveelheid is van de overeenkomende ingredienten in de wijnen. De data is verzameld op basis van drie verschillende soorten druiven waarvan de wijn gemaakt wordt in een bepaalde regio in Italië. \n",
    "\n",
    "Hieronder laat ik zien voor welke ingrediën ik data heb."
   ]
  },
  {
   "cell_type": "code",
   "execution_count": 1,
   "id": "fe9e5d93",
   "metadata": {},
   "outputs": [
    {
     "data": {
      "text/plain": [
       "Grape\n",
       "1    59\n",
       "2    71\n",
       "3    48\n",
       "Name: Grape, dtype: int64"
      ]
     },
     "execution_count": 1,
     "metadata": {},
     "output_type": "execute_result"
    }
   ],
   "source": [
    "import pandas\n",
    "import csv\n",
    "columns = [\"Grape\",\"Alcohol\",\"Malic acid\",\"Ash\",\"Alcalinity of ash\",\"Magnesium\",\"Total phenols\",\"Flavanoids\",\"Nonflavanoid phenols\",\"Proanthocyanins\",\"Color intensisty\",\"Hue\",\"OD280/OD315 of diluted wines\",\"Proline\"]\n",
    "df = pandas.read_csv(\"https://archive.ics.uci.edu/ml/machine-learning-databases/wine/wine.data\", names=columns)\n",
    "group_info = df.groupby([\"Grape\"])[\"Grape\"].count()\n",
    "group_info\n",
    "\n",
    "    "
   ]
  },
  {
   "cell_type": "markdown",
   "id": "e67f57a3",
   "metadata": {},
   "source": [
    "## What transformations or preparations are needed to make sure the data(set) is ready to be 'fed into' a ML model?\n"
   ]
  }
 ],
 "metadata": {
  "kernelspec": {
   "display_name": "Python 3 (ipykernel)",
   "language": "python",
   "name": "python3"
  },
  "language_info": {
   "codemirror_mode": {
    "name": "ipython",
    "version": 3
   },
   "file_extension": ".py",
   "mimetype": "text/x-python",
   "name": "python",
   "nbconvert_exporter": "python",
   "pygments_lexer": "ipython3",
   "version": "3.10.6"
  }
 },
 "nbformat": 4,
 "nbformat_minor": 5
}
